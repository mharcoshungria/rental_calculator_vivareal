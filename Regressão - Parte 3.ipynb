{
 "cells": [
  {
   "cell_type": "code",
   "execution_count": null,
   "id": "f188e748",
   "metadata": {},
   "outputs": [],
   "source": [
    "# Checar quais features vamos precisar\n",
    "# >>> Escalonar os nossos dados\n",
    "# Definir os modelos baseline (modelos básicos)\n",
    "# Tunar hiperparâmetros (selecionar dos baseline quantos você quer). Escolher entre GridSearch e RandomSearch\n",
    "# Checar as métricas\n",
    "# Escolher o melhor modelo"
   ]
  },
  {
   "cell_type": "code",
   "execution_count": 1,
   "id": "d427e4bf",
   "metadata": {},
   "outputs": [],
   "source": [
    "import pandas as pd\n",
    "import warnings \n",
    "warnings.filterwarnings(\"ignore\")"
   ]
  },
  {
   "cell_type": "code",
   "execution_count": 66,
   "id": "931c9ff5",
   "metadata": {},
   "outputs": [],
   "source": [
    "dados = pd.read_csv('dados_apartamentos_limpo_zona.csv')\n",
    "dados_amen = pd.read_csv('dados_apartamentos_limpo_zona.csv')"
   ]
  },
  {
   "cell_type": "code",
   "execution_count": 60,
   "id": "9845c225",
   "metadata": {},
   "outputs": [
    {
     "data": {
      "text/plain": [
       "Index(['Unnamed: 0', 'area', 'endereco', 'quartos', 'banheiros', 'vagas',\n",
       "       'preco', 'condominio', 'amenidades', 'bairro', 'zona'],\n",
       "      dtype='object')"
      ]
     },
     "execution_count": 60,
     "metadata": {},
     "output_type": "execute_result"
    }
   ],
   "source": [
    "#dados = dados.drop(['Unnamed: 0','endereco','amenidades','bairro'],axis=1)\n",
    "dados_amen.columns\n",
    "#dados_amen.head()"
   ]
  },
  {
   "cell_type": "code",
   "execution_count": 67,
   "id": "fef8ed53",
   "metadata": {},
   "outputs": [
    {
     "data": {
      "text/html": [
       "<div>\n",
       "<style scoped>\n",
       "    .dataframe tbody tr th:only-of-type {\n",
       "        vertical-align: middle;\n",
       "    }\n",
       "\n",
       "    .dataframe tbody tr th {\n",
       "        vertical-align: top;\n",
       "    }\n",
       "\n",
       "    .dataframe thead th {\n",
       "        text-align: right;\n",
       "    }\n",
       "</style>\n",
       "<table border=\"1\" class=\"dataframe\">\n",
       "  <thead>\n",
       "    <tr style=\"text-align: right;\">\n",
       "      <th></th>\n",
       "      <th>area</th>\n",
       "      <th>quartos</th>\n",
       "      <th>banheiros</th>\n",
       "      <th>vagas</th>\n",
       "      <th>preco</th>\n",
       "      <th>condominio</th>\n",
       "      <th>amenidades</th>\n",
       "      <th>zona</th>\n",
       "    </tr>\n",
       "  </thead>\n",
       "  <tbody>\n",
       "    <tr>\n",
       "      <th>0</th>\n",
       "      <td>46</td>\n",
       "      <td>1</td>\n",
       "      <td>1</td>\n",
       "      <td>1</td>\n",
       "      <td>3400.00</td>\n",
       "      <td>600.00</td>\n",
       "      <td>Piscina\\nChurrasqueira\\nCondomínio fechado\\nAc...</td>\n",
       "      <td>Sul</td>\n",
       "    </tr>\n",
       "    <tr>\n",
       "      <th>1</th>\n",
       "      <td>240</td>\n",
       "      <td>5</td>\n",
       "      <td>5</td>\n",
       "      <td>4</td>\n",
       "      <td>15000.00</td>\n",
       "      <td>3300.00</td>\n",
       "      <td>Piscina\\nMobiliado\\nChurrasqueira\\nElevador\\nC...</td>\n",
       "      <td>Sul</td>\n",
       "    </tr>\n",
       "    <tr>\n",
       "      <th>2</th>\n",
       "      <td>205</td>\n",
       "      <td>3</td>\n",
       "      <td>4</td>\n",
       "      <td>2</td>\n",
       "      <td>7900.00</td>\n",
       "      <td>2380.00</td>\n",
       "      <td>Piscina\\nElevador\\nCondomínio fechado\\nAcademi...</td>\n",
       "      <td>Sul</td>\n",
       "    </tr>\n",
       "    <tr>\n",
       "      <th>3</th>\n",
       "      <td>56</td>\n",
       "      <td>2</td>\n",
       "      <td>2</td>\n",
       "      <td>1</td>\n",
       "      <td>2900.00</td>\n",
       "      <td>630.00</td>\n",
       "      <td>Piscina\\nChurrasqueira\\nElevador\\nAcademia\\nAc...</td>\n",
       "      <td>Sul</td>\n",
       "    </tr>\n",
       "    <tr>\n",
       "      <th>4</th>\n",
       "      <td>45</td>\n",
       "      <td>1</td>\n",
       "      <td>1</td>\n",
       "      <td>1</td>\n",
       "      <td>2800.00</td>\n",
       "      <td>612.00</td>\n",
       "      <td>Elevador\\nCondomínio fechado\\nAceita animais\\n...</td>\n",
       "      <td>Sul</td>\n",
       "    </tr>\n",
       "  </tbody>\n",
       "</table>\n",
       "</div>"
      ],
      "text/plain": [
       "   area  quartos  banheiros  vagas    preco  condominio  \\\n",
       "0    46        1          1      1  3400.00      600.00   \n",
       "1   240        5          5      4 15000.00     3300.00   \n",
       "2   205        3          4      2  7900.00     2380.00   \n",
       "3    56        2          2      1  2900.00      630.00   \n",
       "4    45        1          1      1  2800.00      612.00   \n",
       "\n",
       "                                          amenidades zona  \n",
       "0  Piscina\\nChurrasqueira\\nCondomínio fechado\\nAc...  Sul  \n",
       "1  Piscina\\nMobiliado\\nChurrasqueira\\nElevador\\nC...  Sul  \n",
       "2  Piscina\\nElevador\\nCondomínio fechado\\nAcademi...  Sul  \n",
       "3  Piscina\\nChurrasqueira\\nElevador\\nAcademia\\nAc...  Sul  \n",
       "4  Elevador\\nCondomínio fechado\\nAceita animais\\n...  Sul  "
      ]
     },
     "execution_count": 67,
     "metadata": {},
     "output_type": "execute_result"
    }
   ],
   "source": [
    "dados = dados.drop(['Unnamed: 0','endereco','bairro'],axis=1)\n",
    "dados.head()"
   ]
  },
  {
   "cell_type": "code",
   "execution_count": 62,
   "id": "a617db2a",
   "metadata": {},
   "outputs": [],
   "source": [
    "dados_amen = dados_amen[dados_amen['preco']<=20000]\n",
    "dados_amen = dados_amen[dados_amen['condominio']<=20000]"
   ]
  },
  {
   "cell_type": "code",
   "execution_count": 6,
   "id": "355e3d38",
   "metadata": {},
   "outputs": [
    {
     "data": {
      "text/html": [
       "<div>\n",
       "<style scoped>\n",
       "    .dataframe tbody tr th:only-of-type {\n",
       "        vertical-align: middle;\n",
       "    }\n",
       "\n",
       "    .dataframe tbody tr th {\n",
       "        vertical-align: top;\n",
       "    }\n",
       "\n",
       "    .dataframe thead th {\n",
       "        text-align: right;\n",
       "    }\n",
       "</style>\n",
       "<table border=\"1\" class=\"dataframe\">\n",
       "  <thead>\n",
       "    <tr style=\"text-align: right;\">\n",
       "      <th></th>\n",
       "      <th>area</th>\n",
       "      <th>quartos</th>\n",
       "      <th>banheiros</th>\n",
       "      <th>vagas</th>\n",
       "      <th>preco</th>\n",
       "      <th>condominio</th>\n",
       "    </tr>\n",
       "  </thead>\n",
       "  <tbody>\n",
       "    <tr>\n",
       "      <th>count</th>\n",
       "      <td>5907.000000</td>\n",
       "      <td>5907.000000</td>\n",
       "      <td>5907.000000</td>\n",
       "      <td>5907.000000</td>\n",
       "      <td>5907.000000</td>\n",
       "      <td>5907.000000</td>\n",
       "    </tr>\n",
       "    <tr>\n",
       "      <th>mean</th>\n",
       "      <td>80.198578</td>\n",
       "      <td>2.031996</td>\n",
       "      <td>1.955984</td>\n",
       "      <td>1.287286</td>\n",
       "      <td>3563.984256</td>\n",
       "      <td>935.954630</td>\n",
       "    </tr>\n",
       "    <tr>\n",
       "      <th>std</th>\n",
       "      <td>50.079862</td>\n",
       "      <td>0.870068</td>\n",
       "      <td>1.163312</td>\n",
       "      <td>1.032282</td>\n",
       "      <td>2804.551039</td>\n",
       "      <td>733.137835</td>\n",
       "    </tr>\n",
       "    <tr>\n",
       "      <th>min</th>\n",
       "      <td>11.000000</td>\n",
       "      <td>1.000000</td>\n",
       "      <td>1.000000</td>\n",
       "      <td>0.000000</td>\n",
       "      <td>500.000000</td>\n",
       "      <td>0.000000</td>\n",
       "    </tr>\n",
       "    <tr>\n",
       "      <th>25%</th>\n",
       "      <td>48.000000</td>\n",
       "      <td>1.000000</td>\n",
       "      <td>1.000000</td>\n",
       "      <td>1.000000</td>\n",
       "      <td>1925.000000</td>\n",
       "      <td>530.000000</td>\n",
       "    </tr>\n",
       "    <tr>\n",
       "      <th>50%</th>\n",
       "      <td>67.000000</td>\n",
       "      <td>2.000000</td>\n",
       "      <td>2.000000</td>\n",
       "      <td>1.000000</td>\n",
       "      <td>2700.000000</td>\n",
       "      <td>770.000000</td>\n",
       "    </tr>\n",
       "    <tr>\n",
       "      <th>75%</th>\n",
       "      <td>96.000000</td>\n",
       "      <td>3.000000</td>\n",
       "      <td>2.000000</td>\n",
       "      <td>2.000000</td>\n",
       "      <td>4000.000000</td>\n",
       "      <td>1100.000000</td>\n",
       "    </tr>\n",
       "    <tr>\n",
       "      <th>max</th>\n",
       "      <td>542.000000</td>\n",
       "      <td>5.000000</td>\n",
       "      <td>8.000000</td>\n",
       "      <td>40.000000</td>\n",
       "      <td>20000.000000</td>\n",
       "      <td>12500.000000</td>\n",
       "    </tr>\n",
       "  </tbody>\n",
       "</table>\n",
       "</div>"
      ],
      "text/plain": [
       "              area      quartos    banheiros        vagas         preco  \\\n",
       "count  5907.000000  5907.000000  5907.000000  5907.000000   5907.000000   \n",
       "mean     80.198578     2.031996     1.955984     1.287286   3563.984256   \n",
       "std      50.079862     0.870068     1.163312     1.032282   2804.551039   \n",
       "min      11.000000     1.000000     1.000000     0.000000    500.000000   \n",
       "25%      48.000000     1.000000     1.000000     1.000000   1925.000000   \n",
       "50%      67.000000     2.000000     2.000000     1.000000   2700.000000   \n",
       "75%      96.000000     3.000000     2.000000     2.000000   4000.000000   \n",
       "max     542.000000     5.000000     8.000000    40.000000  20000.000000   \n",
       "\n",
       "         condominio  \n",
       "count   5907.000000  \n",
       "mean     935.954630  \n",
       "std      733.137835  \n",
       "min        0.000000  \n",
       "25%      530.000000  \n",
       "50%      770.000000  \n",
       "75%     1100.000000  \n",
       "max    12500.000000  "
      ]
     },
     "execution_count": 6,
     "metadata": {},
     "output_type": "execute_result"
    }
   ],
   "source": [
    "dados.describe()"
   ]
  },
  {
   "cell_type": "code",
   "execution_count": 80,
   "id": "91fcc6c7",
   "metadata": {},
   "outputs": [],
   "source": [
    "y = dados.preco\n",
    "X = dados.drop(['preco'],axis=1)"
   ]
  },
  {
   "cell_type": "code",
   "execution_count": 81,
   "id": "298b9519",
   "metadata": {},
   "outputs": [
    {
     "data": {
      "text/html": [
       "<div>\n",
       "<style scoped>\n",
       "    .dataframe tbody tr th:only-of-type {\n",
       "        vertical-align: middle;\n",
       "    }\n",
       "\n",
       "    .dataframe tbody tr th {\n",
       "        vertical-align: top;\n",
       "    }\n",
       "\n",
       "    .dataframe thead th {\n",
       "        text-align: right;\n",
       "    }\n",
       "</style>\n",
       "<table border=\"1\" class=\"dataframe\">\n",
       "  <thead>\n",
       "    <tr style=\"text-align: right;\">\n",
       "      <th></th>\n",
       "      <th>area</th>\n",
       "      <th>quartos</th>\n",
       "      <th>banheiros</th>\n",
       "      <th>vagas</th>\n",
       "      <th>condominio</th>\n",
       "      <th>Piscina</th>\n",
       "      <th>Elevador</th>\n",
       "      <th>Churrasqueira</th>\n",
       "      <th>Varanda Gourmet</th>\n",
       "      <th>Salao de festas</th>\n",
       "      <th>Ar-condicionado</th>\n",
       "      <th>Academia</th>\n",
       "      <th>Lavanderia</th>\n",
       "      <th>Portaria 24h</th>\n",
       "      <th>Jardim</th>\n",
       "      <th>zona_Centro</th>\n",
       "      <th>zona_Leste</th>\n",
       "      <th>zona_Norte</th>\n",
       "      <th>zona_Oeste</th>\n",
       "      <th>zona_Sul</th>\n",
       "    </tr>\n",
       "  </thead>\n",
       "  <tbody>\n",
       "    <tr>\n",
       "      <th>0</th>\n",
       "      <td>46</td>\n",
       "      <td>1</td>\n",
       "      <td>1</td>\n",
       "      <td>1</td>\n",
       "      <td>600.00</td>\n",
       "      <td>1</td>\n",
       "      <td>0</td>\n",
       "      <td>1</td>\n",
       "      <td>0</td>\n",
       "      <td>0</td>\n",
       "      <td>0</td>\n",
       "      <td>1</td>\n",
       "      <td>0</td>\n",
       "      <td>0</td>\n",
       "      <td>0</td>\n",
       "      <td>0</td>\n",
       "      <td>0</td>\n",
       "      <td>0</td>\n",
       "      <td>0</td>\n",
       "      <td>1</td>\n",
       "    </tr>\n",
       "    <tr>\n",
       "      <th>1</th>\n",
       "      <td>240</td>\n",
       "      <td>5</td>\n",
       "      <td>5</td>\n",
       "      <td>4</td>\n",
       "      <td>3300.00</td>\n",
       "      <td>1</td>\n",
       "      <td>1</td>\n",
       "      <td>1</td>\n",
       "      <td>0</td>\n",
       "      <td>0</td>\n",
       "      <td>0</td>\n",
       "      <td>0</td>\n",
       "      <td>0</td>\n",
       "      <td>0</td>\n",
       "      <td>0</td>\n",
       "      <td>0</td>\n",
       "      <td>0</td>\n",
       "      <td>0</td>\n",
       "      <td>0</td>\n",
       "      <td>1</td>\n",
       "    </tr>\n",
       "    <tr>\n",
       "      <th>2</th>\n",
       "      <td>205</td>\n",
       "      <td>3</td>\n",
       "      <td>4</td>\n",
       "      <td>2</td>\n",
       "      <td>2380.00</td>\n",
       "      <td>1</td>\n",
       "      <td>1</td>\n",
       "      <td>0</td>\n",
       "      <td>0</td>\n",
       "      <td>0</td>\n",
       "      <td>0</td>\n",
       "      <td>1</td>\n",
       "      <td>0</td>\n",
       "      <td>0</td>\n",
       "      <td>0</td>\n",
       "      <td>0</td>\n",
       "      <td>0</td>\n",
       "      <td>0</td>\n",
       "      <td>0</td>\n",
       "      <td>1</td>\n",
       "    </tr>\n",
       "    <tr>\n",
       "      <th>3</th>\n",
       "      <td>56</td>\n",
       "      <td>2</td>\n",
       "      <td>2</td>\n",
       "      <td>1</td>\n",
       "      <td>630.00</td>\n",
       "      <td>1</td>\n",
       "      <td>1</td>\n",
       "      <td>1</td>\n",
       "      <td>0</td>\n",
       "      <td>0</td>\n",
       "      <td>0</td>\n",
       "      <td>1</td>\n",
       "      <td>0</td>\n",
       "      <td>0</td>\n",
       "      <td>0</td>\n",
       "      <td>0</td>\n",
       "      <td>0</td>\n",
       "      <td>0</td>\n",
       "      <td>0</td>\n",
       "      <td>1</td>\n",
       "    </tr>\n",
       "    <tr>\n",
       "      <th>4</th>\n",
       "      <td>45</td>\n",
       "      <td>1</td>\n",
       "      <td>1</td>\n",
       "      <td>1</td>\n",
       "      <td>612.00</td>\n",
       "      <td>0</td>\n",
       "      <td>1</td>\n",
       "      <td>0</td>\n",
       "      <td>0</td>\n",
       "      <td>0</td>\n",
       "      <td>0</td>\n",
       "      <td>0</td>\n",
       "      <td>0</td>\n",
       "      <td>0</td>\n",
       "      <td>1</td>\n",
       "      <td>0</td>\n",
       "      <td>0</td>\n",
       "      <td>0</td>\n",
       "      <td>0</td>\n",
       "      <td>1</td>\n",
       "    </tr>\n",
       "  </tbody>\n",
       "</table>\n",
       "</div>"
      ],
      "text/plain": [
       "   area  quartos  banheiros  vagas  condominio  Piscina  Elevador  \\\n",
       "0    46        1          1      1      600.00        1         0   \n",
       "1   240        5          5      4     3300.00        1         1   \n",
       "2   205        3          4      2     2380.00        1         1   \n",
       "3    56        2          2      1      630.00        1         1   \n",
       "4    45        1          1      1      612.00        0         1   \n",
       "\n",
       "   Churrasqueira  Varanda Gourmet  Salao de festas  Ar-condicionado  Academia  \\\n",
       "0              1                0                0                0         1   \n",
       "1              1                0                0                0         0   \n",
       "2              0                0                0                0         1   \n",
       "3              1                0                0                0         1   \n",
       "4              0                0                0                0         0   \n",
       "\n",
       "   Lavanderia  Portaria 24h  Jardim  zona_Centro  zona_Leste  zona_Norte  \\\n",
       "0           0             0       0            0           0           0   \n",
       "1           0             0       0            0           0           0   \n",
       "2           0             0       0            0           0           0   \n",
       "3           0             0       0            0           0           0   \n",
       "4           0             0       1            0           0           0   \n",
       "\n",
       "   zona_Oeste  zona_Sul  \n",
       "0           0         1  \n",
       "1           0         1  \n",
       "2           0         1  \n",
       "3           0         1  \n",
       "4           0         1  "
      ]
     },
     "execution_count": 81,
     "metadata": {},
     "output_type": "execute_result"
    }
   ],
   "source": [
    "X = pd.get_dummies(X)\n",
    "X.head()"
   ]
  },
  {
   "cell_type": "code",
   "execution_count": 82,
   "id": "dc5cb671",
   "metadata": {},
   "outputs": [],
   "source": [
    "from sklearn.model_selection import train_test_split"
   ]
  },
  {
   "cell_type": "code",
   "execution_count": 83,
   "id": "bc31180c",
   "metadata": {},
   "outputs": [],
   "source": [
    "X_train, X_test, y_train, y_test = train_test_split(X, y, test_size = 0.3, random_state = 42)"
   ]
  },
  {
   "cell_type": "code",
   "execution_count": 84,
   "id": "9184b9ca",
   "metadata": {},
   "outputs": [
    {
     "data": {
      "text/html": [
       "<div>\n",
       "<style scoped>\n",
       "    .dataframe tbody tr th:only-of-type {\n",
       "        vertical-align: middle;\n",
       "    }\n",
       "\n",
       "    .dataframe tbody tr th {\n",
       "        vertical-align: top;\n",
       "    }\n",
       "\n",
       "    .dataframe thead th {\n",
       "        text-align: right;\n",
       "    }\n",
       "</style>\n",
       "<table border=\"1\" class=\"dataframe\">\n",
       "  <thead>\n",
       "    <tr style=\"text-align: right;\">\n",
       "      <th></th>\n",
       "      <th>area</th>\n",
       "      <th>quartos</th>\n",
       "      <th>banheiros</th>\n",
       "      <th>vagas</th>\n",
       "      <th>condominio</th>\n",
       "      <th>Piscina</th>\n",
       "      <th>Elevador</th>\n",
       "      <th>Churrasqueira</th>\n",
       "      <th>Varanda Gourmet</th>\n",
       "      <th>Salao de festas</th>\n",
       "      <th>Ar-condicionado</th>\n",
       "      <th>Academia</th>\n",
       "      <th>Lavanderia</th>\n",
       "      <th>Portaria 24h</th>\n",
       "      <th>Jardim</th>\n",
       "      <th>zona_Centro</th>\n",
       "      <th>zona_Leste</th>\n",
       "      <th>zona_Norte</th>\n",
       "      <th>zona_Oeste</th>\n",
       "      <th>zona_Sul</th>\n",
       "    </tr>\n",
       "  </thead>\n",
       "  <tbody>\n",
       "    <tr>\n",
       "      <th>1189</th>\n",
       "      <td>114</td>\n",
       "      <td>3</td>\n",
       "      <td>3</td>\n",
       "      <td>3</td>\n",
       "      <td>1170.00</td>\n",
       "      <td>1</td>\n",
       "      <td>0</td>\n",
       "      <td>1</td>\n",
       "      <td>0</td>\n",
       "      <td>0</td>\n",
       "      <td>0</td>\n",
       "      <td>0</td>\n",
       "      <td>0</td>\n",
       "      <td>0</td>\n",
       "      <td>1</td>\n",
       "      <td>0</td>\n",
       "      <td>0</td>\n",
       "      <td>0</td>\n",
       "      <td>0</td>\n",
       "      <td>1</td>\n",
       "    </tr>\n",
       "    <tr>\n",
       "      <th>175</th>\n",
       "      <td>122</td>\n",
       "      <td>3</td>\n",
       "      <td>4</td>\n",
       "      <td>2</td>\n",
       "      <td>2130.00</td>\n",
       "      <td>0</td>\n",
       "      <td>1</td>\n",
       "      <td>0</td>\n",
       "      <td>0</td>\n",
       "      <td>0</td>\n",
       "      <td>0</td>\n",
       "      <td>1</td>\n",
       "      <td>0</td>\n",
       "      <td>0</td>\n",
       "      <td>1</td>\n",
       "      <td>0</td>\n",
       "      <td>0</td>\n",
       "      <td>0</td>\n",
       "      <td>0</td>\n",
       "      <td>1</td>\n",
       "    </tr>\n",
       "    <tr>\n",
       "      <th>2057</th>\n",
       "      <td>75</td>\n",
       "      <td>2</td>\n",
       "      <td>1</td>\n",
       "      <td>2</td>\n",
       "      <td>1040.00</td>\n",
       "      <td>1</td>\n",
       "      <td>1</td>\n",
       "      <td>0</td>\n",
       "      <td>0</td>\n",
       "      <td>0</td>\n",
       "      <td>0</td>\n",
       "      <td>0</td>\n",
       "      <td>0</td>\n",
       "      <td>0</td>\n",
       "      <td>0</td>\n",
       "      <td>0</td>\n",
       "      <td>0</td>\n",
       "      <td>0</td>\n",
       "      <td>0</td>\n",
       "      <td>1</td>\n",
       "    </tr>\n",
       "    <tr>\n",
       "      <th>927</th>\n",
       "      <td>45</td>\n",
       "      <td>1</td>\n",
       "      <td>1</td>\n",
       "      <td>1</td>\n",
       "      <td>0.00</td>\n",
       "      <td>1</td>\n",
       "      <td>1</td>\n",
       "      <td>1</td>\n",
       "      <td>0</td>\n",
       "      <td>0</td>\n",
       "      <td>0</td>\n",
       "      <td>0</td>\n",
       "      <td>0</td>\n",
       "      <td>0</td>\n",
       "      <td>0</td>\n",
       "      <td>0</td>\n",
       "      <td>0</td>\n",
       "      <td>0</td>\n",
       "      <td>0</td>\n",
       "      <td>1</td>\n",
       "    </tr>\n",
       "    <tr>\n",
       "      <th>3270</th>\n",
       "      <td>60</td>\n",
       "      <td>1</td>\n",
       "      <td>1</td>\n",
       "      <td>0</td>\n",
       "      <td>549.00</td>\n",
       "      <td>0</td>\n",
       "      <td>1</td>\n",
       "      <td>0</td>\n",
       "      <td>0</td>\n",
       "      <td>0</td>\n",
       "      <td>0</td>\n",
       "      <td>0</td>\n",
       "      <td>0</td>\n",
       "      <td>0</td>\n",
       "      <td>1</td>\n",
       "      <td>1</td>\n",
       "      <td>0</td>\n",
       "      <td>0</td>\n",
       "      <td>0</td>\n",
       "      <td>0</td>\n",
       "    </tr>\n",
       "  </tbody>\n",
       "</table>\n",
       "</div>"
      ],
      "text/plain": [
       "      area  quartos  banheiros  vagas  condominio  Piscina  Elevador  \\\n",
       "1189   114        3          3      3     1170.00        1         0   \n",
       "175    122        3          4      2     2130.00        0         1   \n",
       "2057    75        2          1      2     1040.00        1         1   \n",
       "927     45        1          1      1        0.00        1         1   \n",
       "3270    60        1          1      0      549.00        0         1   \n",
       "\n",
       "      Churrasqueira  Varanda Gourmet  Salao de festas  Ar-condicionado  \\\n",
       "1189              1                0                0                0   \n",
       "175               0                0                0                0   \n",
       "2057              0                0                0                0   \n",
       "927               1                0                0                0   \n",
       "3270              0                0                0                0   \n",
       "\n",
       "      Academia  Lavanderia  Portaria 24h  Jardim  zona_Centro  zona_Leste  \\\n",
       "1189         0           0             0       1            0           0   \n",
       "175          1           0             0       1            0           0   \n",
       "2057         0           0             0       0            0           0   \n",
       "927          0           0             0       0            0           0   \n",
       "3270         0           0             0       1            1           0   \n",
       "\n",
       "      zona_Norte  zona_Oeste  zona_Sul  \n",
       "1189           0           0         1  \n",
       "175            0           0         1  \n",
       "2057           0           0         1  \n",
       "927            0           0         1  \n",
       "3270           0           0         0  "
      ]
     },
     "execution_count": 84,
     "metadata": {},
     "output_type": "execute_result"
    }
   ],
   "source": [
    "X_train.head()"
   ]
  },
  {
   "cell_type": "code",
   "execution_count": 12,
   "id": "21d58fc4",
   "metadata": {},
   "outputs": [
    {
     "data": {
      "text/plain": [
       "KNeighborsRegressor()"
      ]
     },
     "execution_count": 12,
     "metadata": {},
     "output_type": "execute_result"
    }
   ],
   "source": [
    "from sklearn.neighbors import KNeighborsRegressor\n",
    "neigh = KNeighborsRegressor()\n",
    "neigh.fit(X_train,y_train)"
   ]
  },
  {
   "cell_type": "code",
   "execution_count": 13,
   "id": "f40c340b",
   "metadata": {},
   "outputs": [],
   "source": [
    "y_pred = neigh.predict(X_test)"
   ]
  },
  {
   "cell_type": "code",
   "execution_count": 14,
   "id": "a141f652",
   "metadata": {},
   "outputs": [
    {
     "data": {
      "text/plain": [
       "array([3720. , 2540. , 5877.8, ..., 2480. , 1849.8, 3720. ])"
      ]
     },
     "execution_count": 14,
     "metadata": {},
     "output_type": "execute_result"
    }
   ],
   "source": [
    "y_pred"
   ]
  },
  {
   "cell_type": "code",
   "execution_count": 15,
   "id": "5a1502b6",
   "metadata": {},
   "outputs": [
    {
     "data": {
      "text/plain": [
       "1553    1800.0\n",
       "5678    2500.0\n",
       "5314    2100.0\n",
       "3552    3700.0\n",
       "3924    3690.0\n",
       "         ...  \n",
       "3991    3350.0\n",
       "2159    2100.0\n",
       "4967    1200.0\n",
       "4413    1500.0\n",
       "602     2300.0\n",
       "Name: preco, Length: 1773, dtype: float64"
      ]
     },
     "execution_count": 15,
     "metadata": {},
     "output_type": "execute_result"
    }
   ],
   "source": [
    "y_test"
   ]
  },
  {
   "cell_type": "code",
   "execution_count": 16,
   "id": "92c4c111",
   "metadata": {},
   "outputs": [
    {
     "data": {
      "text/plain": [
       "1206.4900169204736"
      ]
     },
     "execution_count": 16,
     "metadata": {},
     "output_type": "execute_result"
    }
   ],
   "source": [
    "import numpy as np\n",
    "#Mean absolute error (MAE)\n",
    "np.mean(np.abs(y_pred - y_test))"
   ]
  },
  {
   "cell_type": "code",
   "execution_count": 19,
   "id": "cfc6f58a",
   "metadata": {},
   "outputs": [
    {
     "data": {
      "text/plain": [
       "36.32949159995126"
      ]
     },
     "execution_count": 19,
     "metadata": {},
     "output_type": "execute_result"
    }
   ],
   "source": [
    "#Mean absolute percentage error (MAPE)\n",
    "np.mean(np.abs((y_pred - y_test)/y_test))*100"
   ]
  },
  {
   "cell_type": "code",
   "execution_count": 20,
   "id": "44f9525f",
   "metadata": {},
   "outputs": [
    {
     "data": {
      "text/plain": [
       "2.0949802594472633"
      ]
     },
     "execution_count": 20,
     "metadata": {},
     "output_type": "execute_result"
    }
   ],
   "source": [
    "#Root mean squared error (RMSE)\n",
    "np.sqrt(np.mean(y_pred - y_test)**2)"
   ]
  },
  {
   "cell_type": "code",
   "execution_count": 21,
   "id": "e3da794d",
   "metadata": {},
   "outputs": [
    {
     "data": {
      "text/plain": [
       "0.5516020882983975"
      ]
     },
     "execution_count": 21,
     "metadata": {},
     "output_type": "execute_result"
    }
   ],
   "source": [
    "from sklearn.metrics import r2_score\n",
    "r2_score(y_test, y_pred)"
   ]
  },
  {
   "cell_type": "code",
   "execution_count": 22,
   "id": "16b14e4a",
   "metadata": {},
   "outputs": [
    {
     "data": {
      "text/plain": [
       "0.6049930906101391"
      ]
     },
     "execution_count": 22,
     "metadata": {},
     "output_type": "execute_result"
    }
   ],
   "source": [
    "from sklearn.linear_model import LinearRegression\n",
    "reg = LinearRegression()\n",
    "reg.fit(X_train,y_train)\n",
    "reg.score(X_test,y_test)"
   ]
  },
  {
   "cell_type": "code",
   "execution_count": 23,
   "id": "c843bac6",
   "metadata": {},
   "outputs": [],
   "source": [
    "y_pred = reg.predict(X_test)"
   ]
  },
  {
   "cell_type": "code",
   "execution_count": 24,
   "id": "67fb3110",
   "metadata": {},
   "outputs": [
    {
     "data": {
      "text/plain": [
       "36.61099292460991"
      ]
     },
     "execution_count": 24,
     "metadata": {},
     "output_type": "execute_result"
    }
   ],
   "source": [
    "np.sqrt(np.mean(y_pred - y_test)**2)"
   ]
  },
  {
   "cell_type": "code",
   "execution_count": 85,
   "id": "0e586caf",
   "metadata": {},
   "outputs": [],
   "source": [
    "import lazypredict\n",
    "from lazypredict.Supervised import LazyRegressor"
   ]
  },
  {
   "cell_type": "code",
   "execution_count": 86,
   "id": "d9650795",
   "metadata": {},
   "outputs": [
    {
     "name": "stderr",
     "output_type": "stream",
     "text": [
      "100%|██████████| 42/42 [00:42<00:00,  1.02s/it]\n"
     ]
    }
   ],
   "source": [
    "reg = LazyRegressor(predictions=True)\n",
    "models, predictions = reg.fit(X_train,X_test,y_train,y_test)"
   ]
  },
  {
   "cell_type": "code",
   "execution_count": 87,
   "id": "1191b860",
   "metadata": {},
   "outputs": [
    {
     "data": {
      "text/html": [
       "<div>\n",
       "<style scoped>\n",
       "    .dataframe tbody tr th:only-of-type {\n",
       "        vertical-align: middle;\n",
       "    }\n",
       "\n",
       "    .dataframe tbody tr th {\n",
       "        vertical-align: top;\n",
       "    }\n",
       "\n",
       "    .dataframe thead th {\n",
       "        text-align: right;\n",
       "    }\n",
       "</style>\n",
       "<table border=\"1\" class=\"dataframe\">\n",
       "  <thead>\n",
       "    <tr style=\"text-align: right;\">\n",
       "      <th></th>\n",
       "      <th>Adjusted R-Squared</th>\n",
       "      <th>R-Squared</th>\n",
       "      <th>RMSE</th>\n",
       "      <th>Time Taken</th>\n",
       "    </tr>\n",
       "    <tr>\n",
       "      <th>Model</th>\n",
       "      <th></th>\n",
       "      <th></th>\n",
       "      <th></th>\n",
       "      <th></th>\n",
       "    </tr>\n",
       "  </thead>\n",
       "  <tbody>\n",
       "    <tr>\n",
       "      <th>RandomForestRegressor</th>\n",
       "      <td>0.81</td>\n",
       "      <td>0.81</td>\n",
       "      <td>2315.65</td>\n",
       "      <td>2.10</td>\n",
       "    </tr>\n",
       "    <tr>\n",
       "      <th>ExtraTreesRegressor</th>\n",
       "      <td>0.81</td>\n",
       "      <td>0.81</td>\n",
       "      <td>2339.03</td>\n",
       "      <td>1.78</td>\n",
       "    </tr>\n",
       "    <tr>\n",
       "      <th>XGBRegressor</th>\n",
       "      <td>0.79</td>\n",
       "      <td>0.79</td>\n",
       "      <td>2427.78</td>\n",
       "      <td>1.43</td>\n",
       "    </tr>\n",
       "    <tr>\n",
       "      <th>LGBMRegressor</th>\n",
       "      <td>0.79</td>\n",
       "      <td>0.79</td>\n",
       "      <td>2434.61</td>\n",
       "      <td>0.70</td>\n",
       "    </tr>\n",
       "    <tr>\n",
       "      <th>GradientBoostingRegressor</th>\n",
       "      <td>0.78</td>\n",
       "      <td>0.78</td>\n",
       "      <td>2501.95</td>\n",
       "      <td>0.60</td>\n",
       "    </tr>\n",
       "  </tbody>\n",
       "</table>\n",
       "</div>"
      ],
      "text/plain": [
       "                           Adjusted R-Squared  R-Squared    RMSE  Time Taken\n",
       "Model                                                                       \n",
       "RandomForestRegressor                    0.81       0.81 2315.65        2.10\n",
       "ExtraTreesRegressor                      0.81       0.81 2339.03        1.78\n",
       "XGBRegressor                             0.79       0.79 2427.78        1.43\n",
       "LGBMRegressor                            0.79       0.79 2434.61        0.70\n",
       "GradientBoostingRegressor                0.78       0.78 2501.95        0.60"
      ]
     },
     "execution_count": 87,
     "metadata": {},
     "output_type": "execute_result"
    }
   ],
   "source": [
    "models.head(5)"
   ]
  },
  {
   "cell_type": "code",
   "execution_count": 27,
   "id": "945338be",
   "metadata": {},
   "outputs": [
    {
     "data": {
      "text/html": [
       "<div>\n",
       "<style scoped>\n",
       "    .dataframe tbody tr th:only-of-type {\n",
       "        vertical-align: middle;\n",
       "    }\n",
       "\n",
       "    .dataframe tbody tr th {\n",
       "        vertical-align: top;\n",
       "    }\n",
       "\n",
       "    .dataframe thead th {\n",
       "        text-align: right;\n",
       "    }\n",
       "</style>\n",
       "<table border=\"1\" class=\"dataframe\">\n",
       "  <thead>\n",
       "    <tr style=\"text-align: right;\">\n",
       "      <th></th>\n",
       "      <th>Adjusted R-Squared</th>\n",
       "      <th>R-Squared</th>\n",
       "      <th>RMSE</th>\n",
       "      <th>Time Taken</th>\n",
       "    </tr>\n",
       "    <tr>\n",
       "      <th>Model</th>\n",
       "      <th></th>\n",
       "      <th></th>\n",
       "      <th></th>\n",
       "      <th></th>\n",
       "    </tr>\n",
       "  </thead>\n",
       "  <tbody>\n",
       "    <tr>\n",
       "      <th>LGBMRegressor</th>\n",
       "      <td>0.69</td>\n",
       "      <td>0.69</td>\n",
       "      <td>1582.57</td>\n",
       "      <td>0.99</td>\n",
       "    </tr>\n",
       "    <tr>\n",
       "      <th>RandomForestRegressor</th>\n",
       "      <td>0.69</td>\n",
       "      <td>0.69</td>\n",
       "      <td>1586.16</td>\n",
       "      <td>1.75</td>\n",
       "    </tr>\n",
       "    <tr>\n",
       "      <th>HistGradientBoostingRegressor</th>\n",
       "      <td>0.68</td>\n",
       "      <td>0.68</td>\n",
       "      <td>1603.32</td>\n",
       "      <td>2.29</td>\n",
       "    </tr>\n",
       "    <tr>\n",
       "      <th>GradientBoostingRegressor</th>\n",
       "      <td>0.66</td>\n",
       "      <td>0.66</td>\n",
       "      <td>1646.54</td>\n",
       "      <td>0.53</td>\n",
       "    </tr>\n",
       "    <tr>\n",
       "      <th>XGBRegressor</th>\n",
       "      <td>0.65</td>\n",
       "      <td>0.65</td>\n",
       "      <td>1670.44</td>\n",
       "      <td>0.86</td>\n",
       "    </tr>\n",
       "  </tbody>\n",
       "</table>\n",
       "</div>"
      ],
      "text/plain": [
       "                               Adjusted R-Squared  R-Squared    RMSE  \\\n",
       "Model                                                                  \n",
       "LGBMRegressor                                0.69       0.69 1582.57   \n",
       "RandomForestRegressor                        0.69       0.69 1586.16   \n",
       "HistGradientBoostingRegressor                0.68       0.68 1603.32   \n",
       "GradientBoostingRegressor                    0.66       0.66 1646.54   \n",
       "XGBRegressor                                 0.65       0.65 1670.44   \n",
       "\n",
       "                               Time Taken  \n",
       "Model                                      \n",
       "LGBMRegressor                        0.99  \n",
       "RandomForestRegressor                1.75  \n",
       "HistGradientBoostingRegressor        2.29  \n",
       "GradientBoostingRegressor            0.53  \n",
       "XGBRegressor                         0.86  "
      ]
     },
     "execution_count": 27,
     "metadata": {},
     "output_type": "execute_result"
    }
   ],
   "source": [
    "models.head(5)"
   ]
  },
  {
   "cell_type": "code",
   "execution_count": 88,
   "id": "a4f43eae",
   "metadata": {},
   "outputs": [
    {
     "data": {
      "text/plain": [
       "RandomForestRegressor()"
      ]
     },
     "execution_count": 88,
     "metadata": {},
     "output_type": "execute_result"
    }
   ],
   "source": [
    "from sklearn.ensemble import RandomForestRegressor\n",
    "rf = RandomForestRegressor()\n",
    "rf.fit(X_train,y_train)"
   ]
  },
  {
   "cell_type": "code",
   "execution_count": 89,
   "id": "3dbebcc8",
   "metadata": {},
   "outputs": [],
   "source": [
    "from sklearn.model_selection import GridSearchCV"
   ]
  },
  {
   "cell_type": "code",
   "execution_count": 90,
   "id": "ceac44ca",
   "metadata": {},
   "outputs": [],
   "source": [
    "parameters = [{'min_samples_leaf': [2,4,6],\n",
    "              'max_depth': [4,8,12],\n",
    "              'n_estimators':[50,100,200]}]"
   ]
  },
  {
   "cell_type": "code",
   "execution_count": 91,
   "id": "37273f21",
   "metadata": {},
   "outputs": [
    {
     "data": {
      "text/plain": [
       "GridSearchCV(cv=5, estimator=RandomForestRegressor(),\n",
       "             param_grid=[{'max_depth': [4, 8, 12],\n",
       "                          'min_samples_leaf': [2, 4, 6],\n",
       "                          'n_estimators': [50, 100, 200]}],\n",
       "             scoring='r2')"
      ]
     },
     "execution_count": 91,
     "metadata": {},
     "output_type": "execute_result"
    }
   ],
   "source": [
    "gs = GridSearchCV(rf,parameters,scoring='r2',cv=5)\n",
    "gs.fit(X_train,y_train)"
   ]
  },
  {
   "cell_type": "code",
   "execution_count": 92,
   "id": "2893a852",
   "metadata": {},
   "outputs": [
    {
     "data": {
      "text/plain": [
       "RandomForestRegressor(max_depth=8, min_samples_leaf=6, n_estimators=50)"
      ]
     },
     "execution_count": 92,
     "metadata": {},
     "output_type": "execute_result"
    }
   ],
   "source": [
    "gs.best_estimator_"
   ]
  },
  {
   "cell_type": "code",
   "execution_count": 93,
   "id": "f2e95a2e",
   "metadata": {},
   "outputs": [
    {
     "data": {
      "text/plain": [
       "0.672014894271365"
      ]
     },
     "execution_count": 93,
     "metadata": {},
     "output_type": "execute_result"
    }
   ],
   "source": [
    "gs.best_score_"
   ]
  },
  {
   "cell_type": "code",
   "execution_count": 94,
   "id": "fdc52880",
   "metadata": {},
   "outputs": [
    {
     "data": {
      "text/plain": [
       "{'max_depth': 8, 'min_samples_leaf': 6, 'n_estimators': 50}"
      ]
     },
     "execution_count": 94,
     "metadata": {},
     "output_type": "execute_result"
    }
   ],
   "source": [
    "gs.best_params_"
   ]
  },
  {
   "cell_type": "code",
   "execution_count": 95,
   "id": "98e6a947",
   "metadata": {},
   "outputs": [],
   "source": [
    "rf2 = RandomForestRegressor(max_depth= 12, min_samples_leaf= 2, n_estimators= 100)"
   ]
  },
  {
   "cell_type": "code",
   "execution_count": 96,
   "id": "7c531050",
   "metadata": {},
   "outputs": [
    {
     "data": {
      "text/plain": [
       "RandomForestRegressor(max_depth=12, min_samples_leaf=2)"
      ]
     },
     "execution_count": 96,
     "metadata": {},
     "output_type": "execute_result"
    }
   ],
   "source": [
    "rf2.fit(X_train,y_train)"
   ]
  },
  {
   "cell_type": "code",
   "execution_count": 97,
   "id": "ec3705d7",
   "metadata": {},
   "outputs": [
    {
     "name": "stdout",
     "output_type": "stream",
     "text": [
      "Score de treinamento_amenidades: 0.911306297128571\n"
     ]
    }
   ],
   "source": [
    "train_score = rf2.score(X_train,y_train)\n",
    "print('Score de treinamento_amenidades:',train_score)"
   ]
  },
  {
   "cell_type": "code",
   "execution_count": 98,
   "id": "c09e8fae",
   "metadata": {},
   "outputs": [
    {
     "name": "stdout",
     "output_type": "stream",
     "text": [
      "Score de teste_amenidades: 0.8010710073321509\n"
     ]
    }
   ],
   "source": [
    "test_score = rf2.score(X_test, y_test)\n",
    "print('Score de teste_amenidades:',test_score)"
   ]
  },
  {
   "cell_type": "code",
   "execution_count": 99,
   "id": "f223517e",
   "metadata": {},
   "outputs": [
    {
     "name": "stdout",
     "output_type": "stream",
     "text": [
      "Score de validação_amenidades: [0.60607661 0.71573258 0.60113169 0.63112362 0.71217544]\n"
     ]
    }
   ],
   "source": [
    "val_score = cross_val_score(rf2, X_train, y_train, cv=5)\n",
    "print('Score de validação_amenidades:', val_score)"
   ]
  },
  {
   "cell_type": "code",
   "execution_count": 40,
   "id": "95962bce",
   "metadata": {},
   "outputs": [
    {
     "name": "stdout",
     "output_type": "stream",
     "text": [
      "Score de treinamento: 0.8765711056969155\n"
     ]
    }
   ],
   "source": [
    "from sklearn.model_selection import cross_val_score\n",
    "train_score = rf2.score(X_train,y_train)\n",
    "print('Score de treinamento:',train_score)"
   ]
  },
  {
   "cell_type": "code",
   "execution_count": 41,
   "id": "2a0ad5d8",
   "metadata": {},
   "outputs": [
    {
     "name": "stdout",
     "output_type": "stream",
     "text": [
      "Score de teste: 0.6893552377769047\n"
     ]
    }
   ],
   "source": [
    "test_score = rf2.score(X_test, y_test)\n",
    "print('Score de teste:',test_score)"
   ]
  },
  {
   "cell_type": "code",
   "execution_count": 42,
   "id": "6cbdfab3",
   "metadata": {},
   "outputs": [
    {
     "name": "stdout",
     "output_type": "stream",
     "text": [
      "Score de validação: [0.68507891 0.65927026 0.65238735 0.6436978  0.60566552]\n"
     ]
    }
   ],
   "source": [
    "val_score = cross_val_score(rf2, X_train, y_train, cv=5)\n",
    "print('Score de validação:', val_score)"
   ]
  },
  {
   "cell_type": "code",
   "execution_count": 43,
   "id": "82504662",
   "metadata": {},
   "outputs": [],
   "source": [
    "import pickle"
   ]
  },
  {
   "cell_type": "code",
   "execution_count": 44,
   "id": "9da2c38b",
   "metadata": {},
   "outputs": [],
   "source": [
    "with open('rf_regressor.pkl', 'wb') as f:\n",
    "    pickle.dump(rf2,f)"
   ]
  },
  {
   "cell_type": "code",
   "execution_count": 45,
   "id": "3c1ee5ed",
   "metadata": {},
   "outputs": [
    {
     "name": "stdout",
     "output_type": "stream",
     "text": [
      " awari-ds-aula-11.pptx              'Regressao - Parte 2.ipynb'\r\n",
      " dados_apartamentos_limpo_zona.csv   rf_regressor.pkl\r\n",
      "'Regressao - Parte 1.ipynb'          Untitled.ipynb\r\n"
     ]
    }
   ],
   "source": [
    "ls"
   ]
  },
  {
   "cell_type": "code",
   "execution_count": 46,
   "id": "23688466",
   "metadata": {},
   "outputs": [],
   "source": [
    "from sklearn.utils import all_estimators"
   ]
  },
  {
   "cell_type": "code",
   "execution_count": 47,
   "id": "f09500ca",
   "metadata": {},
   "outputs": [
    {
     "data": {
      "text/plain": [
       "[('ARDRegression', sklearn.linear_model._bayes.ARDRegression),\n",
       " ('AdaBoostRegressor', sklearn.ensemble._weight_boosting.AdaBoostRegressor),\n",
       " ('BaggingRegressor', sklearn.ensemble._bagging.BaggingRegressor),\n",
       " ('BayesianRidge', sklearn.linear_model._bayes.BayesianRidge),\n",
       " ('CCA', sklearn.cross_decomposition._cca.CCA),\n",
       " ('DecisionTreeRegressor', sklearn.tree._classes.DecisionTreeRegressor),\n",
       " ('DummyRegressor', sklearn.dummy.DummyRegressor),\n",
       " ('ElasticNet', sklearn.linear_model._coordinate_descent.ElasticNet),\n",
       " ('ElasticNetCV', sklearn.linear_model._coordinate_descent.ElasticNetCV),\n",
       " ('ExtraTreeRegressor', sklearn.tree._classes.ExtraTreeRegressor),\n",
       " ('ExtraTreesRegressor', sklearn.ensemble._forest.ExtraTreesRegressor),\n",
       " ('GammaRegressor', sklearn.linear_model._glm.glm.GammaRegressor),\n",
       " ('GaussianProcessRegressor',\n",
       "  sklearn.gaussian_process._gpr.GaussianProcessRegressor),\n",
       " ('GradientBoostingRegressor', sklearn.ensemble._gb.GradientBoostingRegressor),\n",
       " ('HistGradientBoostingRegressor',\n",
       "  sklearn.ensemble._hist_gradient_boosting.gradient_boosting.HistGradientBoostingRegressor),\n",
       " ('HuberRegressor', sklearn.linear_model._huber.HuberRegressor),\n",
       " ('IsotonicRegression', sklearn.isotonic.IsotonicRegression),\n",
       " ('KNeighborsRegressor', sklearn.neighbors._regression.KNeighborsRegressor),\n",
       " ('KernelRidge', sklearn.kernel_ridge.KernelRidge),\n",
       " ('Lars', sklearn.linear_model._least_angle.Lars),\n",
       " ('LarsCV', sklearn.linear_model._least_angle.LarsCV),\n",
       " ('Lasso', sklearn.linear_model._coordinate_descent.Lasso),\n",
       " ('LassoCV', sklearn.linear_model._coordinate_descent.LassoCV),\n",
       " ('LassoLars', sklearn.linear_model._least_angle.LassoLars),\n",
       " ('LassoLarsCV', sklearn.linear_model._least_angle.LassoLarsCV),\n",
       " ('LassoLarsIC', sklearn.linear_model._least_angle.LassoLarsIC),\n",
       " ('LinearRegression', sklearn.linear_model._base.LinearRegression),\n",
       " ('LinearSVR', sklearn.svm._classes.LinearSVR),\n",
       " ('MLPRegressor', sklearn.neural_network._multilayer_perceptron.MLPRegressor),\n",
       " ('MultiOutputRegressor', sklearn.multioutput.MultiOutputRegressor),\n",
       " ('MultiTaskElasticNet',\n",
       "  sklearn.linear_model._coordinate_descent.MultiTaskElasticNet),\n",
       " ('MultiTaskElasticNetCV',\n",
       "  sklearn.linear_model._coordinate_descent.MultiTaskElasticNetCV),\n",
       " ('MultiTaskLasso', sklearn.linear_model._coordinate_descent.MultiTaskLasso),\n",
       " ('MultiTaskLassoCV',\n",
       "  sklearn.linear_model._coordinate_descent.MultiTaskLassoCV),\n",
       " ('NuSVR', sklearn.svm._classes.NuSVR),\n",
       " ('OrthogonalMatchingPursuit',\n",
       "  sklearn.linear_model._omp.OrthogonalMatchingPursuit),\n",
       " ('OrthogonalMatchingPursuitCV',\n",
       "  sklearn.linear_model._omp.OrthogonalMatchingPursuitCV),\n",
       " ('PLSCanonical', sklearn.cross_decomposition._pls.PLSCanonical),\n",
       " ('PLSRegression', sklearn.cross_decomposition._pls.PLSRegression),\n",
       " ('PassiveAggressiveRegressor',\n",
       "  sklearn.linear_model._passive_aggressive.PassiveAggressiveRegressor),\n",
       " ('PoissonRegressor', sklearn.linear_model._glm.glm.PoissonRegressor),\n",
       " ('RANSACRegressor', sklearn.linear_model._ransac.RANSACRegressor),\n",
       " ('RadiusNeighborsRegressor',\n",
       "  sklearn.neighbors._regression.RadiusNeighborsRegressor),\n",
       " ('RandomForestRegressor', sklearn.ensemble._forest.RandomForestRegressor),\n",
       " ('RegressorChain', sklearn.multioutput.RegressorChain),\n",
       " ('Ridge', sklearn.linear_model._ridge.Ridge),\n",
       " ('RidgeCV', sklearn.linear_model._ridge.RidgeCV),\n",
       " ('SGDRegressor', sklearn.linear_model._stochastic_gradient.SGDRegressor),\n",
       " ('SVR', sklearn.svm._classes.SVR),\n",
       " ('StackingRegressor', sklearn.ensemble._stacking.StackingRegressor),\n",
       " ('TheilSenRegressor', sklearn.linear_model._theil_sen.TheilSenRegressor),\n",
       " ('TransformedTargetRegressor',\n",
       "  sklearn.compose._target.TransformedTargetRegressor),\n",
       " ('TweedieRegressor', sklearn.linear_model._glm.glm.TweedieRegressor),\n",
       " ('VotingRegressor', sklearn.ensemble._voting.VotingRegressor)]"
      ]
     },
     "execution_count": 47,
     "metadata": {},
     "output_type": "execute_result"
    }
   ],
   "source": [
    "estimators = all_estimators(type_filter = 'regressor')\n",
    "estimators"
   ]
  },
  {
   "cell_type": "code",
   "execution_count": 48,
   "id": "47ebcf50",
   "metadata": {},
   "outputs": [
    {
     "name": "stdout",
     "output_type": "stream",
     "text": [
      "Adicionando regressor ARDRegression\n",
      "Adicionando regressor AdaBoostRegressor\n",
      "Adicionando regressor BaggingRegressor\n",
      "Adicionando regressor BayesianRidge\n",
      "Adicionando regressor CCA\n",
      "Adicionando regressor DecisionTreeRegressor\n",
      "Adicionando regressor DummyRegressor\n",
      "Adicionando regressor ElasticNet\n",
      "Adicionando regressor ElasticNetCV\n",
      "Adicionando regressor ExtraTreeRegressor\n",
      "Adicionando regressor ExtraTreesRegressor\n",
      "Adicionando regressor GammaRegressor\n",
      "Adicionando regressor GaussianProcessRegressor\n",
      "Adicionando regressor GradientBoostingRegressor\n",
      "Adicionando regressor HistGradientBoostingRegressor\n",
      "Adicionando regressor HuberRegressor\n",
      "Adicionando regressor IsotonicRegression\n",
      "Adicionando regressor KNeighborsRegressor\n",
      "Adicionando regressor KernelRidge\n",
      "Adicionando regressor Lars\n",
      "Adicionando regressor LarsCV\n",
      "Adicionando regressor Lasso\n",
      "Adicionando regressor LassoCV\n",
      "Adicionando regressor LassoLars\n",
      "Adicionando regressor LassoLarsCV\n",
      "Adicionando regressor LassoLarsIC\n",
      "Adicionando regressor LinearRegression\n",
      "Adicionando regressor LinearSVR\n",
      "Adicionando regressor MLPRegressor\n",
      "Adicionando regressor MultiOutputRegressor\n",
      "__init__() missing 1 required positional argument: 'estimator'\n",
      "Adicionando regressor MultiTaskElasticNet\n",
      "Adicionando regressor MultiTaskElasticNetCV\n",
      "Adicionando regressor MultiTaskLasso\n",
      "Adicionando regressor MultiTaskLassoCV\n",
      "Adicionando regressor NuSVR\n",
      "Adicionando regressor OrthogonalMatchingPursuit\n",
      "Adicionando regressor OrthogonalMatchingPursuitCV\n",
      "Adicionando regressor PLSCanonical\n",
      "Adicionando regressor PLSRegression\n",
      "Adicionando regressor PassiveAggressiveRegressor\n",
      "Adicionando regressor PoissonRegressor\n",
      "Adicionando regressor RANSACRegressor\n",
      "Adicionando regressor RadiusNeighborsRegressor\n",
      "Adicionando regressor RandomForestRegressor\n",
      "Adicionando regressor RegressorChain\n",
      "__init__() missing 1 required positional argument: 'base_estimator'\n",
      "Adicionando regressor Ridge\n",
      "Adicionando regressor RidgeCV\n",
      "Adicionando regressor SGDRegressor\n",
      "Adicionando regressor SVR\n",
      "Adicionando regressor StackingRegressor\n",
      "__init__() missing 1 required positional argument: 'estimators'\n",
      "Adicionando regressor TheilSenRegressor\n",
      "Adicionando regressor TransformedTargetRegressor\n",
      "Adicionando regressor TweedieRegressor\n",
      "Adicionando regressor VotingRegressor\n",
      "__init__() missing 1 required positional argument: 'estimators'\n"
     ]
    }
   ],
   "source": [
    "all_regs = []\n",
    "for name,RegressorClass in estimators:\n",
    "    try:\n",
    "        print('Adicionando regressor',name)\n",
    "        reg = RegressorClass()\n",
    "        all_regs.append(reg)\n",
    "    except Exception as e:\n",
    "        print(e)"
   ]
  },
  {
   "cell_type": "code",
   "execution_count": 49,
   "id": "0bbaa324",
   "metadata": {},
   "outputs": [
    {
     "data": {
      "text/plain": [
       "[ARDRegression(),\n",
       " AdaBoostRegressor(),\n",
       " BaggingRegressor(),\n",
       " BayesianRidge(),\n",
       " CCA(),\n",
       " DecisionTreeRegressor(),\n",
       " DummyRegressor(),\n",
       " ElasticNet(),\n",
       " ElasticNetCV(),\n",
       " ExtraTreeRegressor(),\n",
       " ExtraTreesRegressor(),\n",
       " GammaRegressor(),\n",
       " GaussianProcessRegressor(),\n",
       " GradientBoostingRegressor(),\n",
       " HistGradientBoostingRegressor(),\n",
       " HuberRegressor(),\n",
       " IsotonicRegression(),\n",
       " KNeighborsRegressor(),\n",
       " KernelRidge(),\n",
       " Lars(),\n",
       " LarsCV(),\n",
       " Lasso(),\n",
       " LassoCV(),\n",
       " LassoLars(),\n",
       " LassoLarsCV(),\n",
       " LassoLarsIC(),\n",
       " LinearRegression(),\n",
       " LinearSVR(),\n",
       " MLPRegressor(),\n",
       " MultiTaskElasticNet(),\n",
       " MultiTaskElasticNetCV(),\n",
       " MultiTaskLasso(),\n",
       " MultiTaskLassoCV(),\n",
       " NuSVR(),\n",
       " OrthogonalMatchingPursuit(),\n",
       " OrthogonalMatchingPursuitCV(),\n",
       " PLSCanonical(),\n",
       " PLSRegression(),\n",
       " PassiveAggressiveRegressor(),\n",
       " PoissonRegressor(),\n",
       " RANSACRegressor(),\n",
       " RadiusNeighborsRegressor(),\n",
       " RandomForestRegressor(),\n",
       " Ridge(),\n",
       " RidgeCV(alphas=array([ 0.1,  1. , 10. ])),\n",
       " SGDRegressor(),\n",
       " SVR(),\n",
       " TheilSenRegressor(max_subpopulation=10000),\n",
       " TransformedTargetRegressor(),\n",
       " TweedieRegressor()]"
      ]
     },
     "execution_count": 49,
     "metadata": {},
     "output_type": "execute_result"
    }
   ],
   "source": [
    "all_regs"
   ]
  },
  {
   "cell_type": "code",
   "execution_count": 51,
   "id": "63e3929c",
   "metadata": {
    "scrolled": true
   },
   "outputs": [
    {
     "name": "stdout",
     "output_type": "stream",
     "text": [
      "Treinando ARDRegression()\n",
      "Train score: 0.5872790927168239\n",
      "Test score: 0.6044221108633776\n",
      "Validation score: [0.59331395 0.58795403 0.60807566 0.48468166 0.61735837]\n",
      "================================================================================\n",
      "Treinando AdaBoostRegressor()\n",
      "Train score: 0.5728584689961975\n",
      "Test score: 0.5766618554673592\n",
      "Validation score: [0.57113189 0.51785668 0.56363933 0.46699269 0.4938304 ]\n",
      "================================================================================\n",
      "Treinando BaggingRegressor()\n",
      "Train score: 0.9309538351865969\n",
      "Test score: 0.6616011913521929\n",
      "Validation score: [0.64254763 0.65534112 0.61383463 0.61979764 0.56443861]\n",
      "================================================================================\n",
      "Treinando BayesianRidge()\n",
      "Train score: 0.5873605778879846\n",
      "Test score: 0.6051463357906341\n",
      "Validation score: [0.59305046 0.58767322 0.60765747 0.48536396 0.61760765]\n",
      "================================================================================\n",
      "Treinando CCA()\n",
      "Train score: 0.3743816852577373\n",
      "Test score: 0.3567926047734945\n",
      "Validation score: [0.43171159 0.41325043 0.37952187 0.21764007 0.32374988]\n",
      "================================================================================\n",
      "Treinando DecisionTreeRegressor()\n",
      "Train score: 0.9974073939977793\n",
      "Test score: 0.41149682219085293\n",
      "Validation score: [0.4263143  0.46061313 0.43600417 0.27352108 0.27660906]\n",
      "================================================================================\n",
      "Treinando DummyRegressor()\n",
      "Train score: 0.0\n",
      "Test score: -0.0006276344562885505\n",
      "Validation score: [-1.84952872e-04 -2.76759748e-05 -1.09152568e-04 -5.80055752e-06\n",
      " -4.66501281e-05]\n",
      "================================================================================\n",
      "Treinando ElasticNet()\n",
      "Train score: 0.5669595187414759\n",
      "Test score: 0.5908802960039012\n",
      "Validation score: [0.56687007 0.57400938 0.58976798 0.4740091  0.60097997]\n",
      "================================================================================\n",
      "Treinando ElasticNetCV()\n",
      "Train score: 0.495403146302576\n",
      "Test score: 0.5279578516000276\n",
      "Validation score: [0.49347407 0.49130111 0.47764255 0.45587488 0.54142027]\n",
      "================================================================================\n",
      "Treinando ExtraTreeRegressor()\n",
      "Train score: 0.9974067726118032\n",
      "Test score: 0.3996636587765673\n",
      "Validation score: [0.29227639 0.35932352 0.34752976 0.26630505 0.28798666]\n",
      "================================================================================\n",
      "Treinando ExtraTreesRegressor()\n",
      "Train score: 0.9974064493978878\n",
      "Test score: 0.6482699724520277\n",
      "Validation score: [0.6303642  0.64920104 0.60096148 0.57246186 0.58066834]\n",
      "================================================================================\n",
      "Treinando GammaRegressor()\n",
      "Train score: 2.220446049250313e-16\n",
      "Test score: -0.000975055861119678\n",
      "Validation score: [-2.91395176e-04 -4.41179752e-05 -1.67390713e-04 -8.57850569e-06\n",
      " -7.01154862e-05]\n",
      "================================================================================\n",
      "Treinando GaussianProcessRegressor()\n",
      "Train score: 0.9974073939977689\n",
      "Test score: -0.8483659549413418\n",
      "Validation score: [-1.0375286  -0.90470735 -1.05760986 -1.18397974 -1.24751434]\n",
      "================================================================================\n",
      "Treinando GradientBoostingRegressor()\n",
      "Train score: 0.7448281229349846\n",
      "Test score: 0.6596741960965247\n",
      "Validation score: [0.63976176 0.63126484 0.61050411 0.60442999 0.60876219]\n",
      "================================================================================\n",
      "Treinando HistGradientBoostingRegressor()\n",
      "Train score: 0.8133522934203147\n",
      "Test score: 0.6804104266151489\n",
      "Validation score: [0.6687711  0.64221445 0.63462993 0.63850733 0.58756473]\n",
      "================================================================================\n",
      "Treinando HuberRegressor()\n",
      "Train score: 0.5651151836633532\n",
      "Test score: 0.5947415053083918\n",
      "Validation score: [0.55983473 0.54285056 0.59725009 0.49628341 0.60775824]\n",
      "================================================================================\n",
      "Treinando IsotonicRegression()\n",
      "X should be a 1d array\n",
      "Treinando KNeighborsRegressor()\n",
      "Train score: 0.6854626652713836\n",
      "Test score: 0.5516020882983975\n",
      "Validation score: [0.56601305 0.53095018 0.52614618 0.44017511 0.4266242 ]\n",
      "================================================================================\n",
      "Treinando KernelRidge()\n",
      "Train score: 0.5873768885888373\n",
      "Test score: 0.6049893957398438\n",
      "Validation score: [0.59331776 0.58772354 0.60749478 0.48496002 0.61740592]\n",
      "================================================================================\n",
      "Treinando Lars()\n",
      "Train score: 0.5873774252428707\n",
      "Test score: 0.6049930906101434\n",
      "Validation score: [0.59330703 0.58772933 0.60747693 0.48491469 0.6174588 ]\n",
      "================================================================================\n",
      "Treinando LarsCV()\n",
      "Train score: 0.5873774252428707\n",
      "Test score: 0.6049930906101434\n",
      "Validation score: [0.59251472 0.58719564 0.60747693 0.48769089 0.61706892]\n",
      "================================================================================\n",
      "Treinando Lasso()\n",
      "Train score: 0.5873725761261706\n",
      "Test score: 0.6049634460301312\n",
      "Validation score: [0.59328171 0.58780475 0.60760218 0.48495533 0.61748914]\n",
      "================================================================================\n",
      "Treinando LassoCV()\n",
      "Train score: 0.5277937489409265\n",
      "Test score: 0.5562778860104145\n",
      "Validation score: [0.52490896 0.53954712 0.54793694 0.4372381  0.56496881]\n",
      "================================================================================\n",
      "Treinando LassoLars()\n",
      "Train score: 0.5814790427240095\n",
      "Test score: 0.6002224810137078\n",
      "Validation score: [0.58717591 0.58046403 0.60138614 0.49477397 0.61153098]\n",
      "================================================================================\n",
      "Treinando LassoLarsCV()\n",
      "Train score: 0.5873774252428707\n",
      "Test score: 0.6049930906101434\n",
      "Validation score: [0.59251472 0.58719564 0.60747693 0.48769089 0.61706892]\n",
      "================================================================================\n",
      "Treinando LassoLarsIC()\n",
      "Train score: 0.5873774252428707\n",
      "Test score: 0.6049930906101434\n",
      "Validation score: [0.59330703 0.5858984  0.60747693 0.48872449 0.6174588 ]\n",
      "================================================================================\n",
      "Treinando LinearRegression()\n",
      "Train score: 0.5873774252428707\n",
      "Test score: 0.6049930906101391\n",
      "Validation score: [0.59330703 0.58772933 0.60747693 0.48491469 0.6174588 ]\n",
      "================================================================================\n",
      "Treinando LinearSVR()\n",
      "Train score: 0.4267953229818885\n",
      "Test score: 0.4461080466884453\n",
      "Validation score: [0.5215219  0.37256217 0.57648591 0.47312333 0.56599101]\n",
      "================================================================================\n",
      "Treinando MLPRegressor()\n",
      "Train score: 0.5439685085262657\n",
      "Test score: 0.5698817356646833\n",
      "Validation score: [0.53838328 0.55042355 0.56206643 0.44131313 0.57228873]\n",
      "================================================================================\n",
      "Treinando MultiTaskElasticNet()\n",
      "For mono-task outputs, use ElasticNet\n",
      "Treinando MultiTaskElasticNetCV()\n",
      "For mono-task outputs, use ElasticNetCV\n",
      "Treinando MultiTaskLasso()\n",
      "For mono-task outputs, use ElasticNet\n",
      "Treinando MultiTaskLassoCV()\n",
      "For mono-task outputs, use LassoCV\n",
      "Treinando NuSVR()\n",
      "Train score: 0.051222570798497014\n",
      "Test score: 0.041714992052127364\n",
      "Validation score: [0.03025038 0.03251831 0.0356124  0.03744776 0.03661327]\n",
      "================================================================================\n",
      "Treinando OrthogonalMatchingPursuit()\n",
      "Train score: 0.48789300461947704\n",
      "Test score: 0.514624887447509\n",
      "Validation score: [0.49084237 0.50053289 0.52448446 0.37714163 0.52661421]\n",
      "================================================================================\n",
      "Treinando OrthogonalMatchingPursuitCV()\n",
      "Train score: 0.5834978643488311\n",
      "Test score: 0.595860264563909\n",
      "Validation score: [0.5937775  0.59673516 0.60249641 0.47795217 0.61313223]\n",
      "================================================================================\n",
      "Treinando PLSCanonical()\n",
      "Train score: -0.7897751750146933\n",
      "Test score: -0.7992830634865222\n",
      "Validation score: [-0.64027627 -0.74968782 -0.73567326 -1.07800299 -0.99329841]\n",
      "================================================================================\n",
      "Treinando PLSRegression()\n"
     ]
    },
    {
     "name": "stdout",
     "output_type": "stream",
     "text": [
      "Train score: 0.5661122887251668\n",
      "Test score: 0.5889376625451235\n",
      "Validation score: [0.57215106 0.54661986 0.58415227 0.49780844 0.58868453]\n",
      "================================================================================\n",
      "Treinando PassiveAggressiveRegressor()\n",
      "Train score: -0.07997785439380056\n",
      "Test score: -0.035649255741979635\n",
      "Validation score: [ 0.47258657  0.55416708 -0.1736059   0.37345296  0.49727009]\n",
      "================================================================================\n",
      "Treinando PoissonRegressor()\n",
      "Train score: 0.0\n",
      "Test score: -0.0008612934419145457\n",
      "Validation score: [-2.57244061e-04 -3.89529911e-05 -1.50208169e-04 -7.75766386e-06\n",
      " -6.31033421e-05]\n",
      "================================================================================\n",
      "Treinando RANSACRegressor()\n",
      "Train score: 0.3961306598526779\n",
      "Test score: 0.41185101465024865\n",
      "Validation score: [0.38124618 0.46178925 0.55376579 0.46353458 0.58920995]\n",
      "================================================================================\n",
      "Treinando RadiusNeighborsRegressor()\n",
      "Input contains NaN, infinity or a value too large for dtype('float64').\n",
      "Treinando RandomForestRegressor()\n",
      "Train score: 0.9499092947699889\n",
      "Test score: 0.6934837155826896\n",
      "Validation score: [0.69177973 0.66536558 0.65211403 0.63406076 0.61064505]\n",
      "================================================================================\n",
      "Treinando Ridge()\n",
      "Train score: 0.5873773838383676\n",
      "Test score: 0.6050013397729554\n",
      "Validation score: [0.59329613 0.58772724 0.60748757 0.4849407  0.61746759]\n",
      "================================================================================\n",
      "Treinando RidgeCV(alphas=array([ 0.1,  1. , 10. ]))\n",
      "Train score: 0.5873733751218709\n",
      "Test score: 0.6050717088303531\n",
      "Validation score: [0.59319365 0.58770603 0.60757479 0.48516526 0.61753884]\n",
      "================================================================================\n",
      "Treinando SGDRegressor()\n",
      "Train score: -4.4634910189051445e+21\n",
      "Test score: -4.4325534818333166e+21\n",
      "Validation score: [-1.82431196e+22 -5.57876924e+22 -1.99095869e+23 -2.73065499e+19\n",
      " -1.50329739e+24]\n",
      "================================================================================\n",
      "Treinando SVR()\n",
      "Train score: 0.02177047844543245\n",
      "Test score: 0.00887727471319788\n",
      "Validation score: [-0.00300991  0.00426483  0.00130001  0.00492664  0.0044025 ]\n",
      "================================================================================\n",
      "Treinando TheilSenRegressor(max_subpopulation=10000)\n",
      "Train score: 0.5749022790724825\n",
      "Test score: 0.6070499990138994\n",
      "Validation score: [0.57624127 0.56658294 0.61440217 0.49742888 0.6204103 ]\n",
      "================================================================================\n",
      "Treinando TransformedTargetRegressor()\n",
      "Train score: 0.5873774252428707\n",
      "Test score: 0.6049930906101391\n",
      "Validation score: [0.59330703 0.58772933 0.60747693 0.48491469 0.6174588 ]\n",
      "================================================================================\n",
      "Treinando TweedieRegressor()\n",
      "Train score: 0.5551225426477753\n",
      "Test score: 0.5804604596513574\n",
      "Validation score: [0.55492093 0.56553072 0.57831264 0.46341818 0.59007588]\n",
      "================================================================================\n"
     ]
    }
   ],
   "source": [
    "for reg in all_regs:\n",
    "    try:\n",
    "        print('Treinando', reg)\n",
    "        reg.fit(X_train, y_train)\n",
    "        train_score = reg.score(X_train,y_train)\n",
    "        val_score = cross_val_score(reg,X_train,y_train,cv=5)\n",
    "        test_score = reg.score(X_test,y_test)\n",
    "        print('Train score:', train_score)\n",
    "        print('Test score:', test_score)\n",
    "        print('Validation score:', val_score)\n",
    "        print('='*80)\n",
    "    except Exception as e:\n",
    "        print(e)"
   ]
  },
  {
   "cell_type": "code",
   "execution_count": 52,
   "id": "96ab3285",
   "metadata": {},
   "outputs": [
    {
     "name": "stdout",
     "output_type": "stream",
     "text": [
      "Treinando KNeighborsRegressor()\n",
      "Train score: 0.6854626652713836\n",
      "Test score: 0.5516020882983975\n",
      "Validation score: [0.56601305 0.53095018 0.52614618 0.44017511 0.4266242 ]\n",
      "================================================================================\n",
      "Treinando DecisionTreeRegressor()\n",
      "Train score: 0.9974073939977793\n",
      "Test score: 0.45079121059525973\n",
      "Validation score: [0.44247262 0.47114129 0.39124935 0.2888008  0.26418319]\n",
      "================================================================================\n",
      "Treinando RandomForestRegressor()\n",
      "Train score: 0.9502298099382179\n",
      "Test score: 0.6813043702538378\n",
      "Validation score: [0.69173211 0.6618667  0.64715671 0.62397479 0.5989359 ]\n",
      "================================================================================\n"
     ]
    }
   ],
   "source": [
    "from sklearn.neighbors import KNeighborsRegressor\n",
    "from sklearn.tree import DecisionTreeRegressor\n",
    "from sklearn.ensemble import RandomForestRegressor\n",
    "\n",
    "#Benefício: é possível rodar o GridSearch aqui dentro e achar a melhor combinação de hiperparâmetros para cada\n",
    "#regressor que você colocou na lista\n",
    "\n",
    "regressor_list = [KNeighborsRegressor(), DecisionTreeRegressor(), RandomForestRegressor()]\n",
    "\n",
    "\n",
    "for reg in regressor_list:\n",
    "    try:\n",
    "        print('Treinando', reg)\n",
    "        reg.fit(X_train, y_train)\n",
    "        train_score = reg.score(X_train,y_train)\n",
    "        val_score = cross_val_score(reg,X_train,y_train,cv=5)\n",
    "        test_score = reg.score(X_test,y_test)\n",
    "        print('Train score:', train_score)\n",
    "        print('Test score:', test_score)\n",
    "        print('Validation score:', val_score)\n",
    "        print('='*80)\n",
    "    except Exception as e:\n",
    "        print(e)"
   ]
  },
  {
   "cell_type": "code",
   "execution_count": 53,
   "id": "3db24120",
   "metadata": {},
   "outputs": [
    {
     "name": "stdout",
     "output_type": "stream",
     "text": [
      " awari-ds-aula-11.pptx              'Regressao - Parte 2.ipynb'\r\n",
      " dados_apartamentos_limpo_zona.csv   rf_regressor.pkl\r\n",
      "'Regressao - Parte 1.ipynb'          Untitled.ipynb\r\n"
     ]
    }
   ],
   "source": [
    "ls"
   ]
  },
  {
   "cell_type": "code",
   "execution_count": 63,
   "id": "65d957b3",
   "metadata": {},
   "outputs": [
    {
     "data": {
      "text/html": [
       "<div>\n",
       "<style scoped>\n",
       "    .dataframe tbody tr th:only-of-type {\n",
       "        vertical-align: middle;\n",
       "    }\n",
       "\n",
       "    .dataframe tbody tr th {\n",
       "        vertical-align: top;\n",
       "    }\n",
       "\n",
       "    .dataframe thead th {\n",
       "        text-align: right;\n",
       "    }\n",
       "</style>\n",
       "<table border=\"1\" class=\"dataframe\">\n",
       "  <thead>\n",
       "    <tr style=\"text-align: right;\">\n",
       "      <th></th>\n",
       "      <th>area</th>\n",
       "      <th>quartos</th>\n",
       "      <th>banheiros</th>\n",
       "      <th>vagas</th>\n",
       "      <th>preco</th>\n",
       "      <th>condominio</th>\n",
       "      <th>amenidades</th>\n",
       "      <th>zona</th>\n",
       "    </tr>\n",
       "  </thead>\n",
       "  <tbody>\n",
       "    <tr>\n",
       "      <th>0</th>\n",
       "      <td>46</td>\n",
       "      <td>1</td>\n",
       "      <td>1</td>\n",
       "      <td>1</td>\n",
       "      <td>3400.00</td>\n",
       "      <td>600.00</td>\n",
       "      <td>Piscina\\nChurrasqueira\\nCondomínio fechado\\nAc...</td>\n",
       "      <td>Sul</td>\n",
       "    </tr>\n",
       "    <tr>\n",
       "      <th>1</th>\n",
       "      <td>240</td>\n",
       "      <td>5</td>\n",
       "      <td>5</td>\n",
       "      <td>4</td>\n",
       "      <td>15000.00</td>\n",
       "      <td>3300.00</td>\n",
       "      <td>Piscina\\nMobiliado\\nChurrasqueira\\nElevador\\nC...</td>\n",
       "      <td>Sul</td>\n",
       "    </tr>\n",
       "    <tr>\n",
       "      <th>2</th>\n",
       "      <td>205</td>\n",
       "      <td>3</td>\n",
       "      <td>4</td>\n",
       "      <td>2</td>\n",
       "      <td>7900.00</td>\n",
       "      <td>2380.00</td>\n",
       "      <td>Piscina\\nElevador\\nCondomínio fechado\\nAcademi...</td>\n",
       "      <td>Sul</td>\n",
       "    </tr>\n",
       "    <tr>\n",
       "      <th>3</th>\n",
       "      <td>56</td>\n",
       "      <td>2</td>\n",
       "      <td>2</td>\n",
       "      <td>1</td>\n",
       "      <td>2900.00</td>\n",
       "      <td>630.00</td>\n",
       "      <td>Piscina\\nChurrasqueira\\nElevador\\nAcademia\\nAc...</td>\n",
       "      <td>Sul</td>\n",
       "    </tr>\n",
       "    <tr>\n",
       "      <th>4</th>\n",
       "      <td>45</td>\n",
       "      <td>1</td>\n",
       "      <td>1</td>\n",
       "      <td>1</td>\n",
       "      <td>2800.00</td>\n",
       "      <td>612.00</td>\n",
       "      <td>Elevador\\nCondomínio fechado\\nAceita animais\\n...</td>\n",
       "      <td>Sul</td>\n",
       "    </tr>\n",
       "  </tbody>\n",
       "</table>\n",
       "</div>"
      ],
      "text/plain": [
       "   area  quartos  banheiros  vagas    preco  condominio  \\\n",
       "0    46        1          1      1  3400.00      600.00   \n",
       "1   240        5          5      4 15000.00     3300.00   \n",
       "2   205        3          4      2  7900.00     2380.00   \n",
       "3    56        2          2      1  2900.00      630.00   \n",
       "4    45        1          1      1  2800.00      612.00   \n",
       "\n",
       "                                          amenidades zona  \n",
       "0  Piscina\\nChurrasqueira\\nCondomínio fechado\\nAc...  Sul  \n",
       "1  Piscina\\nMobiliado\\nChurrasqueira\\nElevador\\nC...  Sul  \n",
       "2  Piscina\\nElevador\\nCondomínio fechado\\nAcademi...  Sul  \n",
       "3  Piscina\\nChurrasqueira\\nElevador\\nAcademia\\nAc...  Sul  \n",
       "4  Elevador\\nCondomínio fechado\\nAceita animais\\n...  Sul  "
      ]
     },
     "execution_count": 63,
     "metadata": {},
     "output_type": "execute_result"
    }
   ],
   "source": [
    "dados_amen.head()"
   ]
  },
  {
   "cell_type": "code",
   "execution_count": 70,
   "id": "cb998521",
   "metadata": {},
   "outputs": [],
   "source": [
    "dados['Piscina'] = dados['amenidades'].apply(lambda x: 1 if 'Piscina' in x else 0)    "
   ]
  },
  {
   "cell_type": "code",
   "execution_count": 71,
   "id": "60afe4a6",
   "metadata": {},
   "outputs": [
    {
     "data": {
      "text/html": [
       "<div>\n",
       "<style scoped>\n",
       "    .dataframe tbody tr th:only-of-type {\n",
       "        vertical-align: middle;\n",
       "    }\n",
       "\n",
       "    .dataframe tbody tr th {\n",
       "        vertical-align: top;\n",
       "    }\n",
       "\n",
       "    .dataframe thead th {\n",
       "        text-align: right;\n",
       "    }\n",
       "</style>\n",
       "<table border=\"1\" class=\"dataframe\">\n",
       "  <thead>\n",
       "    <tr style=\"text-align: right;\">\n",
       "      <th></th>\n",
       "      <th>area</th>\n",
       "      <th>quartos</th>\n",
       "      <th>banheiros</th>\n",
       "      <th>vagas</th>\n",
       "      <th>preco</th>\n",
       "      <th>condominio</th>\n",
       "      <th>amenidades</th>\n",
       "      <th>zona</th>\n",
       "      <th>Piscina</th>\n",
       "    </tr>\n",
       "  </thead>\n",
       "  <tbody>\n",
       "    <tr>\n",
       "      <th>0</th>\n",
       "      <td>46</td>\n",
       "      <td>1</td>\n",
       "      <td>1</td>\n",
       "      <td>1</td>\n",
       "      <td>3400.00</td>\n",
       "      <td>600.00</td>\n",
       "      <td>Piscina\\nChurrasqueira\\nCondomínio fechado\\nAc...</td>\n",
       "      <td>Sul</td>\n",
       "      <td>1</td>\n",
       "    </tr>\n",
       "    <tr>\n",
       "      <th>1</th>\n",
       "      <td>240</td>\n",
       "      <td>5</td>\n",
       "      <td>5</td>\n",
       "      <td>4</td>\n",
       "      <td>15000.00</td>\n",
       "      <td>3300.00</td>\n",
       "      <td>Piscina\\nMobiliado\\nChurrasqueira\\nElevador\\nC...</td>\n",
       "      <td>Sul</td>\n",
       "      <td>1</td>\n",
       "    </tr>\n",
       "    <tr>\n",
       "      <th>2</th>\n",
       "      <td>205</td>\n",
       "      <td>3</td>\n",
       "      <td>4</td>\n",
       "      <td>2</td>\n",
       "      <td>7900.00</td>\n",
       "      <td>2380.00</td>\n",
       "      <td>Piscina\\nElevador\\nCondomínio fechado\\nAcademi...</td>\n",
       "      <td>Sul</td>\n",
       "      <td>1</td>\n",
       "    </tr>\n",
       "    <tr>\n",
       "      <th>3</th>\n",
       "      <td>56</td>\n",
       "      <td>2</td>\n",
       "      <td>2</td>\n",
       "      <td>1</td>\n",
       "      <td>2900.00</td>\n",
       "      <td>630.00</td>\n",
       "      <td>Piscina\\nChurrasqueira\\nElevador\\nAcademia\\nAc...</td>\n",
       "      <td>Sul</td>\n",
       "      <td>1</td>\n",
       "    </tr>\n",
       "    <tr>\n",
       "      <th>4</th>\n",
       "      <td>45</td>\n",
       "      <td>1</td>\n",
       "      <td>1</td>\n",
       "      <td>1</td>\n",
       "      <td>2800.00</td>\n",
       "      <td>612.00</td>\n",
       "      <td>Elevador\\nCondomínio fechado\\nAceita animais\\n...</td>\n",
       "      <td>Sul</td>\n",
       "      <td>0</td>\n",
       "    </tr>\n",
       "  </tbody>\n",
       "</table>\n",
       "</div>"
      ],
      "text/plain": [
       "   area  quartos  banheiros  vagas    preco  condominio  \\\n",
       "0    46        1          1      1  3400.00      600.00   \n",
       "1   240        5          5      4 15000.00     3300.00   \n",
       "2   205        3          4      2  7900.00     2380.00   \n",
       "3    56        2          2      1  2900.00      630.00   \n",
       "4    45        1          1      1  2800.00      612.00   \n",
       "\n",
       "                                          amenidades zona  Piscina  \n",
       "0  Piscina\\nChurrasqueira\\nCondomínio fechado\\nAc...  Sul        1  \n",
       "1  Piscina\\nMobiliado\\nChurrasqueira\\nElevador\\nC...  Sul        1  \n",
       "2  Piscina\\nElevador\\nCondomínio fechado\\nAcademi...  Sul        1  \n",
       "3  Piscina\\nChurrasqueira\\nElevador\\nAcademia\\nAc...  Sul        1  \n",
       "4  Elevador\\nCondomínio fechado\\nAceita animais\\n...  Sul        0  "
      ]
     },
     "execution_count": 71,
     "metadata": {},
     "output_type": "execute_result"
    }
   ],
   "source": [
    "dados.head()"
   ]
  },
  {
   "cell_type": "code",
   "execution_count": 73,
   "id": "5b18b467",
   "metadata": {},
   "outputs": [],
   "source": [
    "dados['Elevador'] = dados['amenidades'].apply(lambda x: 1 if 'Elevador' in x else 0)\n",
    "dados['Churrasqueira'] = dados['amenidades'].apply(lambda x: 1 if 'Churrasqueira' in x else 0)\n",
    "dados['Varanda Gourmet'] = dados['amenidades'].apply(lambda x: 1 if 'Varanda Gourmet' in x else 0)\n",
    "dados['Salao de festas'] = dados['amenidades'].apply(lambda x: 1 if 'Salão de festas' in x else 0)\n",
    "dados['Ar-condicionado'] = dados['amenidades'].apply(lambda x: 1 if 'Ar-condicionado' in x else 0)\n",
    "dados['Academia'] = dados['amenidades'].apply(lambda x: 1 if 'Academia' in x else 0)\n",
    "dados['Lavanderia'] = dados['amenidades'].apply(lambda x: 1 if 'Lavanderia' in x else 0)\n",
    "dados['Portaria 24h'] = dados['amenidades'].apply(lambda x: 1 if 'Portaria 24h' in x else 0)\n",
    "dados['Jardim'] = dados['amenidades'].apply(lambda x: 1 if 'Jardim' in x else 0)"
   ]
  },
  {
   "cell_type": "code",
   "execution_count": 74,
   "id": "c01b0c04",
   "metadata": {},
   "outputs": [],
   "source": [
    "#def amenidades(col):\n",
    "#    dados[col] = dados['amenities'].apply(lambda x: 1 if col in x else 0)"
   ]
  },
  {
   "cell_type": "code",
   "execution_count": 75,
   "id": "20dfc385",
   "metadata": {},
   "outputs": [],
   "source": [
    "#amenidades('Elevador')\n",
    "#amenidades('Churrasqueira')"
   ]
  },
  {
   "cell_type": "code",
   "execution_count": 76,
   "id": "4aa23a0d",
   "metadata": {},
   "outputs": [],
   "source": [
    "#Lista_cols = ['Elevador, Churrasqueira...']"
   ]
  },
  {
   "cell_type": "code",
   "execution_count": 77,
   "id": "747af875",
   "metadata": {},
   "outputs": [
    {
     "data": {
      "text/html": [
       "<div>\n",
       "<style scoped>\n",
       "    .dataframe tbody tr th:only-of-type {\n",
       "        vertical-align: middle;\n",
       "    }\n",
       "\n",
       "    .dataframe tbody tr th {\n",
       "        vertical-align: top;\n",
       "    }\n",
       "\n",
       "    .dataframe thead th {\n",
       "        text-align: right;\n",
       "    }\n",
       "</style>\n",
       "<table border=\"1\" class=\"dataframe\">\n",
       "  <thead>\n",
       "    <tr style=\"text-align: right;\">\n",
       "      <th></th>\n",
       "      <th>area</th>\n",
       "      <th>quartos</th>\n",
       "      <th>banheiros</th>\n",
       "      <th>vagas</th>\n",
       "      <th>preco</th>\n",
       "      <th>condominio</th>\n",
       "      <th>amenidades</th>\n",
       "      <th>zona</th>\n",
       "      <th>Piscina</th>\n",
       "      <th>Elevador</th>\n",
       "      <th>Churrasqueira</th>\n",
       "      <th>Varanda Gourmet</th>\n",
       "      <th>Salao de festas</th>\n",
       "      <th>Ar-condicionado</th>\n",
       "      <th>Academia</th>\n",
       "      <th>Lavanderia</th>\n",
       "      <th>Portaria 24h</th>\n",
       "      <th>Jardim</th>\n",
       "    </tr>\n",
       "  </thead>\n",
       "  <tbody>\n",
       "    <tr>\n",
       "      <th>0</th>\n",
       "      <td>46</td>\n",
       "      <td>1</td>\n",
       "      <td>1</td>\n",
       "      <td>1</td>\n",
       "      <td>3400.00</td>\n",
       "      <td>600.00</td>\n",
       "      <td>Piscina\\nChurrasqueira\\nCondomínio fechado\\nAc...</td>\n",
       "      <td>Sul</td>\n",
       "      <td>1</td>\n",
       "      <td>0</td>\n",
       "      <td>1</td>\n",
       "      <td>0</td>\n",
       "      <td>0</td>\n",
       "      <td>0</td>\n",
       "      <td>1</td>\n",
       "      <td>0</td>\n",
       "      <td>0</td>\n",
       "      <td>0</td>\n",
       "    </tr>\n",
       "    <tr>\n",
       "      <th>1</th>\n",
       "      <td>240</td>\n",
       "      <td>5</td>\n",
       "      <td>5</td>\n",
       "      <td>4</td>\n",
       "      <td>15000.00</td>\n",
       "      <td>3300.00</td>\n",
       "      <td>Piscina\\nMobiliado\\nChurrasqueira\\nElevador\\nC...</td>\n",
       "      <td>Sul</td>\n",
       "      <td>1</td>\n",
       "      <td>1</td>\n",
       "      <td>1</td>\n",
       "      <td>0</td>\n",
       "      <td>0</td>\n",
       "      <td>0</td>\n",
       "      <td>0</td>\n",
       "      <td>0</td>\n",
       "      <td>0</td>\n",
       "      <td>0</td>\n",
       "    </tr>\n",
       "    <tr>\n",
       "      <th>2</th>\n",
       "      <td>205</td>\n",
       "      <td>3</td>\n",
       "      <td>4</td>\n",
       "      <td>2</td>\n",
       "      <td>7900.00</td>\n",
       "      <td>2380.00</td>\n",
       "      <td>Piscina\\nElevador\\nCondomínio fechado\\nAcademi...</td>\n",
       "      <td>Sul</td>\n",
       "      <td>1</td>\n",
       "      <td>1</td>\n",
       "      <td>0</td>\n",
       "      <td>0</td>\n",
       "      <td>0</td>\n",
       "      <td>0</td>\n",
       "      <td>1</td>\n",
       "      <td>0</td>\n",
       "      <td>0</td>\n",
       "      <td>0</td>\n",
       "    </tr>\n",
       "    <tr>\n",
       "      <th>3</th>\n",
       "      <td>56</td>\n",
       "      <td>2</td>\n",
       "      <td>2</td>\n",
       "      <td>1</td>\n",
       "      <td>2900.00</td>\n",
       "      <td>630.00</td>\n",
       "      <td>Piscina\\nChurrasqueira\\nElevador\\nAcademia\\nAc...</td>\n",
       "      <td>Sul</td>\n",
       "      <td>1</td>\n",
       "      <td>1</td>\n",
       "      <td>1</td>\n",
       "      <td>0</td>\n",
       "      <td>0</td>\n",
       "      <td>0</td>\n",
       "      <td>1</td>\n",
       "      <td>0</td>\n",
       "      <td>0</td>\n",
       "      <td>0</td>\n",
       "    </tr>\n",
       "    <tr>\n",
       "      <th>4</th>\n",
       "      <td>45</td>\n",
       "      <td>1</td>\n",
       "      <td>1</td>\n",
       "      <td>1</td>\n",
       "      <td>2800.00</td>\n",
       "      <td>612.00</td>\n",
       "      <td>Elevador\\nCondomínio fechado\\nAceita animais\\n...</td>\n",
       "      <td>Sul</td>\n",
       "      <td>0</td>\n",
       "      <td>1</td>\n",
       "      <td>0</td>\n",
       "      <td>0</td>\n",
       "      <td>0</td>\n",
       "      <td>0</td>\n",
       "      <td>0</td>\n",
       "      <td>0</td>\n",
       "      <td>0</td>\n",
       "      <td>1</td>\n",
       "    </tr>\n",
       "  </tbody>\n",
       "</table>\n",
       "</div>"
      ],
      "text/plain": [
       "   area  quartos  banheiros  vagas    preco  condominio  \\\n",
       "0    46        1          1      1  3400.00      600.00   \n",
       "1   240        5          5      4 15000.00     3300.00   \n",
       "2   205        3          4      2  7900.00     2380.00   \n",
       "3    56        2          2      1  2900.00      630.00   \n",
       "4    45        1          1      1  2800.00      612.00   \n",
       "\n",
       "                                          amenidades zona  Piscina  Elevador  \\\n",
       "0  Piscina\\nChurrasqueira\\nCondomínio fechado\\nAc...  Sul        1         0   \n",
       "1  Piscina\\nMobiliado\\nChurrasqueira\\nElevador\\nC...  Sul        1         1   \n",
       "2  Piscina\\nElevador\\nCondomínio fechado\\nAcademi...  Sul        1         1   \n",
       "3  Piscina\\nChurrasqueira\\nElevador\\nAcademia\\nAc...  Sul        1         1   \n",
       "4  Elevador\\nCondomínio fechado\\nAceita animais\\n...  Sul        0         1   \n",
       "\n",
       "   Churrasqueira  Varanda Gourmet  Salao de festas  Ar-condicionado  Academia  \\\n",
       "0              1                0                0                0         1   \n",
       "1              1                0                0                0         0   \n",
       "2              0                0                0                0         1   \n",
       "3              1                0                0                0         1   \n",
       "4              0                0                0                0         0   \n",
       "\n",
       "   Lavanderia  Portaria 24h  Jardim  \n",
       "0           0             0       0  \n",
       "1           0             0       0  \n",
       "2           0             0       0  \n",
       "3           0             0       0  \n",
       "4           0             0       1  "
      ]
     },
     "execution_count": 77,
     "metadata": {},
     "output_type": "execute_result"
    }
   ],
   "source": [
    "dados.head()"
   ]
  },
  {
   "cell_type": "code",
   "execution_count": 79,
   "id": "5073f217",
   "metadata": {},
   "outputs": [],
   "source": [
    "dados = dados.drop(['amenidades'],axis=1)"
   ]
  },
  {
   "cell_type": "code",
   "execution_count": null,
   "id": "a9fd6a86",
   "metadata": {},
   "outputs": [],
   "source": []
  }
 ],
 "metadata": {
  "kernelspec": {
   "display_name": "Python 3",
   "language": "python",
   "name": "python3"
  },
  "language_info": {
   "codemirror_mode": {
    "name": "ipython",
    "version": 3
   },
   "file_extension": ".py",
   "mimetype": "text/x-python",
   "name": "python",
   "nbconvert_exporter": "python",
   "pygments_lexer": "ipython3",
   "version": "3.6.9"
  }
 },
 "nbformat": 4,
 "nbformat_minor": 5
}
