{
 "cells": [
  {
   "cell_type": "code",
   "execution_count": 7,
   "id": "102bc863",
   "metadata": {},
   "outputs": [],
   "source": [
    "import requests\n",
    "import pandas as pd\n",
    "from bs4 import BeautifulSoup"
   ]
  },
  {
   "cell_type": "code",
   "execution_count": 8,
   "id": "caf8fccf",
   "metadata": {},
   "outputs": [],
   "source": [
    "def converter_df(aluguel_lista, quartos_lista, banheiro_lista, vaga_lista, area_lista):\n",
    "    data = {'aluguel': aluguel_lista,\n",
    "           'quartos': quartos_lista,\n",
    "           'banheiros':banheiro_lista,\n",
    "           'vagas':vaga_lista,\n",
    "           'area':area_lista}\n",
    "    df = pd.DataFrame(data)\n",
    "    return df"
   ]
  },
  {
   "cell_type": "code",
   "execution_count": 9,
   "id": "433b674f",
   "metadata": {},
   "outputs": [],
   "source": [
    "def scrap(url):\n",
    "    c = requests.get(url).content\n",
    "    soup = BeautifulSoup(c)\n",
    "    \n",
    "    aluguel_tag = soup.find_all('div', {'class':'property-card__price js-property-card-prices js-property-card__price-small'})\n",
    "    aluguel_lista = [p.text for p in aluguel_tag]\n",
    "    \n",
    "    quartos_tag = soup.find_all('li', {'class':'property-card__detail-item property-card__detail-room js-property-detail-rooms'}) \n",
    "    quartos_lista = [p.text for p in quartos_tag]\n",
    "    \n",
    "    banheiro_tag = soup.find_all('li', {'class': 'property-card__detail-item property-card__detail-bathroom js-property-detail-bathroom'}) \n",
    "    banheiro_lista = [p.text for p in banheiro_tag]\n",
    "    \n",
    "    vaga_tag = soup.find_all('li', {'class': 'property-card__detail-item property-card__detail-garage js-property-detail-garages'}) \n",
    "    vaga_lista = [p.text for p in vaga_tag]\n",
    "    \n",
    "    area_tag = soup.find_all('li', {'class': 'property-card__detail-item property-card__detail-area'}) \n",
    "    area_lista = [p.text for p in area_tag]\n",
    "    \n",
    "    df = converter_df(aluguel_lista, quartos_lista, banheiro_lista, vaga_lista, area_lista)\n",
    "    return df"
   ]
  },
  {
   "cell_type": "code",
   "execution_count": 10,
   "id": "34634c70",
   "metadata": {},
   "outputs": [],
   "source": [
    "paginas = ['']\n",
    "for i in range(2,10):\n",
    "    a = '?pagina='+str(i)\n",
    "    paginas.append(a)"
   ]
  },
  {
   "cell_type": "code",
   "execution_count": 11,
   "id": "b4e0c298",
   "metadata": {},
   "outputs": [],
   "source": [
    "URL = 'https://www.vivareal.com.br/aluguel/sp/sao-paulo/apartamento_residencial/{}'"
   ]
  },
  {
   "cell_type": "code",
   "execution_count": 12,
   "id": "0882c8f5",
   "metadata": {},
   "outputs": [
    {
     "name": "stdout",
     "output_type": "stream",
     "text": [
      "Coletando dados da URL: https://www.vivareal.com.br/aluguel/sp/sao-paulo/apartamento_residencial/\n",
      "Coletando dados da URL: https://www.vivareal.com.br/aluguel/sp/sao-paulo/apartamento_residencial/?pagina=2\n",
      "Coletando dados da URL: https://www.vivareal.com.br/aluguel/sp/sao-paulo/apartamento_residencial/?pagina=3\n",
      "Coletando dados da URL: https://www.vivareal.com.br/aluguel/sp/sao-paulo/apartamento_residencial/?pagina=4\n",
      "Coletando dados da URL: https://www.vivareal.com.br/aluguel/sp/sao-paulo/apartamento_residencial/?pagina=5\n",
      "Coletando dados da URL: https://www.vivareal.com.br/aluguel/sp/sao-paulo/apartamento_residencial/?pagina=6\n",
      "Coletando dados da URL: https://www.vivareal.com.br/aluguel/sp/sao-paulo/apartamento_residencial/?pagina=7\n",
      "Coletando dados da URL: https://www.vivareal.com.br/aluguel/sp/sao-paulo/apartamento_residencial/?pagina=8\n",
      "Coletando dados da URL: https://www.vivareal.com.br/aluguel/sp/sao-paulo/apartamento_residencial/?pagina=9\n"
     ]
    }
   ],
   "source": [
    "df_lista = []\n",
    "for pg in paginas:\n",
    "    url = URL.format(pg)\n",
    "    print('Coletando dados da URL:', url)\n",
    "    try:\n",
    "        df = scrap(url)\n",
    "    except Exception as e:\n",
    "        print('Erro ao coletar dados da url:', url)\n",
    "        print(e)\n",
    "    df_lista.append(df)\n",
    "    #time.sleep(30)\n",
    "df_final = pd.concat(df_lista)"
   ]
  },
  {
   "cell_type": "code",
   "execution_count": 13,
   "id": "1b15221e",
   "metadata": {},
   "outputs": [
    {
     "data": {
      "text/html": [
       "<div>\n",
       "<style scoped>\n",
       "    .dataframe tbody tr th:only-of-type {\n",
       "        vertical-align: middle;\n",
       "    }\n",
       "\n",
       "    .dataframe tbody tr th {\n",
       "        vertical-align: top;\n",
       "    }\n",
       "\n",
       "    .dataframe thead th {\n",
       "        text-align: right;\n",
       "    }\n",
       "</style>\n",
       "<table border=\"1\" class=\"dataframe\">\n",
       "  <thead>\n",
       "    <tr style=\"text-align: right;\">\n",
       "      <th></th>\n",
       "      <th>aluguel</th>\n",
       "      <th>quartos</th>\n",
       "      <th>banheiros</th>\n",
       "      <th>vagas</th>\n",
       "      <th>area</th>\n",
       "    </tr>\n",
       "  </thead>\n",
       "  <tbody>\n",
       "    <tr>\n",
       "      <th>0</th>\n",
       "      <td>R$ 1.650 /Mês</td>\n",
       "      <td>2   Quartos</td>\n",
       "      <td>1   Banheiro</td>\n",
       "      <td>1   Vaga</td>\n",
       "      <td>53   m²</td>\n",
       "    </tr>\n",
       "    <tr>\n",
       "      <th>1</th>\n",
       "      <td>R$ 3.300 /Mês</td>\n",
       "      <td>2   Quartos</td>\n",
       "      <td>2   Banheiros</td>\n",
       "      <td>--   Vaga</td>\n",
       "      <td>67   m²</td>\n",
       "    </tr>\n",
       "    <tr>\n",
       "      <th>2</th>\n",
       "      <td>R$ 7.000 /Mês</td>\n",
       "      <td>2   Quartos</td>\n",
       "      <td>4   Banheiros</td>\n",
       "      <td>2   Vagas</td>\n",
       "      <td>110   m²</td>\n",
       "    </tr>\n",
       "    <tr>\n",
       "      <th>3</th>\n",
       "      <td>R$ 4.000 /Mês</td>\n",
       "      <td>2   Quartos</td>\n",
       "      <td>2   Banheiros</td>\n",
       "      <td>1   Vaga</td>\n",
       "      <td>60   m²</td>\n",
       "    </tr>\n",
       "    <tr>\n",
       "      <th>4</th>\n",
       "      <td>R$ 1.900 /Mês</td>\n",
       "      <td>2   Quartos</td>\n",
       "      <td>1   Banheiro</td>\n",
       "      <td>1   Vaga</td>\n",
       "      <td>65   m²</td>\n",
       "    </tr>\n",
       "  </tbody>\n",
       "</table>\n",
       "</div>"
      ],
      "text/plain": [
       "              aluguel          quartos          banheiros          vagas  \\\n",
       "0     R$ 1.650 /Mês      2   Quartos       1   Banheiro       1   Vaga     \n",
       "1     R$ 3.300 /Mês      2   Quartos      2   Banheiros      --   Vaga     \n",
       "2     R$ 7.000 /Mês      2   Quartos      4   Banheiros      2   Vagas     \n",
       "3     R$ 4.000 /Mês      2   Quartos      2   Banheiros       1   Vaga     \n",
       "4     R$ 1.900 /Mês      2   Quartos       1   Banheiro       1   Vaga     \n",
       "\n",
       "           area  \n",
       "0     53   m²    \n",
       "1     67   m²    \n",
       "2    110   m²    \n",
       "3     60   m²    \n",
       "4     65   m²    "
      ]
     },
     "execution_count": 13,
     "metadata": {},
     "output_type": "execute_result"
    }
   ],
   "source": [
    "df_final.head()"
   ]
  },
  {
   "cell_type": "code",
   "execution_count": 14,
   "id": "b28a6877",
   "metadata": {},
   "outputs": [
    {
     "data": {
      "text/plain": [
       "(324, 5)"
      ]
     },
     "execution_count": 14,
     "metadata": {},
     "output_type": "execute_result"
    }
   ],
   "source": [
    "df_final.shape"
   ]
  },
  {
   "cell_type": "code",
   "execution_count": 19,
   "id": "03985819",
   "metadata": {},
   "outputs": [],
   "source": [
    "df_final2 = df_final.drop_duplicates(subset=['aluguel','quartos','banheiros','vagas','area'], keep='first')"
   ]
  },
  {
   "cell_type": "code",
   "execution_count": 20,
   "id": "9aa0b3ae",
   "metadata": {},
   "outputs": [
    {
     "data": {
      "text/plain": [
       "(36, 5)"
      ]
     },
     "execution_count": 20,
     "metadata": {},
     "output_type": "execute_result"
    }
   ],
   "source": [
    "df_final2.shape"
   ]
  },
  {
   "cell_type": "code",
   "execution_count": null,
   "id": "5712c0c1",
   "metadata": {},
   "outputs": [],
   "source": []
  }
 ],
 "metadata": {
  "kernelspec": {
   "display_name": "Python 3",
   "language": "python",
   "name": "python3"
  },
  "language_info": {
   "codemirror_mode": {
    "name": "ipython",
    "version": 3
   },
   "file_extension": ".py",
   "mimetype": "text/x-python",
   "name": "python",
   "nbconvert_exporter": "python",
   "pygments_lexer": "ipython3",
   "version": "3.6.9"
  }
 },
 "nbformat": 4,
 "nbformat_minor": 5
}
