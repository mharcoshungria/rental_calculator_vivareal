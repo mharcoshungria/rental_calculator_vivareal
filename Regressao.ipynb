{
 "cells": [
  {
   "cell_type": "markdown",
   "id": "52f219fc",
   "metadata": {},
   "source": [
    "```\n",
    "Notebook written by Sara Malvar 2021\n",
    "Any issues, please send me an e-mail: malvar.sara@gmail.com```"
   ]
  },
  {
   "cell_type": "markdown",
   "id": "c673c080",
   "metadata": {},
   "source": [
    "## Testando sem *amenities*\n",
    "### 1. Importação dos dados e preparação do dataframe"
   ]
  },
  {
   "cell_type": "code",
   "execution_count": 63,
   "id": "ceee4678",
   "metadata": {},
   "outputs": [],
   "source": [
    "import pandas as pd\n",
    "import warnings\n",
    "warnings.filterwarnings(\"ignore\")"
   ]
  },
  {
   "cell_type": "code",
   "execution_count": 64,
   "id": "6ae344a9",
   "metadata": {},
   "outputs": [
    {
     "data": {
      "text/html": [
       "<div>\n",
       "<style scoped>\n",
       "    .dataframe tbody tr th:only-of-type {\n",
       "        vertical-align: middle;\n",
       "    }\n",
       "\n",
       "    .dataframe tbody tr th {\n",
       "        vertical-align: top;\n",
       "    }\n",
       "\n",
       "    .dataframe thead th {\n",
       "        text-align: right;\n",
       "    }\n",
       "</style>\n",
       "<table border=\"1\" class=\"dataframe\">\n",
       "  <thead>\n",
       "    <tr style=\"text-align: right;\">\n",
       "      <th></th>\n",
       "      <th>id</th>\n",
       "      <th>area</th>\n",
       "      <th>quartos</th>\n",
       "      <th>banheiros</th>\n",
       "      <th>vagas</th>\n",
       "      <th>amenities</th>\n",
       "      <th>aluguel</th>\n",
       "      <th>condo</th>\n",
       "      <th>bairro</th>\n",
       "      <th>zona</th>\n",
       "    </tr>\n",
       "  </thead>\n",
       "  <tbody>\n",
       "    <tr>\n",
       "      <th>0</th>\n",
       "      <td>2512663008</td>\n",
       "      <td>30</td>\n",
       "      <td>1</td>\n",
       "      <td>1</td>\n",
       "      <td>1</td>\n",
       "      <td>Mobiliado\\nPiscina\\nAcademia\\nAr-condicionado\\...</td>\n",
       "      <td>3500.00</td>\n",
       "      <td>2.00</td>\n",
       "      <td>Vila Madalena</td>\n",
       "      <td>Oeste</td>\n",
       "    </tr>\n",
       "    <tr>\n",
       "      <th>1</th>\n",
       "      <td>2518591697</td>\n",
       "      <td>98</td>\n",
       "      <td>2</td>\n",
       "      <td>2</td>\n",
       "      <td>1</td>\n",
       "      <td>Aceita animais\\nPortaria 24h</td>\n",
       "      <td>2600.00</td>\n",
       "      <td>1000.00</td>\n",
       "      <td>Perdizes</td>\n",
       "      <td>Oeste</td>\n",
       "    </tr>\n",
       "    <tr>\n",
       "      <th>2</th>\n",
       "      <td>2518566682</td>\n",
       "      <td>126</td>\n",
       "      <td>3</td>\n",
       "      <td>2</td>\n",
       "      <td>1</td>\n",
       "      <td>Condomínio fechado\\nAceita animais\\nPortaria 2...</td>\n",
       "      <td>3900.00</td>\n",
       "      <td>1640.00</td>\n",
       "      <td>Jardim Paulista</td>\n",
       "      <td>Oeste</td>\n",
       "    </tr>\n",
       "    <tr>\n",
       "      <th>3</th>\n",
       "      <td>2519041802</td>\n",
       "      <td>78</td>\n",
       "      <td>2</td>\n",
       "      <td>2</td>\n",
       "      <td>1</td>\n",
       "      <td>Elevador\\nPortaria 24h</td>\n",
       "      <td>2500.00</td>\n",
       "      <td>761.00</td>\n",
       "      <td>Vila Madalena</td>\n",
       "      <td>Oeste</td>\n",
       "    </tr>\n",
       "    <tr>\n",
       "      <th>4</th>\n",
       "      <td>2514428582</td>\n",
       "      <td>186</td>\n",
       "      <td>4</td>\n",
       "      <td>4</td>\n",
       "      <td>3</td>\n",
       "      <td>Piscina\\nVaranda gourmet\\nAcademia\\nChurrasque...</td>\n",
       "      <td>7500.00</td>\n",
       "      <td>1730.00</td>\n",
       "      <td>Vila Suzana</td>\n",
       "      <td>Oeste</td>\n",
       "    </tr>\n",
       "  </tbody>\n",
       "</table>\n",
       "</div>"
      ],
      "text/plain": [
       "           id  area  quartos  banheiros vagas  \\\n",
       "0  2512663008    30        1          1     1   \n",
       "1  2518591697    98        2          2     1   \n",
       "2  2518566682   126        3          2     1   \n",
       "3  2519041802    78        2          2     1   \n",
       "4  2514428582   186        4          4     3   \n",
       "\n",
       "                                           amenities  aluguel   condo  \\\n",
       "0  Mobiliado\\nPiscina\\nAcademia\\nAr-condicionado\\...  3500.00    2.00   \n",
       "1                       Aceita animais\\nPortaria 24h  2600.00 1000.00   \n",
       "2  Condomínio fechado\\nAceita animais\\nPortaria 2...  3900.00 1640.00   \n",
       "3                             Elevador\\nPortaria 24h  2500.00  761.00   \n",
       "4  Piscina\\nVaranda gourmet\\nAcademia\\nChurrasque...  7500.00 1730.00   \n",
       "\n",
       "             bairro   zona  \n",
       "0     Vila Madalena  Oeste  \n",
       "1          Perdizes  Oeste  \n",
       "2   Jardim Paulista  Oeste  \n",
       "3     Vila Madalena  Oeste  \n",
       "4       Vila Suzana  Oeste  "
      ]
     },
     "execution_count": 64,
     "metadata": {},
     "output_type": "execute_result"
    }
   ],
   "source": [
    "dados = pd.read_csv('df_final.csv')\n",
    "dados = dados.drop(['url','header','address','crawler','crawled_at'],axis=1)\n",
    "dados = dados.rename(columns = {'rooms': 'quartos', 'bathrooms': 'banheiros', 'price':'aluguel',\n",
    "                               'neighborhood':'bairro','garages':'vagas'}, inplace = False)\n",
    "dados.head()"
   ]
  },
  {
   "cell_type": "code",
   "execution_count": 65,
   "id": "56c40405",
   "metadata": {},
   "outputs": [
    {
     "data": {
      "text/html": [
       "<div>\n",
       "<style scoped>\n",
       "    .dataframe tbody tr th:only-of-type {\n",
       "        vertical-align: middle;\n",
       "    }\n",
       "\n",
       "    .dataframe tbody tr th {\n",
       "        vertical-align: top;\n",
       "    }\n",
       "\n",
       "    .dataframe thead th {\n",
       "        text-align: right;\n",
       "    }\n",
       "</style>\n",
       "<table border=\"1\" class=\"dataframe\">\n",
       "  <thead>\n",
       "    <tr style=\"text-align: right;\">\n",
       "      <th></th>\n",
       "      <th>id</th>\n",
       "      <th>area</th>\n",
       "      <th>quartos</th>\n",
       "      <th>banheiros</th>\n",
       "      <th>aluguel</th>\n",
       "      <th>condo</th>\n",
       "    </tr>\n",
       "  </thead>\n",
       "  <tbody>\n",
       "    <tr>\n",
       "      <th>count</th>\n",
       "      <td>5336.00</td>\n",
       "      <td>5336.00</td>\n",
       "      <td>5336.00</td>\n",
       "      <td>5336.00</td>\n",
       "      <td>5336.00</td>\n",
       "      <td>5336.00</td>\n",
       "    </tr>\n",
       "    <tr>\n",
       "      <th>mean</th>\n",
       "      <td>2505919454.11</td>\n",
       "      <td>85.72</td>\n",
       "      <td>2.10</td>\n",
       "      <td>2.02</td>\n",
       "      <td>3944.38</td>\n",
       "      <td>1821.93</td>\n",
       "    </tr>\n",
       "    <tr>\n",
       "      <th>std</th>\n",
       "      <td>106374811.78</td>\n",
       "      <td>57.24</td>\n",
       "      <td>0.89</td>\n",
       "      <td>1.18</td>\n",
       "      <td>3398.02</td>\n",
       "      <td>34084.59</td>\n",
       "    </tr>\n",
       "    <tr>\n",
       "      <th>min</th>\n",
       "      <td>51091425.00</td>\n",
       "      <td>11.00</td>\n",
       "      <td>1.00</td>\n",
       "      <td>1.00</td>\n",
       "      <td>500.00</td>\n",
       "      <td>1.00</td>\n",
       "    </tr>\n",
       "    <tr>\n",
       "      <th>25%</th>\n",
       "      <td>2510520771.75</td>\n",
       "      <td>50.00</td>\n",
       "      <td>1.00</td>\n",
       "      <td>1.00</td>\n",
       "      <td>2000.00</td>\n",
       "      <td>560.00</td>\n",
       "    </tr>\n",
       "    <tr>\n",
       "      <th>50%</th>\n",
       "      <td>2515470671.00</td>\n",
       "      <td>70.00</td>\n",
       "      <td>2.00</td>\n",
       "      <td>2.00</td>\n",
       "      <td>2900.00</td>\n",
       "      <td>800.00</td>\n",
       "    </tr>\n",
       "    <tr>\n",
       "      <th>75%</th>\n",
       "      <td>2517988074.00</td>\n",
       "      <td>100.00</td>\n",
       "      <td>3.00</td>\n",
       "      <td>3.00</td>\n",
       "      <td>4490.00</td>\n",
       "      <td>1200.00</td>\n",
       "    </tr>\n",
       "    <tr>\n",
       "      <th>max</th>\n",
       "      <td>2519594378.00</td>\n",
       "      <td>623.00</td>\n",
       "      <td>6.00</td>\n",
       "      <td>7.00</td>\n",
       "      <td>25000.00</td>\n",
       "      <td>1686000.00</td>\n",
       "    </tr>\n",
       "  </tbody>\n",
       "</table>\n",
       "</div>"
      ],
      "text/plain": [
       "                 id    area  quartos  banheiros  aluguel      condo\n",
       "count       5336.00 5336.00  5336.00    5336.00  5336.00    5336.00\n",
       "mean  2505919454.11   85.72     2.10       2.02  3944.38    1821.93\n",
       "std    106374811.78   57.24     0.89       1.18  3398.02   34084.59\n",
       "min     51091425.00   11.00     1.00       1.00   500.00       1.00\n",
       "25%   2510520771.75   50.00     1.00       1.00  2000.00     560.00\n",
       "50%   2515470671.00   70.00     2.00       2.00  2900.00     800.00\n",
       "75%   2517988074.00  100.00     3.00       3.00  4490.00    1200.00\n",
       "max   2519594378.00  623.00     6.00       7.00 25000.00 1686000.00"
      ]
     },
     "execution_count": 65,
     "metadata": {},
     "output_type": "execute_result"
    }
   ],
   "source": [
    "dados.describe()"
   ]
  },
  {
   "cell_type": "markdown",
   "id": "521a0ef7",
   "metadata": {},
   "source": [
    "Vou remover alguns outliers. Primeiramente, no valor do condomínio, depois transformar as vagas em dados numpéricos e remover seus outliers também (valor máximo > 10). Por fim, vou remover algumas variáveis que acho desnecessárias, incluindo as *amenities*."
   ]
  },
  {
   "cell_type": "code",
   "execution_count": 66,
   "id": "6a55f2f9",
   "metadata": {},
   "outputs": [],
   "source": [
    "dados = dados[dados['zona'] != 'nenhuma']\n",
    "dados.vagas = pd.to_numeric(dados.vagas, errors='coerce')\n",
    "dados.vagas = dados.vagas.fillna(0)\n",
    "dados = dados[dados['condo'] <= 10000]\n",
    "dados = dados[dados['vagas'] <= 10]"
   ]
  },
  {
   "cell_type": "code",
   "execution_count": 67,
   "id": "368c7b1a",
   "metadata": {},
   "outputs": [],
   "source": [
    "dados_sem = dados.drop(['id','amenities','bairro'],axis=1)"
   ]
  },
  {
   "cell_type": "markdown",
   "id": "9ea6ddf2",
   "metadata": {},
   "source": [
    "### 2. Iniciando a comparação dos modelos utilizando a `lazypredict`"
   ]
  },
  {
   "cell_type": "code",
   "execution_count": 68,
   "id": "9ba375dd",
   "metadata": {},
   "outputs": [],
   "source": [
    "import lazypredict\n",
    "import numpy as np\n",
    "from lazypredict.Supervised import LazyRegressor\n",
    "from sklearn.model_selection import train_test_split"
   ]
  },
  {
   "cell_type": "code",
   "execution_count": 69,
   "id": "f49d9668",
   "metadata": {},
   "outputs": [],
   "source": [
    "y = dados_sem['aluguel']\n",
    "X = dados_sem.drop(['aluguel'],axis=1)\n",
    "X = pd.get_dummies(X)"
   ]
  },
  {
   "cell_type": "code",
   "execution_count": 70,
   "id": "347f125b",
   "metadata": {},
   "outputs": [],
   "source": [
    "X_train, X_test, y_train, y_test = train_test_split(X, y, test_size=.2, random_state=42)"
   ]
  },
  {
   "cell_type": "code",
   "execution_count": 71,
   "id": "672fe5cd",
   "metadata": {},
   "outputs": [
    {
     "name": "stderr",
     "output_type": "stream",
     "text": [
      "100%|██████████| 42/42 [00:18<00:00,  2.29it/s]\n"
     ]
    }
   ],
   "source": [
    "reg = LazyRegressor(predictions=True)\n",
    "models, predictions = reg.fit(X_train, X_test, y_train, y_test)"
   ]
  },
  {
   "cell_type": "code",
   "execution_count": 72,
   "id": "35007d77",
   "metadata": {},
   "outputs": [
    {
     "data": {
      "text/html": [
       "<div>\n",
       "<style scoped>\n",
       "    .dataframe tbody tr th:only-of-type {\n",
       "        vertical-align: middle;\n",
       "    }\n",
       "\n",
       "    .dataframe tbody tr th {\n",
       "        vertical-align: top;\n",
       "    }\n",
       "\n",
       "    .dataframe thead th {\n",
       "        text-align: right;\n",
       "    }\n",
       "</style>\n",
       "<table border=\"1\" class=\"dataframe\">\n",
       "  <thead>\n",
       "    <tr style=\"text-align: right;\">\n",
       "      <th></th>\n",
       "      <th>Adjusted R-Squared</th>\n",
       "      <th>R-Squared</th>\n",
       "      <th>RMSE</th>\n",
       "      <th>Time Taken</th>\n",
       "    </tr>\n",
       "    <tr>\n",
       "      <th>Model</th>\n",
       "      <th></th>\n",
       "      <th></th>\n",
       "      <th></th>\n",
       "      <th></th>\n",
       "    </tr>\n",
       "  </thead>\n",
       "  <tbody>\n",
       "    <tr>\n",
       "      <th>HistGradientBoostingRegressor</th>\n",
       "      <td>0.68</td>\n",
       "      <td>0.68</td>\n",
       "      <td>1815.93</td>\n",
       "      <td>0.47</td>\n",
       "    </tr>\n",
       "    <tr>\n",
       "      <th>RandomForestRegressor</th>\n",
       "      <td>0.67</td>\n",
       "      <td>0.67</td>\n",
       "      <td>1834.94</td>\n",
       "      <td>1.00</td>\n",
       "    </tr>\n",
       "    <tr>\n",
       "      <th>LGBMRegressor</th>\n",
       "      <td>0.67</td>\n",
       "      <td>0.67</td>\n",
       "      <td>1842.44</td>\n",
       "      <td>0.17</td>\n",
       "    </tr>\n",
       "    <tr>\n",
       "      <th>ExtraTreesRegressor</th>\n",
       "      <td>0.66</td>\n",
       "      <td>0.67</td>\n",
       "      <td>1855.50</td>\n",
       "      <td>0.68</td>\n",
       "    </tr>\n",
       "    <tr>\n",
       "      <th>BaggingRegressor</th>\n",
       "      <td>0.64</td>\n",
       "      <td>0.65</td>\n",
       "      <td>1908.12</td>\n",
       "      <td>0.09</td>\n",
       "    </tr>\n",
       "  </tbody>\n",
       "</table>\n",
       "</div>"
      ],
      "text/plain": [
       "                               Adjusted R-Squared  R-Squared    RMSE  \\\n",
       "Model                                                                  \n",
       "HistGradientBoostingRegressor                0.68       0.68 1815.93   \n",
       "RandomForestRegressor                        0.67       0.67 1834.94   \n",
       "LGBMRegressor                                0.67       0.67 1842.44   \n",
       "ExtraTreesRegressor                          0.66       0.67 1855.50   \n",
       "BaggingRegressor                             0.64       0.65 1908.12   \n",
       "\n",
       "                               Time Taken  \n",
       "Model                                      \n",
       "HistGradientBoostingRegressor        0.47  \n",
       "RandomForestRegressor                1.00  \n",
       "LGBMRegressor                        0.17  \n",
       "ExtraTreesRegressor                  0.68  \n",
       "BaggingRegressor                     0.09  "
      ]
     },
     "execution_count": 72,
     "metadata": {},
     "output_type": "execute_result"
    }
   ],
   "source": [
    "models.head(5)"
   ]
  },
  {
   "cell_type": "markdown",
   "id": "8ae6aff9",
   "metadata": {},
   "source": [
    "Considerando a facilidade em entender o modelo, vamos tunar os hiperparâmetros do `RandomForestRegressor`."
   ]
  },
  {
   "cell_type": "code",
   "execution_count": 73,
   "id": "8057374e",
   "metadata": {},
   "outputs": [
    {
     "data": {
      "text/plain": [
       "RandomForestRegressor()"
      ]
     },
     "execution_count": 73,
     "metadata": {},
     "output_type": "execute_result"
    }
   ],
   "source": [
    "from sklearn.ensemble import RandomForestRegressor\n",
    "rf = RandomForestRegressor()\n",
    "rf.fit(X_train,y_train)"
   ]
  },
  {
   "cell_type": "code",
   "execution_count": 74,
   "id": "3041e3d1",
   "metadata": {},
   "outputs": [
    {
     "data": {
      "text/plain": [
       "GridSearchCV(cv=5, estimator=RandomForestRegressor(max_depth=1), n_jobs=-1,\n",
       "             param_grid=[{'max_depth': [4, 6, 8, 12, 20],\n",
       "                          'min_samples_leaf': [1, 2, 4],\n",
       "                          'n_estimators': [50, 100, 200, 400]}],\n",
       "             scoring='r2')"
      ]
     },
     "execution_count": 74,
     "metadata": {},
     "output_type": "execute_result"
    }
   ],
   "source": [
    "from sklearn.model_selection import GridSearchCV\n",
    "parameters=[{'min_samples_leaf':[1,2,4],\n",
    "             'max_depth':[4,6,8,12,20],\n",
    "             'n_estimators':[50, 100, 200,400]}]\n",
    "            \n",
    "rf = RandomForestRegressor(n_estimators=100, max_depth=1)\n",
    "gs = GridSearchCV(rf,parameters,scoring='r2',n_jobs=-1,cv=5)\n",
    "gs.fit(X_train, y_train)"
   ]
  },
  {
   "cell_type": "code",
   "execution_count": 93,
   "id": "f9448c48",
   "metadata": {},
   "outputs": [
    {
     "data": {
      "text/plain": [
       "{'max_depth': 8, 'min_samples_leaf': 2, 'n_estimators': 200}"
      ]
     },
     "execution_count": 93,
     "metadata": {},
     "output_type": "execute_result"
    }
   ],
   "source": [
    "gs.best_params_"
   ]
  },
  {
   "cell_type": "code",
   "execution_count": 94,
   "id": "392a22a2",
   "metadata": {},
   "outputs": [],
   "source": [
    "reg = gs.best_estimator_"
   ]
  },
  {
   "cell_type": "code",
   "execution_count": 95,
   "id": "186cf3e0",
   "metadata": {},
   "outputs": [
    {
     "data": {
      "text/plain": [
       "RandomForestRegressor(max_depth=8, min_samples_leaf=2, n_estimators=200)"
      ]
     },
     "execution_count": 95,
     "metadata": {},
     "output_type": "execute_result"
    }
   ],
   "source": [
    "reg"
   ]
  },
  {
   "cell_type": "code",
   "execution_count": 77,
   "id": "6c2e9936",
   "metadata": {},
   "outputs": [
    {
     "name": "stdout",
     "output_type": "stream",
     "text": [
      "Train score 0.8842886902861558\n",
      "Validation score [0.66057753 0.66492714 0.66831065 0.66670708 0.6182376 ]\n",
      "Test score 0.6785709459397588\n"
     ]
    }
   ],
   "source": [
    "from sklearn.model_selection import cross_val_score\n",
    "train_score = reg.score(X_train, y_train)\n",
    "val_score = cross_val_score(reg, X_train, y_train, cv=5)\n",
    "test_score = reg.score(X_test, y_test)\n",
    "print('Train score', train_score)\n",
    "print('Validation score', val_score)\n",
    "print('Test score', test_score)"
   ]
  },
  {
   "cell_type": "code",
   "execution_count": 96,
   "id": "18b51c29",
   "metadata": {},
   "outputs": [],
   "source": [
    "import pickle\n",
    "filename = 'RF_sem-amenities.pkl'\n",
    "pickle.dump(reg, open(filename, 'wb'))"
   ]
  },
  {
   "cell_type": "markdown",
   "id": "a088e688",
   "metadata": {},
   "source": [
    "## Testando com *amenities*\n",
    "### 1. Importação dos dados e preparação do dataframe"
   ]
  },
  {
   "cell_type": "code",
   "execution_count": 78,
   "id": "bafba242",
   "metadata": {},
   "outputs": [
    {
     "data": {
      "text/html": [
       "<div>\n",
       "<style scoped>\n",
       "    .dataframe tbody tr th:only-of-type {\n",
       "        vertical-align: middle;\n",
       "    }\n",
       "\n",
       "    .dataframe tbody tr th {\n",
       "        vertical-align: top;\n",
       "    }\n",
       "\n",
       "    .dataframe thead th {\n",
       "        text-align: right;\n",
       "    }\n",
       "</style>\n",
       "<table border=\"1\" class=\"dataframe\">\n",
       "  <thead>\n",
       "    <tr style=\"text-align: right;\">\n",
       "      <th></th>\n",
       "      <th>0</th>\n",
       "      <th>1</th>\n",
       "      <th>2</th>\n",
       "      <th>3</th>\n",
       "      <th>4</th>\n",
       "    </tr>\n",
       "  </thead>\n",
       "  <tbody>\n",
       "    <tr>\n",
       "      <th>0</th>\n",
       "      <td>Mobiliado</td>\n",
       "      <td>Piscina</td>\n",
       "      <td>Academia</td>\n",
       "      <td>Ar-condicionado</td>\n",
       "      <td>Elevador</td>\n",
       "    </tr>\n",
       "    <tr>\n",
       "      <th>1</th>\n",
       "      <td>Aceita animais</td>\n",
       "      <td>Portaria 24h</td>\n",
       "      <td>None</td>\n",
       "      <td>None</td>\n",
       "      <td>None</td>\n",
       "    </tr>\n",
       "    <tr>\n",
       "      <th>2</th>\n",
       "      <td>Condomínio fechado</td>\n",
       "      <td>Aceita animais</td>\n",
       "      <td>Portaria 24h</td>\n",
       "      <td>Portão eletrônico</td>\n",
       "      <td>None</td>\n",
       "    </tr>\n",
       "    <tr>\n",
       "      <th>3</th>\n",
       "      <td>Elevador</td>\n",
       "      <td>Portaria 24h</td>\n",
       "      <td>None</td>\n",
       "      <td>None</td>\n",
       "      <td>None</td>\n",
       "    </tr>\n",
       "    <tr>\n",
       "      <th>4</th>\n",
       "      <td>Piscina</td>\n",
       "      <td>Varanda gourmet</td>\n",
       "      <td>Academia</td>\n",
       "      <td>Churrasqueira</td>\n",
       "      <td>Ar-condicionado</td>\n",
       "    </tr>\n",
       "    <tr>\n",
       "      <th>5</th>\n",
       "      <td>Piscina</td>\n",
       "      <td>Academia</td>\n",
       "      <td>Elevador</td>\n",
       "      <td>Aceita animais</td>\n",
       "      <td>Playground</td>\n",
       "    </tr>\n",
       "    <tr>\n",
       "      <th>6</th>\n",
       "      <td>Aceita animais</td>\n",
       "      <td>Jardim</td>\n",
       "      <td>Portaria 24h</td>\n",
       "      <td>None</td>\n",
       "      <td>None</td>\n",
       "    </tr>\n",
       "    <tr>\n",
       "      <th>7</th>\n",
       "      <td>Piscina</td>\n",
       "      <td>Academia</td>\n",
       "      <td>Ar-condicionado</td>\n",
       "      <td>Elevador</td>\n",
       "      <td>Aceita animais</td>\n",
       "    </tr>\n",
       "    <tr>\n",
       "      <th>8</th>\n",
       "      <td>Mobiliado</td>\n",
       "      <td>Piscina</td>\n",
       "      <td>Academia</td>\n",
       "      <td>Churrasqueira</td>\n",
       "      <td>Elevador</td>\n",
       "    </tr>\n",
       "    <tr>\n",
       "      <th>9</th>\n",
       "      <td>Mobiliado</td>\n",
       "      <td>Piscina</td>\n",
       "      <td>Varanda gourmet</td>\n",
       "      <td>Academia</td>\n",
       "      <td>Churrasqueira</td>\n",
       "    </tr>\n",
       "  </tbody>\n",
       "</table>\n",
       "</div>"
      ],
      "text/plain": [
       "                    0                1                2                  3  \\\n",
       "0           Mobiliado          Piscina         Academia    Ar-condicionado   \n",
       "1      Aceita animais     Portaria 24h             None               None   \n",
       "2  Condomínio fechado   Aceita animais     Portaria 24h  Portão eletrônico   \n",
       "3            Elevador     Portaria 24h             None               None   \n",
       "4             Piscina  Varanda gourmet         Academia      Churrasqueira   \n",
       "5             Piscina         Academia         Elevador     Aceita animais   \n",
       "6      Aceita animais           Jardim     Portaria 24h               None   \n",
       "7             Piscina         Academia  Ar-condicionado           Elevador   \n",
       "8           Mobiliado          Piscina         Academia      Churrasqueira   \n",
       "9           Mobiliado          Piscina  Varanda gourmet           Academia   \n",
       "\n",
       "                 4  \n",
       "0         Elevador  \n",
       "1             None  \n",
       "2             None  \n",
       "3             None  \n",
       "4  Ar-condicionado  \n",
       "5       Playground  \n",
       "6             None  \n",
       "7   Aceita animais  \n",
       "8         Elevador  \n",
       "9    Churrasqueira  "
      ]
     },
     "execution_count": 78,
     "metadata": {},
     "output_type": "execute_result"
    }
   ],
   "source": [
    "amenities = dados['amenities'].str.split('\\n', expand=True)\n",
    "amenities.head(10)"
   ]
  },
  {
   "cell_type": "code",
   "execution_count": 79,
   "id": "e369405e",
   "metadata": {},
   "outputs": [],
   "source": [
    "dados['Piscina'] = dados['amenities'].apply(lambda x: 1 if 'Piscina' in x else 0)\n",
    "dados['Elevador'] = dados['amenities'].apply(lambda x: 1 if 'Elevador' in x else 0)\n",
    "dados['Churrasqueira'] = dados['amenities'].apply(lambda x: 1 if 'Churrasqueira' in x else 0)\n",
    "dados['Varanda Gourmet'] = dados['amenities'].apply(lambda x: 1 if 'Varanda Gourmet' in x else 0)\n",
    "dados['Salao de festas'] = dados['amenities'].apply(lambda x: 1 if 'Salão de festas' in x else 0)\n",
    "dados['Ar-condicionado'] = dados['amenities'].apply(lambda x: 1 if 'Ar-condicionado' in x else 0)\n",
    "dados['Academia'] = dados['amenities'].apply(lambda x: 1 if 'Academia' in x else 0)\n",
    "dados['Lavanderia'] = dados['amenities'].apply(lambda x: 1 if 'Lavanderia' in x else 0)\n",
    "dados['Portaria 24h'] = dados['amenities'].apply(lambda x: 1 if 'Portaria 24h' in x else 0)\n",
    "dados['Jardim'] = dados['amenities'].apply(lambda x: 1 if 'Jardim' in x else 0)"
   ]
  },
  {
   "cell_type": "code",
   "execution_count": 80,
   "id": "2d427838",
   "metadata": {},
   "outputs": [],
   "source": [
    "dados_com = dados.drop(['id','amenities','bairro'],axis=1)"
   ]
  },
  {
   "cell_type": "code",
   "execution_count": 81,
   "id": "1692989a",
   "metadata": {},
   "outputs": [],
   "source": [
    "y = dados_com['aluguel']\n",
    "X = dados_com.drop(['aluguel'],axis=1)\n",
    "X = pd.get_dummies(X)"
   ]
  },
  {
   "cell_type": "code",
   "execution_count": 82,
   "id": "fbdea1d6",
   "metadata": {},
   "outputs": [
    {
     "data": {
      "text/html": [
       "<div>\n",
       "<style scoped>\n",
       "    .dataframe tbody tr th:only-of-type {\n",
       "        vertical-align: middle;\n",
       "    }\n",
       "\n",
       "    .dataframe tbody tr th {\n",
       "        vertical-align: top;\n",
       "    }\n",
       "\n",
       "    .dataframe thead th {\n",
       "        text-align: right;\n",
       "    }\n",
       "</style>\n",
       "<table border=\"1\" class=\"dataframe\">\n",
       "  <thead>\n",
       "    <tr style=\"text-align: right;\">\n",
       "      <th></th>\n",
       "      <th>area</th>\n",
       "      <th>quartos</th>\n",
       "      <th>banheiros</th>\n",
       "      <th>vagas</th>\n",
       "      <th>condo</th>\n",
       "      <th>Piscina</th>\n",
       "      <th>Elevador</th>\n",
       "      <th>Churrasqueira</th>\n",
       "      <th>Varanda Gourmet</th>\n",
       "      <th>Salao de festas</th>\n",
       "      <th>Ar-condicionado</th>\n",
       "      <th>Academia</th>\n",
       "      <th>Lavanderia</th>\n",
       "      <th>Portaria 24h</th>\n",
       "      <th>Jardim</th>\n",
       "      <th>zona_Centro</th>\n",
       "      <th>zona_Leste</th>\n",
       "      <th>zona_Norte</th>\n",
       "      <th>zona_Oeste</th>\n",
       "      <th>zona_Sul</th>\n",
       "    </tr>\n",
       "  </thead>\n",
       "  <tbody>\n",
       "    <tr>\n",
       "      <th>0</th>\n",
       "      <td>30</td>\n",
       "      <td>1</td>\n",
       "      <td>1</td>\n",
       "      <td>1.00</td>\n",
       "      <td>2.00</td>\n",
       "      <td>1</td>\n",
       "      <td>1</td>\n",
       "      <td>0</td>\n",
       "      <td>0</td>\n",
       "      <td>0</td>\n",
       "      <td>1</td>\n",
       "      <td>1</td>\n",
       "      <td>0</td>\n",
       "      <td>0</td>\n",
       "      <td>0</td>\n",
       "      <td>0</td>\n",
       "      <td>0</td>\n",
       "      <td>0</td>\n",
       "      <td>1</td>\n",
       "      <td>0</td>\n",
       "    </tr>\n",
       "    <tr>\n",
       "      <th>1</th>\n",
       "      <td>98</td>\n",
       "      <td>2</td>\n",
       "      <td>2</td>\n",
       "      <td>1.00</td>\n",
       "      <td>1000.00</td>\n",
       "      <td>0</td>\n",
       "      <td>0</td>\n",
       "      <td>0</td>\n",
       "      <td>0</td>\n",
       "      <td>0</td>\n",
       "      <td>0</td>\n",
       "      <td>0</td>\n",
       "      <td>0</td>\n",
       "      <td>1</td>\n",
       "      <td>0</td>\n",
       "      <td>0</td>\n",
       "      <td>0</td>\n",
       "      <td>0</td>\n",
       "      <td>1</td>\n",
       "      <td>0</td>\n",
       "    </tr>\n",
       "    <tr>\n",
       "      <th>2</th>\n",
       "      <td>126</td>\n",
       "      <td>3</td>\n",
       "      <td>2</td>\n",
       "      <td>1.00</td>\n",
       "      <td>1640.00</td>\n",
       "      <td>0</td>\n",
       "      <td>0</td>\n",
       "      <td>0</td>\n",
       "      <td>0</td>\n",
       "      <td>0</td>\n",
       "      <td>0</td>\n",
       "      <td>0</td>\n",
       "      <td>0</td>\n",
       "      <td>1</td>\n",
       "      <td>0</td>\n",
       "      <td>0</td>\n",
       "      <td>0</td>\n",
       "      <td>0</td>\n",
       "      <td>1</td>\n",
       "      <td>0</td>\n",
       "    </tr>\n",
       "    <tr>\n",
       "      <th>3</th>\n",
       "      <td>78</td>\n",
       "      <td>2</td>\n",
       "      <td>2</td>\n",
       "      <td>1.00</td>\n",
       "      <td>761.00</td>\n",
       "      <td>0</td>\n",
       "      <td>1</td>\n",
       "      <td>0</td>\n",
       "      <td>0</td>\n",
       "      <td>0</td>\n",
       "      <td>0</td>\n",
       "      <td>0</td>\n",
       "      <td>0</td>\n",
       "      <td>1</td>\n",
       "      <td>0</td>\n",
       "      <td>0</td>\n",
       "      <td>0</td>\n",
       "      <td>0</td>\n",
       "      <td>1</td>\n",
       "      <td>0</td>\n",
       "    </tr>\n",
       "    <tr>\n",
       "      <th>4</th>\n",
       "      <td>186</td>\n",
       "      <td>4</td>\n",
       "      <td>4</td>\n",
       "      <td>3.00</td>\n",
       "      <td>1730.00</td>\n",
       "      <td>1</td>\n",
       "      <td>0</td>\n",
       "      <td>1</td>\n",
       "      <td>0</td>\n",
       "      <td>0</td>\n",
       "      <td>1</td>\n",
       "      <td>1</td>\n",
       "      <td>0</td>\n",
       "      <td>0</td>\n",
       "      <td>0</td>\n",
       "      <td>0</td>\n",
       "      <td>0</td>\n",
       "      <td>0</td>\n",
       "      <td>1</td>\n",
       "      <td>0</td>\n",
       "    </tr>\n",
       "  </tbody>\n",
       "</table>\n",
       "</div>"
      ],
      "text/plain": [
       "   area  quartos  banheiros  vagas   condo  Piscina  Elevador  Churrasqueira  \\\n",
       "0    30        1          1   1.00    2.00        1         1              0   \n",
       "1    98        2          2   1.00 1000.00        0         0              0   \n",
       "2   126        3          2   1.00 1640.00        0         0              0   \n",
       "3    78        2          2   1.00  761.00        0         1              0   \n",
       "4   186        4          4   3.00 1730.00        1         0              1   \n",
       "\n",
       "   Varanda Gourmet  Salao de festas  Ar-condicionado  Academia  Lavanderia  \\\n",
       "0                0                0                1         1           0   \n",
       "1                0                0                0         0           0   \n",
       "2                0                0                0         0           0   \n",
       "3                0                0                0         0           0   \n",
       "4                0                0                1         1           0   \n",
       "\n",
       "   Portaria 24h  Jardim  zona_Centro  zona_Leste  zona_Norte  zona_Oeste  \\\n",
       "0             0       0            0           0           0           1   \n",
       "1             1       0            0           0           0           1   \n",
       "2             1       0            0           0           0           1   \n",
       "3             1       0            0           0           0           1   \n",
       "4             0       0            0           0           0           1   \n",
       "\n",
       "   zona_Sul  \n",
       "0         0  \n",
       "1         0  \n",
       "2         0  \n",
       "3         0  \n",
       "4         0  "
      ]
     },
     "execution_count": 82,
     "metadata": {},
     "output_type": "execute_result"
    }
   ],
   "source": [
    "X.head()"
   ]
  },
  {
   "cell_type": "code",
   "execution_count": 83,
   "id": "46230d1d",
   "metadata": {},
   "outputs": [],
   "source": [
    "X_train, X_test, y_train, y_test = train_test_split(X, y, test_size=.2, random_state=42)"
   ]
  },
  {
   "cell_type": "code",
   "execution_count": 84,
   "id": "2cc14ea4",
   "metadata": {},
   "outputs": [
    {
     "name": "stderr",
     "output_type": "stream",
     "text": [
      "100%|██████████| 42/42 [00:19<00:00,  2.20it/s]\n"
     ]
    }
   ],
   "source": [
    "reg = LazyRegressor(predictions=True)\n",
    "models, predictions = reg.fit(X_train, X_test, y_train, y_test)"
   ]
  },
  {
   "cell_type": "code",
   "execution_count": 85,
   "id": "dfbb3687",
   "metadata": {},
   "outputs": [
    {
     "data": {
      "text/html": [
       "<div>\n",
       "<style scoped>\n",
       "    .dataframe tbody tr th:only-of-type {\n",
       "        vertical-align: middle;\n",
       "    }\n",
       "\n",
       "    .dataframe tbody tr th {\n",
       "        vertical-align: top;\n",
       "    }\n",
       "\n",
       "    .dataframe thead th {\n",
       "        text-align: right;\n",
       "    }\n",
       "</style>\n",
       "<table border=\"1\" class=\"dataframe\">\n",
       "  <thead>\n",
       "    <tr style=\"text-align: right;\">\n",
       "      <th></th>\n",
       "      <th>Adjusted R-Squared</th>\n",
       "      <th>R-Squared</th>\n",
       "      <th>RMSE</th>\n",
       "      <th>Time Taken</th>\n",
       "    </tr>\n",
       "    <tr>\n",
       "      <th>Model</th>\n",
       "      <th></th>\n",
       "      <th></th>\n",
       "      <th></th>\n",
       "      <th></th>\n",
       "    </tr>\n",
       "  </thead>\n",
       "  <tbody>\n",
       "    <tr>\n",
       "      <th>RandomForestRegressor</th>\n",
       "      <td>0.67</td>\n",
       "      <td>0.68</td>\n",
       "      <td>1833.69</td>\n",
       "      <td>1.45</td>\n",
       "    </tr>\n",
       "    <tr>\n",
       "      <th>HistGradientBoostingRegressor</th>\n",
       "      <td>0.66</td>\n",
       "      <td>0.67</td>\n",
       "      <td>1855.06</td>\n",
       "      <td>0.58</td>\n",
       "    </tr>\n",
       "    <tr>\n",
       "      <th>GradientBoostingRegressor</th>\n",
       "      <td>0.65</td>\n",
       "      <td>0.66</td>\n",
       "      <td>1880.99</td>\n",
       "      <td>0.44</td>\n",
       "    </tr>\n",
       "    <tr>\n",
       "      <th>ExtraTreesRegressor</th>\n",
       "      <td>0.64</td>\n",
       "      <td>0.65</td>\n",
       "      <td>1907.33</td>\n",
       "      <td>1.15</td>\n",
       "    </tr>\n",
       "    <tr>\n",
       "      <th>BaggingRegressor</th>\n",
       "      <td>0.64</td>\n",
       "      <td>0.65</td>\n",
       "      <td>1912.50</td>\n",
       "      <td>0.16</td>\n",
       "    </tr>\n",
       "  </tbody>\n",
       "</table>\n",
       "</div>"
      ],
      "text/plain": [
       "                               Adjusted R-Squared  R-Squared    RMSE  \\\n",
       "Model                                                                  \n",
       "RandomForestRegressor                        0.67       0.68 1833.69   \n",
       "HistGradientBoostingRegressor                0.66       0.67 1855.06   \n",
       "GradientBoostingRegressor                    0.65       0.66 1880.99   \n",
       "ExtraTreesRegressor                          0.64       0.65 1907.33   \n",
       "BaggingRegressor                             0.64       0.65 1912.50   \n",
       "\n",
       "                               Time Taken  \n",
       "Model                                      \n",
       "RandomForestRegressor                1.45  \n",
       "HistGradientBoostingRegressor        0.58  \n",
       "GradientBoostingRegressor            0.44  \n",
       "ExtraTreesRegressor                  1.15  \n",
       "BaggingRegressor                     0.16  "
      ]
     },
     "execution_count": 85,
     "metadata": {},
     "output_type": "execute_result"
    }
   ],
   "source": [
    "models.head(5)"
   ]
  },
  {
   "cell_type": "code",
   "execution_count": 86,
   "id": "48936c53",
   "metadata": {},
   "outputs": [
    {
     "data": {
      "text/plain": [
       "RandomForestRegressor()"
      ]
     },
     "execution_count": 86,
     "metadata": {},
     "output_type": "execute_result"
    }
   ],
   "source": [
    "from sklearn.ensemble import RandomForestRegressor\n",
    "rf = RandomForestRegressor()\n",
    "rf.fit(X_train,y_train)"
   ]
  },
  {
   "cell_type": "code",
   "execution_count": 87,
   "id": "384c2600",
   "metadata": {},
   "outputs": [
    {
     "data": {
      "text/plain": [
       "GridSearchCV(cv=5, estimator=RandomForestRegressor(), n_jobs=-1,\n",
       "             param_grid=[{'max_depth': [4, 6, 8], 'min_samples_leaf': [1, 2, 4],\n",
       "                          'n_estimators': [50, 100, 200, 400]}],\n",
       "             scoring='r2')"
      ]
     },
     "execution_count": 87,
     "metadata": {},
     "output_type": "execute_result"
    }
   ],
   "source": [
    "from sklearn.model_selection import GridSearchCV\n",
    "parameters=[{'min_samples_leaf':[1,2,4],\n",
    "             'max_depth':[4,6,8],\n",
    "             'n_estimators':[50, 100, 200,400]}]\n",
    "            \n",
    "rf = RandomForestRegressor()\n",
    "gs = GridSearchCV(rf,parameters,scoring='r2',n_jobs=-1,cv=5)\n",
    "gs.fit(X_train, y_train)"
   ]
  },
  {
   "cell_type": "code",
   "execution_count": 88,
   "id": "38f67649",
   "metadata": {},
   "outputs": [
    {
     "data": {
      "text/plain": [
       "{'max_depth': 8, 'min_samples_leaf': 2, 'n_estimators': 200}"
      ]
     },
     "execution_count": 88,
     "metadata": {},
     "output_type": "execute_result"
    }
   ],
   "source": [
    "gs.best_params_"
   ]
  },
  {
   "cell_type": "code",
   "execution_count": 89,
   "id": "bf76974f",
   "metadata": {},
   "outputs": [],
   "source": [
    "reg_com = gs.best_estimator_"
   ]
  },
  {
   "cell_type": "code",
   "execution_count": 91,
   "id": "6cc0624b",
   "metadata": {},
   "outputs": [
    {
     "name": "stdout",
     "output_type": "stream",
     "text": [
      "Train score 0.8464710066908618\n",
      "Validation score [0.67421274 0.668533   0.68421488 0.68672326 0.64466141]\n",
      "Test score 0.6607737780824622\n"
     ]
    }
   ],
   "source": [
    "train_score = reg_com.score(X_train, y_train)\n",
    "val_score = cross_val_score(reg_com, X_train, y_train, cv=5)\n",
    "test_score = reg_com.score(X_test, y_test)\n",
    "print('Train score', train_score)\n",
    "print('Validation score', val_score)\n",
    "print('Test score', test_score)"
   ]
  }
 ],
 "metadata": {
  "kernelspec": {
   "display_name": "Python 3",
   "language": "python",
   "name": "python3"
  },
  "language_info": {
   "codemirror_mode": {
    "name": "ipython",
    "version": 3
   },
   "file_extension": ".py",
   "mimetype": "text/x-python",
   "name": "python",
   "nbconvert_exporter": "python",
   "pygments_lexer": "ipython3",
   "version": "3.6.9"
  }
 },
 "nbformat": 4,
 "nbformat_minor": 5
}
