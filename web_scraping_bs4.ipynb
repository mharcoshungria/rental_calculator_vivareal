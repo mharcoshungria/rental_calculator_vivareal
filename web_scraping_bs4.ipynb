{
 "cells": [
  {
   "cell_type": "markdown",
   "id": "f5818085",
   "metadata": {},
   "source": [
    "### Importando Bibliotecas:"
   ]
  },
  {
   "cell_type": "code",
   "execution_count": 9,
   "id": "ea75e8dc",
   "metadata": {},
   "outputs": [],
   "source": [
    "import requests\n",
    "import pandas as pd\n",
    "from bs4 import BeautifulSoup"
   ]
  },
  {
   "cell_type": "markdown",
   "id": "bdbd7cd5",
   "metadata": {},
   "source": [
    "### Criando Funções:"
   ]
  },
  {
   "cell_type": "code",
   "execution_count": 10,
   "id": "eb60f669",
   "metadata": {},
   "outputs": [],
   "source": [
    "def converter_df(aluguel_lista, quartos_lista, banheiro_lista, vaga_lista, area_lista):\n",
    "    data = {'aluguel': aluguel_lista,\n",
    "           'quartos': quartos_lista,\n",
    "           'banheiros':banheiro_lista,\n",
    "           'vagas':vaga_lista,\n",
    "           'area':area_lista}\n",
    "    df = pd.DataFrame(data)\n",
    "    return df"
   ]
  },
  {
   "cell_type": "code",
   "execution_count": 11,
   "id": "26597cfa",
   "metadata": {},
   "outputs": [],
   "source": [
    "def scrap(url):\n",
    "    c = requests.get(url).content\n",
    "    soup = BeautifulSoup(c)\n",
    "    \n",
    "    aluguel_tag = soup.find_all('div', {'class':'property-card__price js-property-card-prices js-property-card__price-small'})\n",
    "    aluguel_lista = [p.text for p in aluguel_tag]\n",
    "    \n",
    "    quartos_tag = soup.find_all('li', {'class':'property-card__detail-item property-card__detail-room js-property-detail-rooms'}) \n",
    "    quartos_lista = [p.text for p in quartos_tag]\n",
    "    \n",
    "    banheiro_tag = soup.find_all('li', {'class': 'property-card__detail-item property-card__detail-bathroom js-property-detail-bathroom'}) \n",
    "    banheiro_lista = [p.text for p in banheiro_tag]\n",
    "    \n",
    "    vaga_tag = soup.find_all('li', {'class': 'property-card__detail-item property-card__detail-garage js-property-detail-garages'}) \n",
    "    vaga_lista = [p.text for p in vaga_tag]\n",
    "    \n",
    "    area_tag = soup.find_all('li', {'class': 'property-card__detail-item property-card__detail-area'}) \n",
    "    area_lista = [p.text for p in area_tag]\n",
    "    \n",
    "    df = converter_df(aluguel_lista, quartos_lista, banheiro_lista, vaga_lista, area_lista)\n",
    "    return df"
   ]
  },
  {
   "cell_type": "code",
   "execution_count": 12,
   "id": "a7952162",
   "metadata": {},
   "outputs": [],
   "source": [
    "paginas = ['']\n",
    "for i in range(2,10):\n",
    "    a = '?pagina='+str(i)\n",
    "    paginas.append(a)"
   ]
  },
  {
   "cell_type": "code",
   "execution_count": 13,
   "id": "8765eb32",
   "metadata": {},
   "outputs": [],
   "source": [
    "URL = 'https://www.vivareal.com.br/aluguel/sp/sao-paulo/apartamento_residencial/{}'"
   ]
  },
  {
   "cell_type": "markdown",
   "id": "d4e97380",
   "metadata": {},
   "source": [
    "### Web Scraping com BeautifulSoup:"
   ]
  },
  {
   "cell_type": "code",
   "execution_count": 14,
   "id": "71dfd881",
   "metadata": {},
   "outputs": [
    {
     "name": "stdout",
     "output_type": "stream",
     "text": [
      "Coletando dados da URL: https://www.vivareal.com.br/aluguel/sp/sao-paulo/apartamento_residencial/\n",
      "Coletando dados da URL: https://www.vivareal.com.br/aluguel/sp/sao-paulo/apartamento_residencial/?pagina=2\n",
      "Coletando dados da URL: https://www.vivareal.com.br/aluguel/sp/sao-paulo/apartamento_residencial/?pagina=3\n",
      "Coletando dados da URL: https://www.vivareal.com.br/aluguel/sp/sao-paulo/apartamento_residencial/?pagina=4\n",
      "Coletando dados da URL: https://www.vivareal.com.br/aluguel/sp/sao-paulo/apartamento_residencial/?pagina=5\n",
      "Coletando dados da URL: https://www.vivareal.com.br/aluguel/sp/sao-paulo/apartamento_residencial/?pagina=6\n",
      "Coletando dados da URL: https://www.vivareal.com.br/aluguel/sp/sao-paulo/apartamento_residencial/?pagina=7\n",
      "Coletando dados da URL: https://www.vivareal.com.br/aluguel/sp/sao-paulo/apartamento_residencial/?pagina=8\n",
      "Coletando dados da URL: https://www.vivareal.com.br/aluguel/sp/sao-paulo/apartamento_residencial/?pagina=9\n"
     ]
    }
   ],
   "source": [
    "df_lista = []\n",
    "for pg in paginas:\n",
    "    url = URL.format(pg)\n",
    "    print('Coletando dados da URL:', url)\n",
    "    try:\n",
    "        df = scrap(url)\n",
    "    except Exception as e:\n",
    "        print('Erro ao coletar dados da url:', url)\n",
    "        print(e)\n",
    "    df_lista.append(df)\n",
    "    #time.sleep(30)\n",
    "df_final = pd.concat(df_lista)"
   ]
  },
  {
   "cell_type": "code",
   "execution_count": 15,
   "id": "11d853ea",
   "metadata": {},
   "outputs": [
    {
     "data": {
      "text/html": [
       "<div>\n",
       "<style scoped>\n",
       "    .dataframe tbody tr th:only-of-type {\n",
       "        vertical-align: middle;\n",
       "    }\n",
       "\n",
       "    .dataframe tbody tr th {\n",
       "        vertical-align: top;\n",
       "    }\n",
       "\n",
       "    .dataframe thead th {\n",
       "        text-align: right;\n",
       "    }\n",
       "</style>\n",
       "<table border=\"1\" class=\"dataframe\">\n",
       "  <thead>\n",
       "    <tr style=\"text-align: right;\">\n",
       "      <th></th>\n",
       "      <th>aluguel</th>\n",
       "      <th>quartos</th>\n",
       "      <th>banheiros</th>\n",
       "      <th>vagas</th>\n",
       "      <th>area</th>\n",
       "    </tr>\n",
       "  </thead>\n",
       "  <tbody>\n",
       "    <tr>\n",
       "      <th>0</th>\n",
       "      <td>R$ 2.200 /Mês</td>\n",
       "      <td>1   Quarto</td>\n",
       "      <td>1   Banheiro</td>\n",
       "      <td>1   Vaga</td>\n",
       "      <td>37   m²</td>\n",
       "    </tr>\n",
       "    <tr>\n",
       "      <th>1</th>\n",
       "      <td>R$ 2.900 /Mês</td>\n",
       "      <td>1   Quarto</td>\n",
       "      <td>2   Banheiros</td>\n",
       "      <td>--   Vaga</td>\n",
       "      <td>43   m²</td>\n",
       "    </tr>\n",
       "    <tr>\n",
       "      <th>2</th>\n",
       "      <td>R$ 2.200 /Mês</td>\n",
       "      <td>1   Quarto</td>\n",
       "      <td>1   Banheiro</td>\n",
       "      <td>--   Vaga</td>\n",
       "      <td>33   m²</td>\n",
       "    </tr>\n",
       "    <tr>\n",
       "      <th>3</th>\n",
       "      <td>R$ 1.700 /Mês</td>\n",
       "      <td>2   Quartos</td>\n",
       "      <td>2   Banheiros</td>\n",
       "      <td>1   Vaga</td>\n",
       "      <td>57   m²</td>\n",
       "    </tr>\n",
       "    <tr>\n",
       "      <th>4</th>\n",
       "      <td>R$ 2.100 /Mês</td>\n",
       "      <td>2   Quartos</td>\n",
       "      <td>1   Banheiro</td>\n",
       "      <td>1   Vaga</td>\n",
       "      <td>50   m²</td>\n",
       "    </tr>\n",
       "  </tbody>\n",
       "</table>\n",
       "</div>"
      ],
      "text/plain": [
       "              aluguel          quartos          banheiros          vagas  \\\n",
       "0     R$ 2.200 /Mês       1   Quarto       1   Banheiro       1   Vaga     \n",
       "1     R$ 2.900 /Mês       1   Quarto      2   Banheiros      --   Vaga     \n",
       "2     R$ 2.200 /Mês       1   Quarto       1   Banheiro      --   Vaga     \n",
       "3     R$ 1.700 /Mês      2   Quartos      2   Banheiros       1   Vaga     \n",
       "4     R$ 2.100 /Mês      2   Quartos       1   Banheiro       1   Vaga     \n",
       "\n",
       "          area  \n",
       "0    37   m²    \n",
       "1    43   m²    \n",
       "2    33   m²    \n",
       "3    57   m²    \n",
       "4    50   m²    "
      ]
     },
     "execution_count": 15,
     "metadata": {},
     "output_type": "execute_result"
    }
   ],
   "source": [
    "df_final.head()"
   ]
  },
  {
   "cell_type": "code",
   "execution_count": 16,
   "id": "6a32b6b7",
   "metadata": {},
   "outputs": [
    {
     "data": {
      "text/plain": [
       "(324, 5)"
      ]
     },
     "execution_count": 16,
     "metadata": {},
     "output_type": "execute_result"
    }
   ],
   "source": [
    "df_final.shape"
   ]
  },
  {
   "cell_type": "code",
   "execution_count": 17,
   "id": "96fe6fb0",
   "metadata": {},
   "outputs": [],
   "source": [
    "df_final2 = df_final.drop_duplicates(subset=['aluguel','quartos','banheiros','vagas','area'], keep='first')"
   ]
  },
  {
   "cell_type": "code",
   "execution_count": 18,
   "id": "a1c03194",
   "metadata": {},
   "outputs": [
    {
     "data": {
      "text/plain": [
       "(36, 5)"
      ]
     },
     "execution_count": 18,
     "metadata": {},
     "output_type": "execute_result"
    }
   ],
   "source": [
    "df_final2.shape"
   ]
  },
  {
   "cell_type": "code",
   "execution_count": 19,
   "id": "ccaffdb6",
   "metadata": {},
   "outputs": [],
   "source": [
    "df_final.to_csv(\"dados_brutos.csv\")"
   ]
  }
 ],
 "metadata": {
  "kernelspec": {
   "display_name": "Python 3 (ipykernel)",
   "language": "python",
   "name": "python3"
  },
  "language_info": {
   "codemirror_mode": {
    "name": "ipython",
    "version": 3
   },
   "file_extension": ".py",
   "mimetype": "text/x-python",
   "name": "python",
   "nbconvert_exporter": "python",
   "pygments_lexer": "ipython3",
   "version": "3.9.7"
  }
 },
 "nbformat": 4,
 "nbformat_minor": 5
}
