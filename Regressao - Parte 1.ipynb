{
 "cells": [
  {
   "cell_type": "code",
   "execution_count": 8,
   "id": "f8690d5e",
   "metadata": {},
   "outputs": [],
   "source": [
    "import pandas as pd\n",
    "dados = pd.read_csv('dados_apartamentos_limpo_zona.csv')\n",
    "dados = dados.drop(['Unnamed: 0','amenidades','endereco'],axis=1)"
   ]
  },
  {
   "cell_type": "code",
   "execution_count": 9,
   "id": "8516938b",
   "metadata": {},
   "outputs": [
    {
     "data": {
      "text/html": [
       "<div>\n",
       "<style scoped>\n",
       "    .dataframe tbody tr th:only-of-type {\n",
       "        vertical-align: middle;\n",
       "    }\n",
       "\n",
       "    .dataframe tbody tr th {\n",
       "        vertical-align: top;\n",
       "    }\n",
       "\n",
       "    .dataframe thead th {\n",
       "        text-align: right;\n",
       "    }\n",
       "</style>\n",
       "<table border=\"1\" class=\"dataframe\">\n",
       "  <thead>\n",
       "    <tr style=\"text-align: right;\">\n",
       "      <th></th>\n",
       "      <th>area</th>\n",
       "      <th>quartos</th>\n",
       "      <th>banheiros</th>\n",
       "      <th>vagas</th>\n",
       "      <th>preco</th>\n",
       "      <th>condominio</th>\n",
       "      <th>bairro</th>\n",
       "      <th>zona</th>\n",
       "    </tr>\n",
       "  </thead>\n",
       "  <tbody>\n",
       "    <tr>\n",
       "      <th>6011</th>\n",
       "      <td>70</td>\n",
       "      <td>3</td>\n",
       "      <td>1</td>\n",
       "      <td>1</td>\n",
       "      <td>1700.0</td>\n",
       "      <td>380.0</td>\n",
       "      <td>Vila Formosa</td>\n",
       "      <td>Leste</td>\n",
       "    </tr>\n",
       "    <tr>\n",
       "      <th>6012</th>\n",
       "      <td>50</td>\n",
       "      <td>2</td>\n",
       "      <td>1</td>\n",
       "      <td>1</td>\n",
       "      <td>2700.0</td>\n",
       "      <td>320.0</td>\n",
       "      <td>Tatuapé</td>\n",
       "      <td>Leste</td>\n",
       "    </tr>\n",
       "    <tr>\n",
       "      <th>6013</th>\n",
       "      <td>102</td>\n",
       "      <td>3</td>\n",
       "      <td>2</td>\n",
       "      <td>2</td>\n",
       "      <td>6000.0</td>\n",
       "      <td>890.0</td>\n",
       "      <td>Quarta Parada</td>\n",
       "      <td>Leste</td>\n",
       "    </tr>\n",
       "    <tr>\n",
       "      <th>6014</th>\n",
       "      <td>132</td>\n",
       "      <td>3</td>\n",
       "      <td>3</td>\n",
       "      <td>1</td>\n",
       "      <td>3500.0</td>\n",
       "      <td>1210.0</td>\n",
       "      <td>Parque da Mooca</td>\n",
       "      <td>Leste</td>\n",
       "    </tr>\n",
       "    <tr>\n",
       "      <th>6015</th>\n",
       "      <td>47</td>\n",
       "      <td>1</td>\n",
       "      <td>1</td>\n",
       "      <td>1</td>\n",
       "      <td>2100.0</td>\n",
       "      <td>686.0</td>\n",
       "      <td>Tatuapé</td>\n",
       "      <td>Leste</td>\n",
       "    </tr>\n",
       "  </tbody>\n",
       "</table>\n",
       "</div>"
      ],
      "text/plain": [
       "      area  quartos  banheiros  vagas   preco  condominio            bairro  \\\n",
       "6011    70        3          1      1  1700.0       380.0      Vila Formosa   \n",
       "6012    50        2          1      1  2700.0       320.0           Tatuapé   \n",
       "6013   102        3          2      2  6000.0       890.0     Quarta Parada   \n",
       "6014   132        3          3      1  3500.0      1210.0   Parque da Mooca   \n",
       "6015    47        1          1      1  2100.0       686.0           Tatuapé   \n",
       "\n",
       "       zona  \n",
       "6011  Leste  \n",
       "6012  Leste  \n",
       "6013  Leste  \n",
       "6014  Leste  \n",
       "6015  Leste  "
      ]
     },
     "execution_count": 9,
     "metadata": {},
     "output_type": "execute_result"
    }
   ],
   "source": [
    "dados.tail()"
   ]
  },
  {
   "cell_type": "code",
   "execution_count": 11,
   "id": "42a078d8",
   "metadata": {},
   "outputs": [
    {
     "data": {
      "text/plain": [
       "area            int64\n",
       "quartos         int64\n",
       "banheiros       int64\n",
       "vagas           int64\n",
       "preco         float64\n",
       "condominio    float64\n",
       "bairro         object\n",
       "zona           object\n",
       "dtype: object"
      ]
     },
     "execution_count": 11,
     "metadata": {},
     "output_type": "execute_result"
    }
   ],
   "source": [
    "dados.dtypes"
   ]
  },
  {
   "cell_type": "code",
   "execution_count": 12,
   "id": "be7550b3",
   "metadata": {},
   "outputs": [
    {
     "data": {
      "text/plain": [
       "(6016, 8)"
      ]
     },
     "execution_count": 12,
     "metadata": {},
     "output_type": "execute_result"
    }
   ],
   "source": [
    "dados.shape"
   ]
  },
  {
   "cell_type": "code",
   "execution_count": 26,
   "id": "28e73daa",
   "metadata": {},
   "outputs": [
    {
     "data": {
      "text/html": [
       "<div>\n",
       "<style scoped>\n",
       "    .dataframe tbody tr th:only-of-type {\n",
       "        vertical-align: middle;\n",
       "    }\n",
       "\n",
       "    .dataframe tbody tr th {\n",
       "        vertical-align: top;\n",
       "    }\n",
       "\n",
       "    .dataframe thead th {\n",
       "        text-align: right;\n",
       "    }\n",
       "</style>\n",
       "<table border=\"1\" class=\"dataframe\">\n",
       "  <thead>\n",
       "    <tr style=\"text-align: right;\">\n",
       "      <th></th>\n",
       "      <th>area</th>\n",
       "      <th>quartos</th>\n",
       "      <th>banheiros</th>\n",
       "      <th>vagas</th>\n",
       "      <th>preco</th>\n",
       "      <th>condominio</th>\n",
       "      <th>bairro</th>\n",
       "      <th>zona</th>\n",
       "    </tr>\n",
       "  </thead>\n",
       "  <tbody>\n",
       "    <tr>\n",
       "      <th>213</th>\n",
       "      <td>70</td>\n",
       "      <td>2</td>\n",
       "      <td>2</td>\n",
       "      <td>2</td>\n",
       "      <td>2700.0</td>\n",
       "      <td>1000.0</td>\n",
       "      <td>Vila Mariana</td>\n",
       "      <td>Sul</td>\n",
       "    </tr>\n",
       "    <tr>\n",
       "      <th>266</th>\n",
       "      <td>70</td>\n",
       "      <td>2</td>\n",
       "      <td>2</td>\n",
       "      <td>2</td>\n",
       "      <td>2700.0</td>\n",
       "      <td>1000.0</td>\n",
       "      <td>Vila Mariana</td>\n",
       "      <td>Sul</td>\n",
       "    </tr>\n",
       "  </tbody>\n",
       "</table>\n",
       "</div>"
      ],
      "text/plain": [
       "     area  quartos  banheiros  vagas   preco  condominio         bairro zona\n",
       "213    70        2          2      2  2700.0      1000.0   Vila Mariana  Sul\n",
       "266    70        2          2      2  2700.0      1000.0   Vila Mariana  Sul"
      ]
     },
     "execution_count": 26,
     "metadata": {},
     "output_type": "execute_result"
    }
   ],
   "source": [
    "dados[(dados.zona=='Sul')&(dados.quartos==2)&(dados.banheiros==2)&(dados.vagas==2)&(dados.area==70)&(dados.bairro==' Vila Mariana')]"
   ]
  },
  {
   "cell_type": "code",
   "execution_count": 24,
   "id": "40e14ac8",
   "metadata": {},
   "outputs": [
    {
     "data": {
      "text/plain": [
       "2700.0"
      ]
     },
     "execution_count": 24,
     "metadata": {},
     "output_type": "execute_result"
    }
   ],
   "source": [
    "dados[(dados.zona=='Sul')&(dados.quartos==2)&(dados.banheiros==2)&(dados.vagas==2)&(dados.area==70)&(dados.bairro==' Vila Mariana')]['preco'].mean()"
   ]
  },
  {
   "cell_type": "code",
   "execution_count": 27,
   "id": "313082d5",
   "metadata": {},
   "outputs": [
    {
     "data": {
      "text/html": [
       "<div>\n",
       "<style scoped>\n",
       "    .dataframe tbody tr th:only-of-type {\n",
       "        vertical-align: middle;\n",
       "    }\n",
       "\n",
       "    .dataframe tbody tr th {\n",
       "        vertical-align: top;\n",
       "    }\n",
       "\n",
       "    .dataframe thead th {\n",
       "        text-align: right;\n",
       "    }\n",
       "</style>\n",
       "<table border=\"1\" class=\"dataframe\">\n",
       "  <thead>\n",
       "    <tr style=\"text-align: right;\">\n",
       "      <th></th>\n",
       "      <th>area</th>\n",
       "      <th>quartos</th>\n",
       "      <th>banheiros</th>\n",
       "      <th>vagas</th>\n",
       "      <th>preco</th>\n",
       "      <th>condominio</th>\n",
       "      <th>bairro</th>\n",
       "      <th>zona</th>\n",
       "    </tr>\n",
       "  </thead>\n",
       "  <tbody>\n",
       "    <tr>\n",
       "      <th>213</th>\n",
       "      <td>70</td>\n",
       "      <td>2</td>\n",
       "      <td>2</td>\n",
       "      <td>2</td>\n",
       "      <td>2700.0</td>\n",
       "      <td>1000.0</td>\n",
       "      <td>Vila Mariana</td>\n",
       "      <td>Sul</td>\n",
       "    </tr>\n",
       "    <tr>\n",
       "      <th>266</th>\n",
       "      <td>70</td>\n",
       "      <td>2</td>\n",
       "      <td>2</td>\n",
       "      <td>2</td>\n",
       "      <td>2700.0</td>\n",
       "      <td>1000.0</td>\n",
       "      <td>Vila Mariana</td>\n",
       "      <td>Sul</td>\n",
       "    </tr>\n",
       "    <tr>\n",
       "      <th>317</th>\n",
       "      <td>70</td>\n",
       "      <td>2</td>\n",
       "      <td>2</td>\n",
       "      <td>2</td>\n",
       "      <td>4000.0</td>\n",
       "      <td>1062.0</td>\n",
       "      <td>Morumbi</td>\n",
       "      <td>Sul</td>\n",
       "    </tr>\n",
       "    <tr>\n",
       "      <th>481</th>\n",
       "      <td>70</td>\n",
       "      <td>2</td>\n",
       "      <td>2</td>\n",
       "      <td>2</td>\n",
       "      <td>3500.0</td>\n",
       "      <td>593.0</td>\n",
       "      <td>Vila Mascote</td>\n",
       "      <td>Sul</td>\n",
       "    </tr>\n",
       "    <tr>\n",
       "      <th>555</th>\n",
       "      <td>70</td>\n",
       "      <td>2</td>\n",
       "      <td>2</td>\n",
       "      <td>2</td>\n",
       "      <td>2950.0</td>\n",
       "      <td>1100.0</td>\n",
       "      <td>Campo Belo</td>\n",
       "      <td>Sul</td>\n",
       "    </tr>\n",
       "    <tr>\n",
       "      <th>566</th>\n",
       "      <td>70</td>\n",
       "      <td>2</td>\n",
       "      <td>2</td>\n",
       "      <td>2</td>\n",
       "      <td>3701.0</td>\n",
       "      <td>807.0</td>\n",
       "      <td>Brooklin</td>\n",
       "      <td>Sul</td>\n",
       "    </tr>\n",
       "    <tr>\n",
       "      <th>670</th>\n",
       "      <td>70</td>\n",
       "      <td>2</td>\n",
       "      <td>2</td>\n",
       "      <td>2</td>\n",
       "      <td>6000.0</td>\n",
       "      <td>700.0</td>\n",
       "      <td>Brooklin</td>\n",
       "      <td>Sul</td>\n",
       "    </tr>\n",
       "    <tr>\n",
       "      <th>808</th>\n",
       "      <td>70</td>\n",
       "      <td>2</td>\n",
       "      <td>2</td>\n",
       "      <td>2</td>\n",
       "      <td>3500.0</td>\n",
       "      <td>850.0</td>\n",
       "      <td>Morumbi</td>\n",
       "      <td>Sul</td>\n",
       "    </tr>\n",
       "    <tr>\n",
       "      <th>999</th>\n",
       "      <td>70</td>\n",
       "      <td>2</td>\n",
       "      <td>2</td>\n",
       "      <td>2</td>\n",
       "      <td>4500.0</td>\n",
       "      <td>852.0</td>\n",
       "      <td>Chácara Santo Antônio</td>\n",
       "      <td>Sul</td>\n",
       "    </tr>\n",
       "    <tr>\n",
       "      <th>1092</th>\n",
       "      <td>70</td>\n",
       "      <td>2</td>\n",
       "      <td>2</td>\n",
       "      <td>2</td>\n",
       "      <td>5300.0</td>\n",
       "      <td>1070.0</td>\n",
       "      <td>Moema</td>\n",
       "      <td>Sul</td>\n",
       "    </tr>\n",
       "    <tr>\n",
       "      <th>1144</th>\n",
       "      <td>70</td>\n",
       "      <td>2</td>\n",
       "      <td>2</td>\n",
       "      <td>2</td>\n",
       "      <td>5900.0</td>\n",
       "      <td>1515.0</td>\n",
       "      <td>Itaim Bibi</td>\n",
       "      <td>Sul</td>\n",
       "    </tr>\n",
       "    <tr>\n",
       "      <th>1485</th>\n",
       "      <td>70</td>\n",
       "      <td>2</td>\n",
       "      <td>2</td>\n",
       "      <td>2</td>\n",
       "      <td>4300.0</td>\n",
       "      <td>950.0</td>\n",
       "      <td>Brooklin</td>\n",
       "      <td>Sul</td>\n",
       "    </tr>\n",
       "    <tr>\n",
       "      <th>1502</th>\n",
       "      <td>70</td>\n",
       "      <td>2</td>\n",
       "      <td>2</td>\n",
       "      <td>2</td>\n",
       "      <td>4700.0</td>\n",
       "      <td>860.0</td>\n",
       "      <td>Brooklin</td>\n",
       "      <td>Sul</td>\n",
       "    </tr>\n",
       "    <tr>\n",
       "      <th>1658</th>\n",
       "      <td>70</td>\n",
       "      <td>2</td>\n",
       "      <td>2</td>\n",
       "      <td>2</td>\n",
       "      <td>4500.0</td>\n",
       "      <td>853.0</td>\n",
       "      <td>Alto Da Boa Vista</td>\n",
       "      <td>Sul</td>\n",
       "    </tr>\n",
       "    <tr>\n",
       "      <th>1739</th>\n",
       "      <td>70</td>\n",
       "      <td>2</td>\n",
       "      <td>2</td>\n",
       "      <td>2</td>\n",
       "      <td>4200.0</td>\n",
       "      <td>958.0</td>\n",
       "      <td>Moema</td>\n",
       "      <td>Sul</td>\n",
       "    </tr>\n",
       "    <tr>\n",
       "      <th>1760</th>\n",
       "      <td>70</td>\n",
       "      <td>2</td>\n",
       "      <td>2</td>\n",
       "      <td>2</td>\n",
       "      <td>3500.0</td>\n",
       "      <td>720.0</td>\n",
       "      <td>Vila Mascote</td>\n",
       "      <td>Sul</td>\n",
       "    </tr>\n",
       "    <tr>\n",
       "      <th>1761</th>\n",
       "      <td>70</td>\n",
       "      <td>2</td>\n",
       "      <td>2</td>\n",
       "      <td>2</td>\n",
       "      <td>3500.0</td>\n",
       "      <td>720.0</td>\n",
       "      <td>Vila Mascote</td>\n",
       "      <td>Sul</td>\n",
       "    </tr>\n",
       "    <tr>\n",
       "      <th>2241</th>\n",
       "      <td>70</td>\n",
       "      <td>2</td>\n",
       "      <td>2</td>\n",
       "      <td>2</td>\n",
       "      <td>3800.0</td>\n",
       "      <td>1000.0</td>\n",
       "      <td>Morumbi</td>\n",
       "      <td>Sul</td>\n",
       "    </tr>\n",
       "    <tr>\n",
       "      <th>2434</th>\n",
       "      <td>70</td>\n",
       "      <td>2</td>\n",
       "      <td>2</td>\n",
       "      <td>2</td>\n",
       "      <td>4300.0</td>\n",
       "      <td>850.0</td>\n",
       "      <td>Brooklin</td>\n",
       "      <td>Sul</td>\n",
       "    </tr>\n",
       "    <tr>\n",
       "      <th>2555</th>\n",
       "      <td>70</td>\n",
       "      <td>2</td>\n",
       "      <td>2</td>\n",
       "      <td>2</td>\n",
       "      <td>3500.0</td>\n",
       "      <td>1279.0</td>\n",
       "      <td>Moema</td>\n",
       "      <td>Sul</td>\n",
       "    </tr>\n",
       "    <tr>\n",
       "      <th>2559</th>\n",
       "      <td>70</td>\n",
       "      <td>2</td>\n",
       "      <td>2</td>\n",
       "      <td>2</td>\n",
       "      <td>3500.0</td>\n",
       "      <td>1279.0</td>\n",
       "      <td>Moema</td>\n",
       "      <td>Sul</td>\n",
       "    </tr>\n",
       "  </tbody>\n",
       "</table>\n",
       "</div>"
      ],
      "text/plain": [
       "      area  quartos  banheiros  vagas   preco  condominio  \\\n",
       "213     70        2          2      2  2700.0      1000.0   \n",
       "266     70        2          2      2  2700.0      1000.0   \n",
       "317     70        2          2      2  4000.0      1062.0   \n",
       "481     70        2          2      2  3500.0       593.0   \n",
       "555     70        2          2      2  2950.0      1100.0   \n",
       "566     70        2          2      2  3701.0       807.0   \n",
       "670     70        2          2      2  6000.0       700.0   \n",
       "808     70        2          2      2  3500.0       850.0   \n",
       "999     70        2          2      2  4500.0       852.0   \n",
       "1092    70        2          2      2  5300.0      1070.0   \n",
       "1144    70        2          2      2  5900.0      1515.0   \n",
       "1485    70        2          2      2  4300.0       950.0   \n",
       "1502    70        2          2      2  4700.0       860.0   \n",
       "1658    70        2          2      2  4500.0       853.0   \n",
       "1739    70        2          2      2  4200.0       958.0   \n",
       "1760    70        2          2      2  3500.0       720.0   \n",
       "1761    70        2          2      2  3500.0       720.0   \n",
       "2241    70        2          2      2  3800.0      1000.0   \n",
       "2434    70        2          2      2  4300.0       850.0   \n",
       "2555    70        2          2      2  3500.0      1279.0   \n",
       "2559    70        2          2      2  3500.0      1279.0   \n",
       "\n",
       "                      bairro zona  \n",
       "213             Vila Mariana  Sul  \n",
       "266             Vila Mariana  Sul  \n",
       "317                  Morumbi  Sul  \n",
       "481             Vila Mascote  Sul  \n",
       "555               Campo Belo  Sul  \n",
       "566                 Brooklin  Sul  \n",
       "670                 Brooklin  Sul  \n",
       "808                  Morumbi  Sul  \n",
       "999    Chácara Santo Antônio  Sul  \n",
       "1092                   Moema  Sul  \n",
       "1144              Itaim Bibi  Sul  \n",
       "1485                Brooklin  Sul  \n",
       "1502                Brooklin  Sul  \n",
       "1658       Alto Da Boa Vista  Sul  \n",
       "1739                   Moema  Sul  \n",
       "1760            Vila Mascote  Sul  \n",
       "1761            Vila Mascote  Sul  \n",
       "2241                 Morumbi  Sul  \n",
       "2434                Brooklin  Sul  \n",
       "2555                   Moema  Sul  \n",
       "2559                   Moema  Sul  "
      ]
     },
     "execution_count": 27,
     "metadata": {},
     "output_type": "execute_result"
    }
   ],
   "source": [
    "dados[(dados.zona=='Sul')&(dados.quartos==2)&(dados.banheiros==2)&(dados.vagas==2)&(dados.area==70)]"
   ]
  },
  {
   "cell_type": "code",
   "execution_count": 25,
   "id": "b0dd50d9",
   "metadata": {},
   "outputs": [
    {
     "data": {
      "text/plain": [
       "4026.2380952380954"
      ]
     },
     "execution_count": 25,
     "metadata": {},
     "output_type": "execute_result"
    }
   ],
   "source": [
    "dados[(dados.zona=='Sul')&(dados.quartos==2)&(dados.banheiros==2)&(dados.vagas==2)&(dados.area==70)]['preco'].mean()"
   ]
  },
  {
   "cell_type": "code",
   "execution_count": 38,
   "id": "39b473c6",
   "metadata": {},
   "outputs": [
    {
     "data": {
      "text/plain": [
       "211"
      ]
     },
     "execution_count": 38,
     "metadata": {},
     "output_type": "execute_result"
    }
   ],
   "source": [
    "dados.bairro.nunique()"
   ]
  },
  {
   "cell_type": "code",
   "execution_count": 28,
   "id": "ac5a47a3",
   "metadata": {},
   "outputs": [],
   "source": [
    "from sklearn.neighbors import KNeighborsRegressor"
   ]
  },
  {
   "cell_type": "code",
   "execution_count": 46,
   "id": "22e74ceb",
   "metadata": {},
   "outputs": [],
   "source": []
  },
  {
   "cell_type": "code",
   "execution_count": 30,
   "id": "0bde215e",
   "metadata": {},
   "outputs": [],
   "source": [
    "y = dados['preco']"
   ]
  },
  {
   "cell_type": "code",
   "execution_count": 82,
   "id": "4da55ca5",
   "metadata": {},
   "outputs": [],
   "source": [
    "X = dados.drop(['bairro','preco'],axis=1)"
   ]
  },
  {
   "cell_type": "code",
   "execution_count": 83,
   "id": "a4220d10",
   "metadata": {},
   "outputs": [
    {
     "data": {
      "text/html": [
       "<div>\n",
       "<style scoped>\n",
       "    .dataframe tbody tr th:only-of-type {\n",
       "        vertical-align: middle;\n",
       "    }\n",
       "\n",
       "    .dataframe tbody tr th {\n",
       "        vertical-align: top;\n",
       "    }\n",
       "\n",
       "    .dataframe thead th {\n",
       "        text-align: right;\n",
       "    }\n",
       "</style>\n",
       "<table border=\"1\" class=\"dataframe\">\n",
       "  <thead>\n",
       "    <tr style=\"text-align: right;\">\n",
       "      <th></th>\n",
       "      <th>area</th>\n",
       "      <th>quartos</th>\n",
       "      <th>banheiros</th>\n",
       "      <th>vagas</th>\n",
       "      <th>condominio</th>\n",
       "      <th>zona</th>\n",
       "    </tr>\n",
       "  </thead>\n",
       "  <tbody>\n",
       "    <tr>\n",
       "      <th>0</th>\n",
       "      <td>46</td>\n",
       "      <td>1</td>\n",
       "      <td>1</td>\n",
       "      <td>1</td>\n",
       "      <td>600.0</td>\n",
       "      <td>Sul</td>\n",
       "    </tr>\n",
       "    <tr>\n",
       "      <th>1</th>\n",
       "      <td>240</td>\n",
       "      <td>5</td>\n",
       "      <td>5</td>\n",
       "      <td>4</td>\n",
       "      <td>3300.0</td>\n",
       "      <td>Sul</td>\n",
       "    </tr>\n",
       "    <tr>\n",
       "      <th>2</th>\n",
       "      <td>205</td>\n",
       "      <td>3</td>\n",
       "      <td>4</td>\n",
       "      <td>2</td>\n",
       "      <td>2380.0</td>\n",
       "      <td>Sul</td>\n",
       "    </tr>\n",
       "    <tr>\n",
       "      <th>3</th>\n",
       "      <td>56</td>\n",
       "      <td>2</td>\n",
       "      <td>2</td>\n",
       "      <td>1</td>\n",
       "      <td>630.0</td>\n",
       "      <td>Sul</td>\n",
       "    </tr>\n",
       "    <tr>\n",
       "      <th>4</th>\n",
       "      <td>45</td>\n",
       "      <td>1</td>\n",
       "      <td>1</td>\n",
       "      <td>1</td>\n",
       "      <td>612.0</td>\n",
       "      <td>Sul</td>\n",
       "    </tr>\n",
       "  </tbody>\n",
       "</table>\n",
       "</div>"
      ],
      "text/plain": [
       "   area  quartos  banheiros  vagas  condominio zona\n",
       "0    46        1          1      1       600.0  Sul\n",
       "1   240        5          5      4      3300.0  Sul\n",
       "2   205        3          4      2      2380.0  Sul\n",
       "3    56        2          2      1       630.0  Sul\n",
       "4    45        1          1      1       612.0  Sul"
      ]
     },
     "execution_count": 83,
     "metadata": {},
     "output_type": "execute_result"
    }
   ],
   "source": [
    "X.head()"
   ]
  },
  {
   "cell_type": "code",
   "execution_count": 84,
   "id": "715fb2f7",
   "metadata": {},
   "outputs": [
    {
     "data": {
      "text/html": [
       "<div>\n",
       "<style scoped>\n",
       "    .dataframe tbody tr th:only-of-type {\n",
       "        vertical-align: middle;\n",
       "    }\n",
       "\n",
       "    .dataframe tbody tr th {\n",
       "        vertical-align: top;\n",
       "    }\n",
       "\n",
       "    .dataframe thead th {\n",
       "        text-align: right;\n",
       "    }\n",
       "</style>\n",
       "<table border=\"1\" class=\"dataframe\">\n",
       "  <thead>\n",
       "    <tr style=\"text-align: right;\">\n",
       "      <th></th>\n",
       "      <th>area</th>\n",
       "      <th>quartos</th>\n",
       "      <th>banheiros</th>\n",
       "      <th>vagas</th>\n",
       "      <th>condominio</th>\n",
       "      <th>zona_Centro</th>\n",
       "      <th>zona_Leste</th>\n",
       "      <th>zona_Norte</th>\n",
       "      <th>zona_Oeste</th>\n",
       "      <th>zona_Sul</th>\n",
       "    </tr>\n",
       "  </thead>\n",
       "  <tbody>\n",
       "    <tr>\n",
       "      <th>0</th>\n",
       "      <td>46</td>\n",
       "      <td>1</td>\n",
       "      <td>1</td>\n",
       "      <td>1</td>\n",
       "      <td>600.0</td>\n",
       "      <td>0</td>\n",
       "      <td>0</td>\n",
       "      <td>0</td>\n",
       "      <td>0</td>\n",
       "      <td>1</td>\n",
       "    </tr>\n",
       "    <tr>\n",
       "      <th>1</th>\n",
       "      <td>240</td>\n",
       "      <td>5</td>\n",
       "      <td>5</td>\n",
       "      <td>4</td>\n",
       "      <td>3300.0</td>\n",
       "      <td>0</td>\n",
       "      <td>0</td>\n",
       "      <td>0</td>\n",
       "      <td>0</td>\n",
       "      <td>1</td>\n",
       "    </tr>\n",
       "    <tr>\n",
       "      <th>2</th>\n",
       "      <td>205</td>\n",
       "      <td>3</td>\n",
       "      <td>4</td>\n",
       "      <td>2</td>\n",
       "      <td>2380.0</td>\n",
       "      <td>0</td>\n",
       "      <td>0</td>\n",
       "      <td>0</td>\n",
       "      <td>0</td>\n",
       "      <td>1</td>\n",
       "    </tr>\n",
       "    <tr>\n",
       "      <th>3</th>\n",
       "      <td>56</td>\n",
       "      <td>2</td>\n",
       "      <td>2</td>\n",
       "      <td>1</td>\n",
       "      <td>630.0</td>\n",
       "      <td>0</td>\n",
       "      <td>0</td>\n",
       "      <td>0</td>\n",
       "      <td>0</td>\n",
       "      <td>1</td>\n",
       "    </tr>\n",
       "    <tr>\n",
       "      <th>4</th>\n",
       "      <td>45</td>\n",
       "      <td>1</td>\n",
       "      <td>1</td>\n",
       "      <td>1</td>\n",
       "      <td>612.0</td>\n",
       "      <td>0</td>\n",
       "      <td>0</td>\n",
       "      <td>0</td>\n",
       "      <td>0</td>\n",
       "      <td>1</td>\n",
       "    </tr>\n",
       "  </tbody>\n",
       "</table>\n",
       "</div>"
      ],
      "text/plain": [
       "   area  quartos  banheiros  vagas  condominio  zona_Centro  zona_Leste  \\\n",
       "0    46        1          1      1       600.0            0           0   \n",
       "1   240        5          5      4      3300.0            0           0   \n",
       "2   205        3          4      2      2380.0            0           0   \n",
       "3    56        2          2      1       630.0            0           0   \n",
       "4    45        1          1      1       612.0            0           0   \n",
       "\n",
       "   zona_Norte  zona_Oeste  zona_Sul  \n",
       "0           0           0         1  \n",
       "1           0           0         1  \n",
       "2           0           0         1  \n",
       "3           0           0         1  \n",
       "4           0           0         1  "
      ]
     },
     "execution_count": 84,
     "metadata": {},
     "output_type": "execute_result"
    }
   ],
   "source": [
    "X = pd.get_dummies(X)\n",
    "X.head()"
   ]
  },
  {
   "cell_type": "code",
   "execution_count": 37,
   "id": "33af876c",
   "metadata": {},
   "outputs": [
    {
     "data": {
      "text/html": [
       "<div>\n",
       "<style scoped>\n",
       "    .dataframe tbody tr th:only-of-type {\n",
       "        vertical-align: middle;\n",
       "    }\n",
       "\n",
       "    .dataframe tbody tr th {\n",
       "        vertical-align: top;\n",
       "    }\n",
       "\n",
       "    .dataframe thead th {\n",
       "        text-align: right;\n",
       "    }\n",
       "</style>\n",
       "<table border=\"1\" class=\"dataframe\">\n",
       "  <thead>\n",
       "    <tr style=\"text-align: right;\">\n",
       "      <th></th>\n",
       "      <th>area</th>\n",
       "      <th>quartos</th>\n",
       "      <th>banheiros</th>\n",
       "      <th>vagas</th>\n",
       "      <th>condominio</th>\n",
       "      <th>zona_Centro</th>\n",
       "      <th>zona_Leste</th>\n",
       "      <th>zona_Norte</th>\n",
       "      <th>zona_Oeste</th>\n",
       "      <th>zona_Sul</th>\n",
       "    </tr>\n",
       "  </thead>\n",
       "  <tbody>\n",
       "    <tr>\n",
       "      <th>6011</th>\n",
       "      <td>70</td>\n",
       "      <td>3</td>\n",
       "      <td>1</td>\n",
       "      <td>1</td>\n",
       "      <td>380.0</td>\n",
       "      <td>0</td>\n",
       "      <td>1</td>\n",
       "      <td>0</td>\n",
       "      <td>0</td>\n",
       "      <td>0</td>\n",
       "    </tr>\n",
       "    <tr>\n",
       "      <th>6012</th>\n",
       "      <td>50</td>\n",
       "      <td>2</td>\n",
       "      <td>1</td>\n",
       "      <td>1</td>\n",
       "      <td>320.0</td>\n",
       "      <td>0</td>\n",
       "      <td>1</td>\n",
       "      <td>0</td>\n",
       "      <td>0</td>\n",
       "      <td>0</td>\n",
       "    </tr>\n",
       "    <tr>\n",
       "      <th>6013</th>\n",
       "      <td>102</td>\n",
       "      <td>3</td>\n",
       "      <td>2</td>\n",
       "      <td>2</td>\n",
       "      <td>890.0</td>\n",
       "      <td>0</td>\n",
       "      <td>1</td>\n",
       "      <td>0</td>\n",
       "      <td>0</td>\n",
       "      <td>0</td>\n",
       "    </tr>\n",
       "    <tr>\n",
       "      <th>6014</th>\n",
       "      <td>132</td>\n",
       "      <td>3</td>\n",
       "      <td>3</td>\n",
       "      <td>1</td>\n",
       "      <td>1210.0</td>\n",
       "      <td>0</td>\n",
       "      <td>1</td>\n",
       "      <td>0</td>\n",
       "      <td>0</td>\n",
       "      <td>0</td>\n",
       "    </tr>\n",
       "    <tr>\n",
       "      <th>6015</th>\n",
       "      <td>47</td>\n",
       "      <td>1</td>\n",
       "      <td>1</td>\n",
       "      <td>1</td>\n",
       "      <td>686.0</td>\n",
       "      <td>0</td>\n",
       "      <td>1</td>\n",
       "      <td>0</td>\n",
       "      <td>0</td>\n",
       "      <td>0</td>\n",
       "    </tr>\n",
       "  </tbody>\n",
       "</table>\n",
       "</div>"
      ],
      "text/plain": [
       "      area  quartos  banheiros  vagas  condominio  zona_Centro  zona_Leste  \\\n",
       "6011    70        3          1      1       380.0            0           1   \n",
       "6012    50        2          1      1       320.0            0           1   \n",
       "6013   102        3          2      2       890.0            0           1   \n",
       "6014   132        3          3      1      1210.0            0           1   \n",
       "6015    47        1          1      1       686.0            0           1   \n",
       "\n",
       "      zona_Norte  zona_Oeste  zona_Sul  \n",
       "6011           0           0         0  \n",
       "6012           0           0         0  \n",
       "6013           0           0         0  \n",
       "6014           0           0         0  \n",
       "6015           0           0         0  "
      ]
     },
     "execution_count": 37,
     "metadata": {},
     "output_type": "execute_result"
    }
   ],
   "source": [
    "X.tail()"
   ]
  },
  {
   "cell_type": "code",
   "execution_count": 85,
   "id": "1217bf69",
   "metadata": {},
   "outputs": [
    {
     "data": {
      "text/plain": [
       "0        3400.0\n",
       "1       15000.0\n",
       "2        7900.0\n",
       "3        2900.0\n",
       "4        2800.0\n",
       "         ...   \n",
       "6011     1700.0\n",
       "6012     2700.0\n",
       "6013     6000.0\n",
       "6014     3500.0\n",
       "6015     2100.0\n",
       "Name: preco, Length: 6016, dtype: float64"
      ]
     },
     "execution_count": 85,
     "metadata": {},
     "output_type": "execute_result"
    }
   ],
   "source": [
    "y"
   ]
  },
  {
   "cell_type": "code",
   "execution_count": 55,
   "id": "f3f2f878",
   "metadata": {},
   "outputs": [],
   "source": [
    "knn = KNeighborsRegressor(n_neighbors=15,weights='distance')"
   ]
  },
  {
   "cell_type": "code",
   "execution_count": 56,
   "id": "d18d7610",
   "metadata": {},
   "outputs": [
    {
     "data": {
      "text/plain": [
       "KNeighborsRegressor(n_neighbors=15, weights='distance')"
      ]
     },
     "execution_count": 56,
     "metadata": {},
     "output_type": "execute_result"
    }
   ],
   "source": [
    "knn.fit(X,y)"
   ]
  },
  {
   "cell_type": "code",
   "execution_count": 61,
   "id": "3b9cb7a2",
   "metadata": {},
   "outputs": [
    {
     "data": {
      "text/plain": [
       "array([2609.08827056])"
      ]
     },
     "execution_count": 61,
     "metadata": {},
     "output_type": "execute_result"
    }
   ],
   "source": [
    "knn.predict([[70, 2, 2, 2, 740, 0, 0, 0, 0, 1]])"
   ]
  },
  {
   "cell_type": "code",
   "execution_count": 63,
   "id": "d54f6663",
   "metadata": {},
   "outputs": [],
   "source": [
    "import matplotlib.pyplot as plt\n",
    "import numpy as np"
   ]
  },
  {
   "cell_type": "code",
   "execution_count": 62,
   "id": "4f860ee4",
   "metadata": {},
   "outputs": [
    {
     "data": {
      "text/plain": [
       "<matplotlib.collections.PathCollection at 0x7f7e46f17d68>"
      ]
     },
     "execution_count": 62,
     "metadata": {},
     "output_type": "execute_result"
    },
    {
     "data": {
      "image/png": "[encoded data removed]",
      "text/plain": [
       "<Figure size 432x288 with 1 Axes>"
      ]
     },
     "metadata": {
      "needs_background": "light"
     },
     "output_type": "display_data"
    }
   ],
   "source": [
    "plt.scatter(dados['area'],dados['preco'])"
   ]
  },
  {
   "cell_type": "code",
   "execution_count": 64,
   "id": "f65089ea",
   "metadata": {},
   "outputs": [
    {
     "data": {
      "text/plain": [
       "<matplotlib.collections.PathCollection at 0x7f7e44e0a0b8>"
      ]
     },
     "execution_count": 64,
     "metadata": {},
     "output_type": "execute_result"
    },
    {
     "data": {
      "image/png": "[encoded data removed]",
      "text/plain": [
       "<Figure size 432x288 with 1 Axes>"
      ]
     },
     "metadata": {
      "needs_background": "light"
     },
     "output_type": "display_data"
    }
   ],
   "source": [
    "plt.scatter(np.log(dados['area']),np.log(dados['preco']))"
   ]
  },
  {
   "cell_type": "code",
   "execution_count": 65,
   "id": "a7c40bd3",
   "metadata": {},
   "outputs": [],
   "source": [
    "dados_reduzidos = dados[['area','preco']]"
   ]
  },
  {
   "cell_type": "code",
   "execution_count": 66,
   "id": "12692215",
   "metadata": {},
   "outputs": [
    {
     "data": {
      "text/html": [
       "<div>\n",
       "<style scoped>\n",
       "    .dataframe tbody tr th:only-of-type {\n",
       "        vertical-align: middle;\n",
       "    }\n",
       "\n",
       "    .dataframe tbody tr th {\n",
       "        vertical-align: top;\n",
       "    }\n",
       "\n",
       "    .dataframe thead th {\n",
       "        text-align: right;\n",
       "    }\n",
       "</style>\n",
       "<table border=\"1\" class=\"dataframe\">\n",
       "  <thead>\n",
       "    <tr style=\"text-align: right;\">\n",
       "      <th></th>\n",
       "      <th>area</th>\n",
       "      <th>preco</th>\n",
       "    </tr>\n",
       "  </thead>\n",
       "  <tbody>\n",
       "    <tr>\n",
       "      <th>0</th>\n",
       "      <td>46</td>\n",
       "      <td>3400.0</td>\n",
       "    </tr>\n",
       "    <tr>\n",
       "      <th>1</th>\n",
       "      <td>240</td>\n",
       "      <td>15000.0</td>\n",
       "    </tr>\n",
       "    <tr>\n",
       "      <th>2</th>\n",
       "      <td>205</td>\n",
       "      <td>7900.0</td>\n",
       "    </tr>\n",
       "    <tr>\n",
       "      <th>3</th>\n",
       "      <td>56</td>\n",
       "      <td>2900.0</td>\n",
       "    </tr>\n",
       "    <tr>\n",
       "      <th>4</th>\n",
       "      <td>45</td>\n",
       "      <td>2800.0</td>\n",
       "    </tr>\n",
       "  </tbody>\n",
       "</table>\n",
       "</div>"
      ],
      "text/plain": [
       "   area    preco\n",
       "0    46   3400.0\n",
       "1   240  15000.0\n",
       "2   205   7900.0\n",
       "3    56   2900.0\n",
       "4    45   2800.0"
      ]
     },
     "execution_count": 66,
     "metadata": {},
     "output_type": "execute_result"
    }
   ],
   "source": [
    "dados_reduzidos.head()"
   ]
  },
  {
   "cell_type": "code",
   "execution_count": 67,
   "id": "25170bcf",
   "metadata": {},
   "outputs": [],
   "source": [
    "X = dados_reduzidos['area']\n",
    "y = dados_reduzidos['preco']"
   ]
  },
  {
   "cell_type": "code",
   "execution_count": 73,
   "id": "d8f66b08",
   "metadata": {},
   "outputs": [
    {
     "data": {
      "text/plain": [
       "array([ 46, 240, 205, ..., 102, 132,  47])"
      ]
     },
     "execution_count": 73,
     "metadata": {},
     "output_type": "execute_result"
    }
   ],
   "source": [
    "X.values"
   ]
  },
  {
   "cell_type": "code",
   "execution_count": 74,
   "id": "bf75bdcd",
   "metadata": {},
   "outputs": [
    {
     "data": {
      "text/plain": [
       "array([[ 46],\n",
       "       [240],\n",
       "       [205],\n",
       "       ...,\n",
       "       [102],\n",
       "       [132],\n",
       "       [ 47]])"
      ]
     },
     "execution_count": 74,
     "metadata": {},
     "output_type": "execute_result"
    }
   ],
   "source": [
    "X.values.reshape(-1,1)"
   ]
  },
  {
   "cell_type": "code",
   "execution_count": 75,
   "id": "0563c8dd",
   "metadata": {},
   "outputs": [],
   "source": [
    "from sklearn.linear_model import LinearRegression"
   ]
  },
  {
   "cell_type": "code",
   "execution_count": 78,
   "id": "5f6de6f0",
   "metadata": {},
   "outputs": [
    {
     "data": {
      "text/plain": [
       "LinearRegression()"
      ]
     },
     "execution_count": 78,
     "metadata": {},
     "output_type": "execute_result"
    }
   ],
   "source": [
    "reg = LinearRegression()\n",
    "reg.fit(X.values.reshape(-1,1),y)"
   ]
  },
  {
   "cell_type": "code",
   "execution_count": 79,
   "id": "1cd39ebf",
   "metadata": {},
   "outputs": [
    {
     "data": {
      "text/plain": [
       "array([62.03422149])"
      ]
     },
     "execution_count": 79,
     "metadata": {},
     "output_type": "execute_result"
    }
   ],
   "source": [
    "reg.coef_"
   ]
  },
  {
   "cell_type": "code",
   "execution_count": 80,
   "id": "e488845e",
   "metadata": {},
   "outputs": [
    {
     "data": {
      "text/plain": [
       "-1171.6503688941334"
      ]
     },
     "execution_count": 80,
     "metadata": {},
     "output_type": "execute_result"
    }
   ],
   "source": [
    "reg.intercept_"
   ]
  },
  {
   "cell_type": "markdown",
   "id": "f600f2d6",
   "metadata": {},
   "source": [
    "\n",
    "$$Ax + b = y$$\n",
    "\n",
    "$$62.03 x area - 117.65 = Aluguel$$"
   ]
  },
  {
   "cell_type": "code",
   "execution_count": 86,
   "id": "54ad4f13",
   "metadata": {},
   "outputs": [
    {
     "data": {
      "text/plain": [
       "LinearRegression()"
      ]
     },
     "execution_count": 86,
     "metadata": {},
     "output_type": "execute_result"
    }
   ],
   "source": [
    "reg.fit(X,y)"
   ]
  },
  {
   "cell_type": "code",
   "execution_count": 87,
   "id": "67cd3d84",
   "metadata": {},
   "outputs": [
    {
     "data": {
      "text/html": [
       "<div>\n",
       "<style scoped>\n",
       "    .dataframe tbody tr th:only-of-type {\n",
       "        vertical-align: middle;\n",
       "    }\n",
       "\n",
       "    .dataframe tbody tr th {\n",
       "        vertical-align: top;\n",
       "    }\n",
       "\n",
       "    .dataframe thead th {\n",
       "        text-align: right;\n",
       "    }\n",
       "</style>\n",
       "<table border=\"1\" class=\"dataframe\">\n",
       "  <thead>\n",
       "    <tr style=\"text-align: right;\">\n",
       "      <th></th>\n",
       "      <th>area</th>\n",
       "      <th>quartos</th>\n",
       "      <th>banheiros</th>\n",
       "      <th>vagas</th>\n",
       "      <th>condominio</th>\n",
       "      <th>zona_Centro</th>\n",
       "      <th>zona_Leste</th>\n",
       "      <th>zona_Norte</th>\n",
       "      <th>zona_Oeste</th>\n",
       "      <th>zona_Sul</th>\n",
       "    </tr>\n",
       "  </thead>\n",
       "  <tbody>\n",
       "    <tr>\n",
       "      <th>0</th>\n",
       "      <td>46</td>\n",
       "      <td>1</td>\n",
       "      <td>1</td>\n",
       "      <td>1</td>\n",
       "      <td>600.0</td>\n",
       "      <td>0</td>\n",
       "      <td>0</td>\n",
       "      <td>0</td>\n",
       "      <td>0</td>\n",
       "      <td>1</td>\n",
       "    </tr>\n",
       "    <tr>\n",
       "      <th>1</th>\n",
       "      <td>240</td>\n",
       "      <td>5</td>\n",
       "      <td>5</td>\n",
       "      <td>4</td>\n",
       "      <td>3300.0</td>\n",
       "      <td>0</td>\n",
       "      <td>0</td>\n",
       "      <td>0</td>\n",
       "      <td>0</td>\n",
       "      <td>1</td>\n",
       "    </tr>\n",
       "    <tr>\n",
       "      <th>2</th>\n",
       "      <td>205</td>\n",
       "      <td>3</td>\n",
       "      <td>4</td>\n",
       "      <td>2</td>\n",
       "      <td>2380.0</td>\n",
       "      <td>0</td>\n",
       "      <td>0</td>\n",
       "      <td>0</td>\n",
       "      <td>0</td>\n",
       "      <td>1</td>\n",
       "    </tr>\n",
       "    <tr>\n",
       "      <th>3</th>\n",
       "      <td>56</td>\n",
       "      <td>2</td>\n",
       "      <td>2</td>\n",
       "      <td>1</td>\n",
       "      <td>630.0</td>\n",
       "      <td>0</td>\n",
       "      <td>0</td>\n",
       "      <td>0</td>\n",
       "      <td>0</td>\n",
       "      <td>1</td>\n",
       "    </tr>\n",
       "    <tr>\n",
       "      <th>4</th>\n",
       "      <td>45</td>\n",
       "      <td>1</td>\n",
       "      <td>1</td>\n",
       "      <td>1</td>\n",
       "      <td>612.0</td>\n",
       "      <td>0</td>\n",
       "      <td>0</td>\n",
       "      <td>0</td>\n",
       "      <td>0</td>\n",
       "      <td>1</td>\n",
       "    </tr>\n",
       "  </tbody>\n",
       "</table>\n",
       "</div>"
      ],
      "text/plain": [
       "   area  quartos  banheiros  vagas  condominio  zona_Centro  zona_Leste  \\\n",
       "0    46        1          1      1       600.0            0           0   \n",
       "1   240        5          5      4      3300.0            0           0   \n",
       "2   205        3          4      2      2380.0            0           0   \n",
       "3    56        2          2      1       630.0            0           0   \n",
       "4    45        1          1      1       612.0            0           0   \n",
       "\n",
       "   zona_Norte  zona_Oeste  zona_Sul  \n",
       "0           0           0         1  \n",
       "1           0           0         1  \n",
       "2           0           0         1  \n",
       "3           0           0         1  \n",
       "4           0           0         1  "
      ]
     },
     "execution_count": 87,
     "metadata": {},
     "output_type": "execute_result"
    }
   ],
   "source": [
    "X.head()"
   ]
  },
  {
   "cell_type": "markdown",
   "id": "65027749",
   "metadata": {},
   "source": [
    "$$ aluguel = w_1*area + w_2*quartos + w_3*banheiros + w_4*condominio .... + w_9*zona_Sul $$"
   ]
  },
  {
   "cell_type": "code",
   "execution_count": 89,
   "id": "4bac9658",
   "metadata": {},
   "outputs": [
    {
     "data": {
      "text/plain": [
       "array([ 6.73381136e+01, -1.61770622e+03,  2.59479991e+02,  5.28867890e+02,\n",
       "        1.66077767e-03, -2.86283140e+02, -3.12090314e+02, -7.16891105e+01,\n",
       "       -2.01573477e+01,  6.90219912e+02])"
      ]
     },
     "execution_count": 89,
     "metadata": {},
     "output_type": "execute_result"
    }
   ],
   "source": [
    "reg.coef_"
   ]
  },
  {
   "cell_type": "code",
   "execution_count": 90,
   "id": "ff14194e",
   "metadata": {},
   "outputs": [
    {
     "data": {
      "text/plain": [
       "234.96413798075764"
      ]
     },
     "execution_count": 90,
     "metadata": {},
     "output_type": "execute_result"
    }
   ],
   "source": [
    "reg.intercept_"
   ]
  },
  {
   "cell_type": "code",
   "execution_count": 92,
   "id": "7b77928a",
   "metadata": {},
   "outputs": [
    {
     "data": {
      "text/plain": [
       "array([3981.36430395])"
      ]
     },
     "execution_count": 92,
     "metadata": {},
     "output_type": "execute_result"
    }
   ],
   "source": [
    "reg.predict([[70, 2, 2, 2, 740, 0, 0, 0, 0, 1]])"
   ]
  },
  {
   "cell_type": "code",
   "execution_count": 95,
   "id": "07e22fb6",
   "metadata": {},
   "outputs": [],
   "source": [
    "X2 = np.log1p(X)"
   ]
  },
  {
   "cell_type": "code",
   "execution_count": 96,
   "id": "92284e59",
   "metadata": {},
   "outputs": [
    {
     "data": {
      "text/plain": [
       "LinearRegression()"
      ]
     },
     "execution_count": 96,
     "metadata": {},
     "output_type": "execute_result"
    }
   ],
   "source": [
    "reg2 = LinearRegression()\n",
    "reg2.fit(X2,y)"
   ]
  },
  {
   "cell_type": "code",
   "execution_count": 97,
   "id": "73907dfa",
   "metadata": {},
   "outputs": [
    {
     "data": {
      "text/plain": [
       "array([352795.78983006])"
      ]
     },
     "execution_count": 97,
     "metadata": {},
     "output_type": "execute_result"
    }
   ],
   "source": [
    "reg2.predict([[70, 2, 2, 2, 740, 0, 0, 0, 0, 1]])"
   ]
  },
  {
   "cell_type": "code",
   "execution_count": 120,
   "id": "72f0610e",
   "metadata": {},
   "outputs": [
    {
     "data": {
      "text/plain": [
       "DecisionTreeRegressor(max_depth=2)"
      ]
     },
     "execution_count": 120,
     "metadata": {},
     "output_type": "execute_result"
    }
   ],
   "source": [
    "from sklearn.tree import DecisionTreeRegressor\n",
    "dt = DecisionTreeRegressor(max_depth=2)\n",
    "dt.fit(X,y)"
   ]
  },
  {
   "cell_type": "code",
   "execution_count": 118,
   "id": "39035980",
   "metadata": {},
   "outputs": [
    {
     "data": {
      "text/html": [
       "<div>\n",
       "<style scoped>\n",
       "    .dataframe tbody tr th:only-of-type {\n",
       "        vertical-align: middle;\n",
       "    }\n",
       "\n",
       "    .dataframe tbody tr th {\n",
       "        vertical-align: top;\n",
       "    }\n",
       "\n",
       "    .dataframe thead th {\n",
       "        text-align: right;\n",
       "    }\n",
       "</style>\n",
       "<table border=\"1\" class=\"dataframe\">\n",
       "  <thead>\n",
       "    <tr style=\"text-align: right;\">\n",
       "      <th></th>\n",
       "      <th>area</th>\n",
       "      <th>quartos</th>\n",
       "      <th>banheiros</th>\n",
       "      <th>vagas</th>\n",
       "      <th>preco</th>\n",
       "      <th>condominio</th>\n",
       "      <th>bairro</th>\n",
       "      <th>zona</th>\n",
       "    </tr>\n",
       "  </thead>\n",
       "  <tbody>\n",
       "    <tr>\n",
       "      <th>0</th>\n",
       "      <td>46</td>\n",
       "      <td>1</td>\n",
       "      <td>1</td>\n",
       "      <td>1</td>\n",
       "      <td>3400.0</td>\n",
       "      <td>600.0</td>\n",
       "      <td>Moema</td>\n",
       "      <td>Sul</td>\n",
       "    </tr>\n",
       "    <tr>\n",
       "      <th>1</th>\n",
       "      <td>240</td>\n",
       "      <td>5</td>\n",
       "      <td>5</td>\n",
       "      <td>4</td>\n",
       "      <td>15000.0</td>\n",
       "      <td>3300.0</td>\n",
       "      <td>Chácara Santo Antônio</td>\n",
       "      <td>Sul</td>\n",
       "    </tr>\n",
       "    <tr>\n",
       "      <th>2</th>\n",
       "      <td>205</td>\n",
       "      <td>3</td>\n",
       "      <td>4</td>\n",
       "      <td>2</td>\n",
       "      <td>7900.0</td>\n",
       "      <td>2380.0</td>\n",
       "      <td>Itaim Bibi</td>\n",
       "      <td>Sul</td>\n",
       "    </tr>\n",
       "    <tr>\n",
       "      <th>3</th>\n",
       "      <td>56</td>\n",
       "      <td>2</td>\n",
       "      <td>2</td>\n",
       "      <td>1</td>\n",
       "      <td>2900.0</td>\n",
       "      <td>630.0</td>\n",
       "      <td>Vila Mariana</td>\n",
       "      <td>Sul</td>\n",
       "    </tr>\n",
       "    <tr>\n",
       "      <th>4</th>\n",
       "      <td>45</td>\n",
       "      <td>1</td>\n",
       "      <td>1</td>\n",
       "      <td>1</td>\n",
       "      <td>2800.0</td>\n",
       "      <td>612.0</td>\n",
       "      <td>Moema</td>\n",
       "      <td>Sul</td>\n",
       "    </tr>\n",
       "  </tbody>\n",
       "</table>\n",
       "</div>"
      ],
      "text/plain": [
       "   area  quartos  banheiros  vagas    preco  condominio  \\\n",
       "0    46        1          1      1   3400.0       600.0   \n",
       "1   240        5          5      4  15000.0      3300.0   \n",
       "2   205        3          4      2   7900.0      2380.0   \n",
       "3    56        2          2      1   2900.0       630.0   \n",
       "4    45        1          1      1   2800.0       612.0   \n",
       "\n",
       "                   bairro zona  \n",
       "0                   Moema  Sul  \n",
       "1   Chácara Santo Antônio  Sul  \n",
       "2              Itaim Bibi  Sul  \n",
       "3            Vila Mariana  Sul  \n",
       "4                   Moema  Sul  "
      ]
     },
     "execution_count": 118,
     "metadata": {},
     "output_type": "execute_result"
    }
   ],
   "source": [
    "dados2 = dados[dados['preco']<=20000]\n",
    "dados2.head()"
   ]
  },
  {
   "cell_type": "code",
   "execution_count": 110,
   "id": "cf0c2699",
   "metadata": {},
   "outputs": [
    {
     "data": {
      "text/html": [
       "<div>\n",
       "<style scoped>\n",
       "    .dataframe tbody tr th:only-of-type {\n",
       "        vertical-align: middle;\n",
       "    }\n",
       "\n",
       "    .dataframe tbody tr th {\n",
       "        vertical-align: top;\n",
       "    }\n",
       "\n",
       "    .dataframe thead th {\n",
       "        text-align: right;\n",
       "    }\n",
       "</style>\n",
       "<table border=\"1\" class=\"dataframe\">\n",
       "  <thead>\n",
       "    <tr style=\"text-align: right;\">\n",
       "      <th></th>\n",
       "      <th>area</th>\n",
       "      <th>quartos</th>\n",
       "      <th>banheiros</th>\n",
       "      <th>vagas</th>\n",
       "      <th>condominio</th>\n",
       "      <th>zona_Centro</th>\n",
       "      <th>zona_Leste</th>\n",
       "      <th>zona_Norte</th>\n",
       "      <th>zona_Oeste</th>\n",
       "      <th>zona_Sul</th>\n",
       "    </tr>\n",
       "  </thead>\n",
       "  <tbody>\n",
       "    <tr>\n",
       "      <th>0</th>\n",
       "      <td>46</td>\n",
       "      <td>1</td>\n",
       "      <td>1</td>\n",
       "      <td>1</td>\n",
       "      <td>600.0</td>\n",
       "      <td>0</td>\n",
       "      <td>0</td>\n",
       "      <td>0</td>\n",
       "      <td>0</td>\n",
       "      <td>1</td>\n",
       "    </tr>\n",
       "    <tr>\n",
       "      <th>1</th>\n",
       "      <td>240</td>\n",
       "      <td>5</td>\n",
       "      <td>5</td>\n",
       "      <td>4</td>\n",
       "      <td>3300.0</td>\n",
       "      <td>0</td>\n",
       "      <td>0</td>\n",
       "      <td>0</td>\n",
       "      <td>0</td>\n",
       "      <td>1</td>\n",
       "    </tr>\n",
       "    <tr>\n",
       "      <th>2</th>\n",
       "      <td>205</td>\n",
       "      <td>3</td>\n",
       "      <td>4</td>\n",
       "      <td>2</td>\n",
       "      <td>2380.0</td>\n",
       "      <td>0</td>\n",
       "      <td>0</td>\n",
       "      <td>0</td>\n",
       "      <td>0</td>\n",
       "      <td>1</td>\n",
       "    </tr>\n",
       "    <tr>\n",
       "      <th>3</th>\n",
       "      <td>56</td>\n",
       "      <td>2</td>\n",
       "      <td>2</td>\n",
       "      <td>1</td>\n",
       "      <td>630.0</td>\n",
       "      <td>0</td>\n",
       "      <td>0</td>\n",
       "      <td>0</td>\n",
       "      <td>0</td>\n",
       "      <td>1</td>\n",
       "    </tr>\n",
       "    <tr>\n",
       "      <th>4</th>\n",
       "      <td>45</td>\n",
       "      <td>1</td>\n",
       "      <td>1</td>\n",
       "      <td>1</td>\n",
       "      <td>612.0</td>\n",
       "      <td>0</td>\n",
       "      <td>0</td>\n",
       "      <td>0</td>\n",
       "      <td>0</td>\n",
       "      <td>1</td>\n",
       "    </tr>\n",
       "  </tbody>\n",
       "</table>\n",
       "</div>"
      ],
      "text/plain": [
       "   area  quartos  banheiros  vagas  condominio  zona_Centro  zona_Leste  \\\n",
       "0    46        1          1      1       600.0            0           0   \n",
       "1   240        5          5      4      3300.0            0           0   \n",
       "2   205        3          4      2      2380.0            0           0   \n",
       "3    56        2          2      1       630.0            0           0   \n",
       "4    45        1          1      1       612.0            0           0   \n",
       "\n",
       "   zona_Norte  zona_Oeste  zona_Sul  \n",
       "0           0           0         1  \n",
       "1           0           0         1  \n",
       "2           0           0         1  \n",
       "3           0           0         1  \n",
       "4           0           0         1  "
      ]
     },
     "execution_count": 110,
     "metadata": {},
     "output_type": "execute_result"
    }
   ],
   "source": [
    "X2 = dados2.drop(['bairro','preco'],axis=1)\n",
    "X2 = pd.get_dummies(X2)\n",
    "X2.head()"
   ]
  },
  {
   "cell_type": "code",
   "execution_count": 111,
   "id": "a8f2de01",
   "metadata": {},
   "outputs": [],
   "source": [
    "y2 = dados2['preco']"
   ]
  },
  {
   "cell_type": "code",
   "execution_count": 123,
   "id": "880d611a",
   "metadata": {},
   "outputs": [
    {
     "data": {
      "text/plain": [
       "DecisionTreeRegressor(max_depth=2)"
      ]
     },
     "execution_count": 123,
     "metadata": {},
     "output_type": "execute_result"
    }
   ],
   "source": [
    "dt2 = DecisionTreeRegressor(max_depth=2)\n",
    "dt2.fit(X2,y2)"
   ]
  },
  {
   "cell_type": "code",
   "execution_count": 115,
   "id": "08ee9a3f",
   "metadata": {},
   "outputs": [
    {
     "data": {
      "image/png": "[encoded data removed]",
      "text/plain": [
       "<Figure size 1440x1440 with 1 Axes>"
      ]
     },
     "metadata": {
      "needs_background": "light"
     },
     "output_type": "display_data"
    }
   ],
   "source": [
    "from sklearn import tree\n",
    "plt.figure(figsize=(20,20))\n",
    "tree.plot_tree(dt2,filled=True, feature_names = X.columns);"
   ]
  },
  {
   "cell_type": "code",
   "execution_count": 121,
   "id": "5218a6b3",
   "metadata": {},
   "outputs": [
    {
     "data": {
      "text/plain": [
       "array([2704.99851254])"
      ]
     },
     "execution_count": 121,
     "metadata": {},
     "output_type": "execute_result"
    }
   ],
   "source": [
    "dt.predict([[70, 2, 2, 2, 740, 0, 0, 0, 0, 1]])"
   ]
  },
  {
   "cell_type": "code",
   "execution_count": 124,
   "id": "e44ca142",
   "metadata": {},
   "outputs": [
    {
     "data": {
      "text/plain": [
       "array([2452.30090377])"
      ]
     },
     "execution_count": 124,
     "metadata": {},
     "output_type": "execute_result"
    }
   ],
   "source": [
    "dt2.predict([[70, 2, 2, 2, 740, 0, 0, 0, 0, 1]])"
   ]
  },
  {
   "cell_type": "code",
   "execution_count": null,
   "id": "8d4dbaed",
   "metadata": {},
   "outputs": [],
   "source": []
  }
 ],
 "metadata": {
  "kernelspec": {
   "display_name": "Python 3",
   "language": "python",
   "name": "python3"
  },
  "language_info": {
   "codemirror_mode": {
    "name": "ipython",
    "version": 3
   },
   "file_extension": ".py",
   "mimetype": "text/x-python",
   "name": "python",
   "nbconvert_exporter": "python",
   "pygments_lexer": "ipython3",
   "version": "3.6.9"
  }
 },
 "nbformat": 4,
 "nbformat_minor": 5
}
